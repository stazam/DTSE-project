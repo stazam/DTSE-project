{
  "nbformat": 4,
  "nbformat_minor": 0,
  "metadata": {
    "colab": {
      "name": "DTSE-steam-data-reviews.ipynb",
      "provenance": [],
      "include_colab_link": true
    },
    "kernelspec": {
      "name": "python3",
      "display_name": "Python 3"
    },
    "language_info": {
      "name": "python"
    },
    "accelerator": "GPU"
  },
  "cells": [
    {
      "cell_type": "markdown",
      "metadata": {
        "id": "view-in-github",
        "colab_type": "text"
      },
      "source": [
        "<a href=\"https://colab.research.google.com/github/stazam/DTSE-project/blob/main/DTSE_steam_data_reviews.ipynb\" target=\"_parent\"><img src=\"https://colab.research.google.com/assets/colab-badge.svg\" alt=\"Open In Colab\"/></a>"
      ]
    },
    {
      "cell_type": "markdown",
      "source": [
        "# **Assignment**: steam reviews prediction \n",
        "\n",
        "In this scenario imagine you work as a Data Scientist for Steam gaming platform. Your task is to download historical game review data from https://www.kaggle.com/whoiskk/steam-game-reviews and prepare a ML model which will be used to predict \"user suggestion\" category for future game reviews in production. Please use Python. \n",
        "There are 4 datasets total:\n",
        "-          game_overview.csv\n",
        "-          sample_submission.csv\n",
        "-          test.csv\n",
        "-          train.csv\n",
        "\n",
        "<br></br>\n",
        "Content of this notebook:\n",
        "1. Quick data exploration\n",
        "2. Model building \n",
        "3. Checking the performance \n",
        "4. Optimization\n",
        "5. Time performance. "
      ],
      "metadata": {
        "id": "OsBnODE6yU0o"
      }
    },
    {
      "cell_type": "code",
      "execution_count": 10,
      "metadata": {
        "id": "mXRkzTKdqy74"
      },
      "outputs": [],
      "source": [
        "import tensorflow as tf\n",
        "import keras\n",
        "import numpy as np \n",
        "import matplotlib.pyplot as plt\n",
        "import pandas as pd\n",
        "\n",
        "from sklearn.model_selection import train_test_split\n",
        "from sklearn import metrics\n",
        "\n",
        "from tensorflow.keras.preprocessing.text import Tokenizer\n",
        "from tensorflow.keras.preprocessing.sequence import pad_sequences\n",
        "from tensorflow.keras.models import load_model\n",
        "\n",
        "from keras import applications\n",
        "from keras.models import Sequential\n",
        "from keras.layers import Dense, Embedding, Bidirectional\n",
        "from keras.layers import Convolution2D, MaxPooling2D,BatchNormalization,GlobalAveragePooling1D, Flatten, Dropout\n",
        "from keras import optimizers"
      ]
    },
    {
      "cell_type": "code",
      "source": [
        "#from google.colab import files \n",
        "\n",
        "#uploaded = files.upload()"
      ],
      "metadata": {
        "id": "qkL8fviJ-3HT"
      },
      "execution_count": 11,
      "outputs": []
    },
    {
      "cell_type": "code",
      "source": [
        "df_overview = pd.read_csv('/content/game_overview.csv')\n",
        "df_train = pd.read_csv('/content/train.csv')\n",
        "df_test = pd.read_csv('/content/test.csv')"
      ],
      "metadata": {
        "id": "C84oMDFDxLxE"
      },
      "execution_count": 12,
      "outputs": []
    },
    {
      "cell_type": "code",
      "source": [
        "#import pandas as pd\n",
        "\n",
        "#df_overview = pd.read_csv('/content/drive/MyDrive/DTSE-data/game_overview.csv')\n",
        "#df_train = pd.read_csv('/content/drive/MyDrive/DTSE-data/train.csv')\n",
        "#df_test = pd.read_csv('/content/drive/MyDrive/DTSE-data/test.csv')"
      ],
      "metadata": {
        "id": "4CZ1B1fE-5JO"
      },
      "execution_count": 13,
      "outputs": []
    },
    {
      "cell_type": "markdown",
      "source": [
        "# **Train.csv**"
      ],
      "metadata": {
        "id": "lkrpXJ1wi12q"
      }
    },
    {
      "cell_type": "code",
      "source": [
        "print(df_train.shape)\n",
        "print(\"\")\n",
        "df_train.head()"
      ],
      "metadata": {
        "colab": {
          "base_uri": "https://localhost:8080/",
          "height": 241
        },
        "id": "-yQwdZS0KN4S",
        "outputId": "11351099-e3ab-4492-9ec6-b5d930c48ae8"
      },
      "execution_count": 14,
      "outputs": [
        {
          "output_type": "stream",
          "name": "stdout",
          "text": [
            "(17494, 5)\n",
            "\n"
          ]
        },
        {
          "output_type": "execute_result",
          "data": {
            "text/html": [
              "\n",
              "  <div id=\"df-c7f2d6df-2d16-41d5-8c4c-7a8b422bef42\">\n",
              "    <div class=\"colab-df-container\">\n",
              "      <div>\n",
              "<style scoped>\n",
              "    .dataframe tbody tr th:only-of-type {\n",
              "        vertical-align: middle;\n",
              "    }\n",
              "\n",
              "    .dataframe tbody tr th {\n",
              "        vertical-align: top;\n",
              "    }\n",
              "\n",
              "    .dataframe thead th {\n",
              "        text-align: right;\n",
              "    }\n",
              "</style>\n",
              "<table border=\"1\" class=\"dataframe\">\n",
              "  <thead>\n",
              "    <tr style=\"text-align: right;\">\n",
              "      <th></th>\n",
              "      <th>review_id</th>\n",
              "      <th>title</th>\n",
              "      <th>year</th>\n",
              "      <th>user_review</th>\n",
              "      <th>user_suggestion</th>\n",
              "    </tr>\n",
              "  </thead>\n",
              "  <tbody>\n",
              "    <tr>\n",
              "      <th>0</th>\n",
              "      <td>1</td>\n",
              "      <td>Spooky's Jump Scare Mansion</td>\n",
              "      <td>2016.0</td>\n",
              "      <td>I'm scared and hearing creepy voices.  So I'll...</td>\n",
              "      <td>1</td>\n",
              "    </tr>\n",
              "    <tr>\n",
              "      <th>1</th>\n",
              "      <td>2</td>\n",
              "      <td>Spooky's Jump Scare Mansion</td>\n",
              "      <td>2016.0</td>\n",
              "      <td>Best game, more better than Sam Pepper's YouTu...</td>\n",
              "      <td>1</td>\n",
              "    </tr>\n",
              "    <tr>\n",
              "      <th>2</th>\n",
              "      <td>3</td>\n",
              "      <td>Spooky's Jump Scare Mansion</td>\n",
              "      <td>2016.0</td>\n",
              "      <td>A littly iffy on the controls, but once you kn...</td>\n",
              "      <td>1</td>\n",
              "    </tr>\n",
              "    <tr>\n",
              "      <th>3</th>\n",
              "      <td>4</td>\n",
              "      <td>Spooky's Jump Scare Mansion</td>\n",
              "      <td>2015.0</td>\n",
              "      <td>Great game, fun and colorful and all that.A si...</td>\n",
              "      <td>1</td>\n",
              "    </tr>\n",
              "    <tr>\n",
              "      <th>4</th>\n",
              "      <td>5</td>\n",
              "      <td>Spooky's Jump Scare Mansion</td>\n",
              "      <td>2015.0</td>\n",
              "      <td>Not many games have the cute tag right next to...</td>\n",
              "      <td>1</td>\n",
              "    </tr>\n",
              "  </tbody>\n",
              "</table>\n",
              "</div>\n",
              "      <button class=\"colab-df-convert\" onclick=\"convertToInteractive('df-c7f2d6df-2d16-41d5-8c4c-7a8b422bef42')\"\n",
              "              title=\"Convert this dataframe to an interactive table.\"\n",
              "              style=\"display:none;\">\n",
              "        \n",
              "  <svg xmlns=\"http://www.w3.org/2000/svg\" height=\"24px\"viewBox=\"0 0 24 24\"\n",
              "       width=\"24px\">\n",
              "    <path d=\"M0 0h24v24H0V0z\" fill=\"none\"/>\n",
              "    <path d=\"M18.56 5.44l.94 2.06.94-2.06 2.06-.94-2.06-.94-.94-2.06-.94 2.06-2.06.94zm-11 1L8.5 8.5l.94-2.06 2.06-.94-2.06-.94L8.5 2.5l-.94 2.06-2.06.94zm10 10l.94 2.06.94-2.06 2.06-.94-2.06-.94-.94-2.06-.94 2.06-2.06.94z\"/><path d=\"M17.41 7.96l-1.37-1.37c-.4-.4-.92-.59-1.43-.59-.52 0-1.04.2-1.43.59L10.3 9.45l-7.72 7.72c-.78.78-.78 2.05 0 2.83L4 21.41c.39.39.9.59 1.41.59.51 0 1.02-.2 1.41-.59l7.78-7.78 2.81-2.81c.8-.78.8-2.07 0-2.86zM5.41 20L4 18.59l7.72-7.72 1.47 1.35L5.41 20z\"/>\n",
              "  </svg>\n",
              "      </button>\n",
              "      \n",
              "  <style>\n",
              "    .colab-df-container {\n",
              "      display:flex;\n",
              "      flex-wrap:wrap;\n",
              "      gap: 12px;\n",
              "    }\n",
              "\n",
              "    .colab-df-convert {\n",
              "      background-color: #E8F0FE;\n",
              "      border: none;\n",
              "      border-radius: 50%;\n",
              "      cursor: pointer;\n",
              "      display: none;\n",
              "      fill: #1967D2;\n",
              "      height: 32px;\n",
              "      padding: 0 0 0 0;\n",
              "      width: 32px;\n",
              "    }\n",
              "\n",
              "    .colab-df-convert:hover {\n",
              "      background-color: #E2EBFA;\n",
              "      box-shadow: 0px 1px 2px rgba(60, 64, 67, 0.3), 0px 1px 3px 1px rgba(60, 64, 67, 0.15);\n",
              "      fill: #174EA6;\n",
              "    }\n",
              "\n",
              "    [theme=dark] .colab-df-convert {\n",
              "      background-color: #3B4455;\n",
              "      fill: #D2E3FC;\n",
              "    }\n",
              "\n",
              "    [theme=dark] .colab-df-convert:hover {\n",
              "      background-color: #434B5C;\n",
              "      box-shadow: 0px 1px 3px 1px rgba(0, 0, 0, 0.15);\n",
              "      filter: drop-shadow(0px 1px 2px rgba(0, 0, 0, 0.3));\n",
              "      fill: #FFFFFF;\n",
              "    }\n",
              "  </style>\n",
              "\n",
              "      <script>\n",
              "        const buttonEl =\n",
              "          document.querySelector('#df-c7f2d6df-2d16-41d5-8c4c-7a8b422bef42 button.colab-df-convert');\n",
              "        buttonEl.style.display =\n",
              "          google.colab.kernel.accessAllowed ? 'block' : 'none';\n",
              "\n",
              "        async function convertToInteractive(key) {\n",
              "          const element = document.querySelector('#df-c7f2d6df-2d16-41d5-8c4c-7a8b422bef42');\n",
              "          const dataTable =\n",
              "            await google.colab.kernel.invokeFunction('convertToInteractive',\n",
              "                                                     [key], {});\n",
              "          if (!dataTable) return;\n",
              "\n",
              "          const docLinkHtml = 'Like what you see? Visit the ' +\n",
              "            '<a target=\"_blank\" href=https://colab.research.google.com/notebooks/data_table.ipynb>data table notebook</a>'\n",
              "            + ' to learn more about interactive tables.';\n",
              "          element.innerHTML = '';\n",
              "          dataTable['output_type'] = 'display_data';\n",
              "          await google.colab.output.renderOutput(dataTable, element);\n",
              "          const docLink = document.createElement('div');\n",
              "          docLink.innerHTML = docLinkHtml;\n",
              "          element.appendChild(docLink);\n",
              "        }\n",
              "      </script>\n",
              "    </div>\n",
              "  </div>\n",
              "  "
            ],
            "text/plain": [
              "   review_id  ... user_suggestion\n",
              "0          1  ...               1\n",
              "1          2  ...               1\n",
              "2          3  ...               1\n",
              "3          4  ...               1\n",
              "4          5  ...               1\n",
              "\n",
              "[5 rows x 5 columns]"
            ]
          },
          "metadata": {},
          "execution_count": 14
        }
      ]
    },
    {
      "cell_type": "code",
      "source": [
        "df_train.dtypes"
      ],
      "metadata": {
        "colab": {
          "base_uri": "https://localhost:8080/"
        },
        "id": "UGaHVXc7I-N3",
        "outputId": "a17f3879-cb2c-4d46-90f9-cb7fb617d212"
      },
      "execution_count": 15,
      "outputs": [
        {
          "output_type": "execute_result",
          "data": {
            "text/plain": [
              "review_id            int64\n",
              "title               object\n",
              "year               float64\n",
              "user_review         object\n",
              "user_suggestion      int64\n",
              "dtype: object"
            ]
          },
          "metadata": {},
          "execution_count": 15
        }
      ]
    },
    {
      "cell_type": "markdown",
      "source": [
        "Vidíme, že máme 3 numerické premenné, jednu kateogriálnu a jednu s textom\n",
        "<br></br>\n",
        "We can see that our train data are moreless balanced dataset. We dont need to treat them specially."
      ],
      "metadata": {
        "id": "A5RmxCXBJUVG"
      }
    },
    {
      "cell_type": "code",
      "source": [
        "plt.figure(1)\n",
        "df_train.user_suggestion.value_counts().plot(kind='bar')\n",
        "plt.show()"
      ],
      "metadata": {
        "colab": {
          "base_uri": "https://localhost:8080/",
          "height": 262
        },
        "id": "bTpLr8xcLo64",
        "outputId": "7436f3fd-fc58-401e-b103-1c9a12bd5583"
      },
      "execution_count": 16,
      "outputs": [
        {
          "output_type": "display_data",
          "data": {
            "image/png": "[encoded data removed]",
            "text/plain": [
              "<Figure size 432x288 with 1 Axes>"
            ]
          },
          "metadata": {
            "needs_background": "light"
          }
        }
      ]
    },
    {
      "cell_type": "markdown",
      "source": [
        "# **Numerical variables**"
      ],
      "metadata": {
        "id": "9AWjXLGgLtaa"
      }
    },
    {
      "cell_type": "code",
      "source": [
        "for i, val in enumerate(df_train.isnull().any()):\n",
        "  if val:\n",
        "    print(\"The number of missing values in variable \\\"{}\\\" is {}\".format(df_train.columns[i],df_train.isnull().sum()[i]))\n"
      ],
      "metadata": {
        "colab": {
          "base_uri": "https://localhost:8080/"
        },
        "id": "_ZHFtZI_Cqkx",
        "outputId": "3d4d5dc2-f742-4563-b460-fdf80799d88a"
      },
      "execution_count": 17,
      "outputs": [
        {
          "output_type": "stream",
          "name": "stdout",
          "text": [
            "The number of missing values in variable \"year\" is 178\n"
          ]
        }
      ]
    },
    {
      "cell_type": "markdown",
      "source": [
        "Since we see, there are 178 missing values in column \"year\" (others are not missing), we will go in two directions. First, we let the value as a missing one or replace it with the use of some different inputational techniques - mode, median, and train neural net for imputing missing table data.\n",
        "\n",
        "1. mode - for every category input the most frequent year"
      ],
      "metadata": {
        "id": "XX-Zc2kSFfmy"
      }
    },
    {
      "cell_type": "code",
      "source": [
        "df_train.year"
      ],
      "metadata": {
        "colab": {
          "base_uri": "https://localhost:8080/"
        },
        "id": "Ox7CE7dZEc1-",
        "outputId": "e7751c32-cf15-4ba0-a9e1-8f1cde22f985"
      },
      "execution_count": 18,
      "outputs": [
        {
          "output_type": "execute_result",
          "data": {
            "text/plain": [
              "0        2016.0\n",
              "1        2016.0\n",
              "2        2016.0\n",
              "3        2015.0\n",
              "4        2015.0\n",
              "          ...  \n",
              "17489    2012.0\n",
              "17490    2017.0\n",
              "17491    2011.0\n",
              "17492       NaN\n",
              "17493       NaN\n",
              "Name: year, Length: 17494, dtype: float64"
            ]
          },
          "metadata": {},
          "execution_count": 18
        }
      ]
    },
    {
      "cell_type": "markdown",
      "source": [
        "Natrenujem embedding pomocou textu a vysledkov a to potom pouzijem do modelu\n",
        "\n",
        "SPecialne najprv osetrit numericke premenne a potom kategorialne.\n",
        "\n",
        "Na konci ked budem popisovat casovuspotrebu tak tam aj napisem ze z casoveho hladiska by som zvolil ten rychlejsi model atd"
      ],
      "metadata": {
        "id": "BLmFBx8eJrIU"
      }
    },
    {
      "cell_type": "markdown",
      "source": [
        "# **Categorical variables**\n"
      ],
      "metadata": {
        "id": "l8DIpKwWKcH2"
      }
    },
    {
      "cell_type": "markdown",
      "source": [
        "We have two categorical varibales **title** and also **user_review**. We will give a special attention to user_review, since it is a long string variable which potentianally carrie a lots of information."
      ],
      "metadata": {
        "id": "1zdVzZ-wkABy"
      }
    },
    {
      "cell_type": "code",
      "source": [
        "print(\"Number of unique categories of \\\"title\\\" variable is {}\".format(len(df_train.title.unique())))"
      ],
      "metadata": {
        "colab": {
          "base_uri": "https://localhost:8080/"
        },
        "id": "Xd4N5ezHKe9D",
        "outputId": "2bf98079-5e00-4966-eeea-da0e20a4bde2"
      },
      "execution_count": 19,
      "outputs": [
        {
          "output_type": "stream",
          "name": "stdout",
          "text": [
            "Number of unique categories of \"title\" variable is 44\n"
          ]
        }
      ]
    },
    {
      "cell_type": "code",
      "source": [
        "plt.figure(1)\n",
        "df_train.title.value_counts().plot(kind='bar')\n",
        "plt.show()\n",
        "\n",
        "df_train.title.value_counts()"
      ],
      "metadata": {
        "colab": {
          "base_uri": "https://localhost:8080/",
          "height": 1000
        },
        "id": "38OuTMF4KzuE",
        "outputId": "ab20c9c1-2771-4326-dee5-b3709c20b10d"
      },
      "execution_count": 20,
      "outputs": [
        {
          "output_type": "display_data",
          "data": {
            "image/png": "[encoded data removed]",
            "text/plain": [
              "<Figure size 432x288 with 1 Axes>"
            ]
          },
          "metadata": {
            "needs_background": "light"
          }
        },
        {
          "output_type": "execute_result",
          "data": {
            "text/plain": [
              "Robocraft                                             842\n",
              "Eternal Card Game                                     791\n",
              "Heroes & Generals                                     745\n",
              "War Thunder                                           720\n",
              "Fractured Space                                       718\n",
              "Bless Online                                          712\n",
              "The Elder Scrolls®: Legends™                          565\n",
              "Neverwinter                                           546\n",
              "AdventureQuest 3D                                     519\n",
              "theHunter Classic                                     518\n",
              "Creativerse                                           492\n",
              "DCS World Steam Edition                               488\n",
              "Infestation: The New Z                                479\n",
              "Team Fortress 2                                       479\n",
              "PlanetSide 2                                          472\n",
              "Path of Exile                                         458\n",
              "SMITE®                                                454\n",
              "Fallout Shelter                                       447\n",
              "Realm Royale                                          442\n",
              "Trove                                                 430\n",
              "Ring of Elysium                                       419\n",
              "RaceRoom Racing Experience                            416\n",
              "Brawlhalla                                            410\n",
              "Dota 2                                                405\n",
              "Yu-Gi-Oh! Duel Links                                  399\n",
              "Cuisine Royale                                        399\n",
              "Spooky's Jump Scare Mansion                           362\n",
              "Elsword                                               342\n",
              "Realm of the Mad God                                  340\n",
              "World of Tanks Blitz                                  327\n",
              "WARMODE                                               300\n",
              "World of Guns: Gun Disassembly                        293\n",
              "Black Squad                                           288\n",
              "School of Dragons                                     268\n",
              "Bloons TD Battles                                     233\n",
              "Sakura Clicker                                        222\n",
              "Business Tour - Board Game with Online Multiplayer    191\n",
              "Realm Grinder                                         155\n",
              "Crusaders of the Lost Idols                           132\n",
              "EverQuest II                                           69\n",
              "Dreadnought                                            60\n",
              "Freestyle 2: Street Basketball                         57\n",
              "Shop Heroes                                            52\n",
              "Tactical Monsters Rumble Arena                         38\n",
              "Name: title, dtype: int64"
            ]
          },
          "metadata": {},
          "execution_count": 20
        }
      ]
    },
    {
      "cell_type": "markdown",
      "source": [
        "So we see that we have categories with many observations and also categories with fewer ones. Since I plan to use Neural network, they normally do not have problems with too many categories if we have enough data. But from my experience, in terms of smaller datasets, what usually helps is to put the categories with less observation into one common category \"Other\". So we will try also to improve performace with this \"shortcut\"."
      ],
      "metadata": {
        "id": "h2R8me_bMVhe"
      }
    },
    {
      "cell_type": "code",
      "source": [
        "#df_train.title.replace({'EverQuest II':'other', 'Dreadnought':'other', 'Freestyle 2: Street Basketball':'other', 'Shop Heroes':'other', 'Tactical Monsters Rumble Arena':'other'}, inplace=True)\n",
        "\n",
        "#print(\"Number of unique categories of \\\"title\\\" variable is {}\".format(len(df_train.title.unique())))"
      ],
      "metadata": {
        "id": "j93JG5jUMKkW"
      },
      "execution_count": 21,
      "outputs": []
    },
    {
      "cell_type": "markdown",
      "source": [
        "# **Overview**"
      ],
      "metadata": {
        "id": "KhwzSuOLk5wu"
      }
    },
    {
      "cell_type": "code",
      "source": [
        "df_overview.head()"
      ],
      "metadata": {
        "colab": {
          "base_uri": "https://localhost:8080/",
          "height": 0
        },
        "id": "9ns-WmuGk5Bj",
        "outputId": "d84eb3c8-4b0e-468c-cc25-348387e340dc"
      },
      "execution_count": 22,
      "outputs": [
        {
          "output_type": "execute_result",
          "data": {
            "text/html": [
              "\n",
              "  <div id=\"df-838f5adf-bbbb-494e-85cf-b49ab90a5f7e\">\n",
              "    <div class=\"colab-df-container\">\n",
              "      <div>\n",
              "<style scoped>\n",
              "    .dataframe tbody tr th:only-of-type {\n",
              "        vertical-align: middle;\n",
              "    }\n",
              "\n",
              "    .dataframe tbody tr th {\n",
              "        vertical-align: top;\n",
              "    }\n",
              "\n",
              "    .dataframe thead th {\n",
              "        text-align: right;\n",
              "    }\n",
              "</style>\n",
              "<table border=\"1\" class=\"dataframe\">\n",
              "  <thead>\n",
              "    <tr style=\"text-align: right;\">\n",
              "      <th></th>\n",
              "      <th>title</th>\n",
              "      <th>developer</th>\n",
              "      <th>publisher</th>\n",
              "      <th>tags</th>\n",
              "      <th>overview</th>\n",
              "    </tr>\n",
              "  </thead>\n",
              "  <tbody>\n",
              "    <tr>\n",
              "      <th>0</th>\n",
              "      <td>Spooky's Jump Scare Mansion</td>\n",
              "      <td>Lag Studios</td>\n",
              "      <td>Lag Studios</td>\n",
              "      <td>['Horror', 'Free to Play', 'Cute', 'First-Pers...</td>\n",
              "      <td>Can you survive 1000 rooms of cute terror? Or ...</td>\n",
              "    </tr>\n",
              "    <tr>\n",
              "      <th>1</th>\n",
              "      <td>Sakura Clicker</td>\n",
              "      <td>Winged Cloud</td>\n",
              "      <td>Winged Cloud</td>\n",
              "      <td>['Nudity', 'Anime', 'Free to Play', 'Mature', ...</td>\n",
              "      <td>The latest entry in the Sakura series is more ...</td>\n",
              "    </tr>\n",
              "    <tr>\n",
              "      <th>2</th>\n",
              "      <td>WARMODE</td>\n",
              "      <td>WARTEAM</td>\n",
              "      <td>WARTEAM</td>\n",
              "      <td>['Early Access', 'Free to Play', 'FPS', 'Multi...</td>\n",
              "      <td>Free to play shooter about the confrontation o...</td>\n",
              "    </tr>\n",
              "    <tr>\n",
              "      <th>3</th>\n",
              "      <td>Fractured Space</td>\n",
              "      <td>Edge Case Games Ltd.</td>\n",
              "      <td>Edge Case Games Ltd.</td>\n",
              "      <td>['Space', 'Multiplayer', 'Free to Play', 'PvP'...</td>\n",
              "      <td>Take the helm of a gigantic capital ship and g...</td>\n",
              "    </tr>\n",
              "    <tr>\n",
              "      <th>4</th>\n",
              "      <td>Counter-Strike: Global Offensive</td>\n",
              "      <td>Valve, Hidden Path Entertainment</td>\n",
              "      <td>Valve</td>\n",
              "      <td>['FPS', 'Multiplayer', 'Shooter', 'Action', 'T...</td>\n",
              "      <td>Counter-Strike: Global Offensive (CS: GO) expa...</td>\n",
              "    </tr>\n",
              "  </tbody>\n",
              "</table>\n",
              "</div>\n",
              "      <button class=\"colab-df-convert\" onclick=\"convertToInteractive('df-838f5adf-bbbb-494e-85cf-b49ab90a5f7e')\"\n",
              "              title=\"Convert this dataframe to an interactive table.\"\n",
              "              style=\"display:none;\">\n",
              "        \n",
              "  <svg xmlns=\"http://www.w3.org/2000/svg\" height=\"24px\"viewBox=\"0 0 24 24\"\n",
              "       width=\"24px\">\n",
              "    <path d=\"M0 0h24v24H0V0z\" fill=\"none\"/>\n",
              "    <path d=\"M18.56 5.44l.94 2.06.94-2.06 2.06-.94-2.06-.94-.94-2.06-.94 2.06-2.06.94zm-11 1L8.5 8.5l.94-2.06 2.06-.94-2.06-.94L8.5 2.5l-.94 2.06-2.06.94zm10 10l.94 2.06.94-2.06 2.06-.94-2.06-.94-.94-2.06-.94 2.06-2.06.94z\"/><path d=\"M17.41 7.96l-1.37-1.37c-.4-.4-.92-.59-1.43-.59-.52 0-1.04.2-1.43.59L10.3 9.45l-7.72 7.72c-.78.78-.78 2.05 0 2.83L4 21.41c.39.39.9.59 1.41.59.51 0 1.02-.2 1.41-.59l7.78-7.78 2.81-2.81c.8-.78.8-2.07 0-2.86zM5.41 20L4 18.59l7.72-7.72 1.47 1.35L5.41 20z\"/>\n",
              "  </svg>\n",
              "      </button>\n",
              "      \n",
              "  <style>\n",
              "    .colab-df-container {\n",
              "      display:flex;\n",
              "      flex-wrap:wrap;\n",
              "      gap: 12px;\n",
              "    }\n",
              "\n",
              "    .colab-df-convert {\n",
              "      background-color: #E8F0FE;\n",
              "      border: none;\n",
              "      border-radius: 50%;\n",
              "      cursor: pointer;\n",
              "      display: none;\n",
              "      fill: #1967D2;\n",
              "      height: 32px;\n",
              "      padding: 0 0 0 0;\n",
              "      width: 32px;\n",
              "    }\n",
              "\n",
              "    .colab-df-convert:hover {\n",
              "      background-color: #E2EBFA;\n",
              "      box-shadow: 0px 1px 2px rgba(60, 64, 67, 0.3), 0px 1px 3px 1px rgba(60, 64, 67, 0.15);\n",
              "      fill: #174EA6;\n",
              "    }\n",
              "\n",
              "    [theme=dark] .colab-df-convert {\n",
              "      background-color: #3B4455;\n",
              "      fill: #D2E3FC;\n",
              "    }\n",
              "\n",
              "    [theme=dark] .colab-df-convert:hover {\n",
              "      background-color: #434B5C;\n",
              "      box-shadow: 0px 1px 3px 1px rgba(0, 0, 0, 0.15);\n",
              "      filter: drop-shadow(0px 1px 2px rgba(0, 0, 0, 0.3));\n",
              "      fill: #FFFFFF;\n",
              "    }\n",
              "  </style>\n",
              "\n",
              "      <script>\n",
              "        const buttonEl =\n",
              "          document.querySelector('#df-838f5adf-bbbb-494e-85cf-b49ab90a5f7e button.colab-df-convert');\n",
              "        buttonEl.style.display =\n",
              "          google.colab.kernel.accessAllowed ? 'block' : 'none';\n",
              "\n",
              "        async function convertToInteractive(key) {\n",
              "          const element = document.querySelector('#df-838f5adf-bbbb-494e-85cf-b49ab90a5f7e');\n",
              "          const dataTable =\n",
              "            await google.colab.kernel.invokeFunction('convertToInteractive',\n",
              "                                                     [key], {});\n",
              "          if (!dataTable) return;\n",
              "\n",
              "          const docLinkHtml = 'Like what you see? Visit the ' +\n",
              "            '<a target=\"_blank\" href=https://colab.research.google.com/notebooks/data_table.ipynb>data table notebook</a>'\n",
              "            + ' to learn more about interactive tables.';\n",
              "          element.innerHTML = '';\n",
              "          dataTable['output_type'] = 'display_data';\n",
              "          await google.colab.output.renderOutput(dataTable, element);\n",
              "          const docLink = document.createElement('div');\n",
              "          docLink.innerHTML = docLinkHtml;\n",
              "          element.appendChild(docLink);\n",
              "        }\n",
              "      </script>\n",
              "    </div>\n",
              "  </div>\n",
              "  "
            ],
            "text/plain": [
              "                              title  ...                                           overview\n",
              "0       Spooky's Jump Scare Mansion  ...  Can you survive 1000 rooms of cute terror? Or ...\n",
              "1                    Sakura Clicker  ...  The latest entry in the Sakura series is more ...\n",
              "2                           WARMODE  ...  Free to play shooter about the confrontation o...\n",
              "3                   Fractured Space  ...  Take the helm of a gigantic capital ship and g...\n",
              "4  Counter-Strike: Global Offensive  ...  Counter-Strike: Global Offensive (CS: GO) expa...\n",
              "\n",
              "[5 rows x 5 columns]"
            ]
          },
          "metadata": {},
          "execution_count": 22
        }
      ]
    },
    {
      "cell_type": "code",
      "source": [
        "df_overview.dtypes"
      ],
      "metadata": {
        "colab": {
          "base_uri": "https://localhost:8080/"
        },
        "id": "en0bqRpNlGFn",
        "outputId": "576209f7-79dd-45a8-a1e7-5ad73900e04d"
      },
      "execution_count": 23,
      "outputs": [
        {
          "output_type": "execute_result",
          "data": {
            "text/plain": [
              "title        object\n",
              "developer    object\n",
              "publisher    object\n",
              "tags         object\n",
              "overview     object\n",
              "dtype: object"
            ]
          },
          "metadata": {},
          "execution_count": 23
        }
      ]
    },
    {
      "cell_type": "markdown",
      "source": [
        "We can see that in df_overview is other potential information, which we could use for train set. To be more specific - developer, publisher, tags, overview. Before that we check missing values. "
      ],
      "metadata": {
        "id": "qvH-ihXIlKrv"
      }
    },
    {
      "cell_type": "code",
      "source": [
        "for i, val in enumerate(df_overview.isnull().any()):\n",
        "  if val:\n",
        "    print(\"The number of missing values in variable \\\"{}\\\" is {}\".format(df_overview.columns[i],df_overview.isnull().sum()[i]))"
      ],
      "metadata": {
        "id": "l5jxAXhDlgMR"
      },
      "execution_count": 24,
      "outputs": []
    },
    {
      "cell_type": "code",
      "source": [
        "for col in df_overview.columns:\n",
        "    print( \"The column %s has: %d categories\" %(col,len(df_overview[col].unique())))\n",
        "\n",
        "#print(\"Number of unique categories of \\\"title\\\" variable is {}\".format(len(df_train.title.unique())))"
      ],
      "metadata": {
        "colab": {
          "base_uri": "https://localhost:8080/"
        },
        "id": "ZNmW9nE2rs8l",
        "outputId": "bac2cf91-7441-4af9-b508-a94fdd52f286"
      },
      "execution_count": 25,
      "outputs": [
        {
          "output_type": "stream",
          "name": "stdout",
          "text": [
            "The column title has: 64 categories\n",
            "The column developer has: 59 categories\n",
            "The column publisher has: 54 categories\n",
            "The column tags has: 64 categories\n",
            "The column overview has: 62 categories\n"
          ]
        }
      ]
    },
    {
      "cell_type": "markdown",
      "source": [
        "."
      ],
      "metadata": {
        "id": "r464DKRGry3j"
      }
    },
    {
      "cell_type": "code",
      "source": [
        "df_train_merged = pd.merge(df_train, df_overview, on=\"title\")\n",
        "\n",
        "print(df_train_merged.shape)\n",
        "df_train_merged.head()\n"
      ],
      "metadata": {
        "colab": {
          "base_uri": "https://localhost:8080/",
          "height": 0
        },
        "id": "zpuztlkclrk2",
        "outputId": "0581e9f1-bbc1-41e8-80a5-139492c45561"
      },
      "execution_count": 26,
      "outputs": [
        {
          "output_type": "stream",
          "name": "stdout",
          "text": [
            "(17494, 9)\n"
          ]
        },
        {
          "output_type": "execute_result",
          "data": {
            "text/html": [
              "\n",
              "  <div id=\"df-740d59c1-68a4-46ef-b776-49f7a2d2025b\">\n",
              "    <div class=\"colab-df-container\">\n",
              "      <div>\n",
              "<style scoped>\n",
              "    .dataframe tbody tr th:only-of-type {\n",
              "        vertical-align: middle;\n",
              "    }\n",
              "\n",
              "    .dataframe tbody tr th {\n",
              "        vertical-align: top;\n",
              "    }\n",
              "\n",
              "    .dataframe thead th {\n",
              "        text-align: right;\n",
              "    }\n",
              "</style>\n",
              "<table border=\"1\" class=\"dataframe\">\n",
              "  <thead>\n",
              "    <tr style=\"text-align: right;\">\n",
              "      <th></th>\n",
              "      <th>review_id</th>\n",
              "      <th>title</th>\n",
              "      <th>year</th>\n",
              "      <th>user_review</th>\n",
              "      <th>user_suggestion</th>\n",
              "      <th>developer</th>\n",
              "      <th>publisher</th>\n",
              "      <th>tags</th>\n",
              "      <th>overview</th>\n",
              "    </tr>\n",
              "  </thead>\n",
              "  <tbody>\n",
              "    <tr>\n",
              "      <th>0</th>\n",
              "      <td>1</td>\n",
              "      <td>Spooky's Jump Scare Mansion</td>\n",
              "      <td>2016.0</td>\n",
              "      <td>I'm scared and hearing creepy voices.  So I'll...</td>\n",
              "      <td>1</td>\n",
              "      <td>Lag Studios</td>\n",
              "      <td>Lag Studios</td>\n",
              "      <td>['Horror', 'Free to Play', 'Cute', 'First-Pers...</td>\n",
              "      <td>Can you survive 1000 rooms of cute terror? Or ...</td>\n",
              "    </tr>\n",
              "    <tr>\n",
              "      <th>1</th>\n",
              "      <td>2</td>\n",
              "      <td>Spooky's Jump Scare Mansion</td>\n",
              "      <td>2016.0</td>\n",
              "      <td>Best game, more better than Sam Pepper's YouTu...</td>\n",
              "      <td>1</td>\n",
              "      <td>Lag Studios</td>\n",
              "      <td>Lag Studios</td>\n",
              "      <td>['Horror', 'Free to Play', 'Cute', 'First-Pers...</td>\n",
              "      <td>Can you survive 1000 rooms of cute terror? Or ...</td>\n",
              "    </tr>\n",
              "    <tr>\n",
              "      <th>2</th>\n",
              "      <td>3</td>\n",
              "      <td>Spooky's Jump Scare Mansion</td>\n",
              "      <td>2016.0</td>\n",
              "      <td>A littly iffy on the controls, but once you kn...</td>\n",
              "      <td>1</td>\n",
              "      <td>Lag Studios</td>\n",
              "      <td>Lag Studios</td>\n",
              "      <td>['Horror', 'Free to Play', 'Cute', 'First-Pers...</td>\n",
              "      <td>Can you survive 1000 rooms of cute terror? Or ...</td>\n",
              "    </tr>\n",
              "    <tr>\n",
              "      <th>3</th>\n",
              "      <td>4</td>\n",
              "      <td>Spooky's Jump Scare Mansion</td>\n",
              "      <td>2015.0</td>\n",
              "      <td>Great game, fun and colorful and all that.A si...</td>\n",
              "      <td>1</td>\n",
              "      <td>Lag Studios</td>\n",
              "      <td>Lag Studios</td>\n",
              "      <td>['Horror', 'Free to Play', 'Cute', 'First-Pers...</td>\n",
              "      <td>Can you survive 1000 rooms of cute terror? Or ...</td>\n",
              "    </tr>\n",
              "    <tr>\n",
              "      <th>4</th>\n",
              "      <td>5</td>\n",
              "      <td>Spooky's Jump Scare Mansion</td>\n",
              "      <td>2015.0</td>\n",
              "      <td>Not many games have the cute tag right next to...</td>\n",
              "      <td>1</td>\n",
              "      <td>Lag Studios</td>\n",
              "      <td>Lag Studios</td>\n",
              "      <td>['Horror', 'Free to Play', 'Cute', 'First-Pers...</td>\n",
              "      <td>Can you survive 1000 rooms of cute terror? Or ...</td>\n",
              "    </tr>\n",
              "  </tbody>\n",
              "</table>\n",
              "</div>\n",
              "      <button class=\"colab-df-convert\" onclick=\"convertToInteractive('df-740d59c1-68a4-46ef-b776-49f7a2d2025b')\"\n",
              "              title=\"Convert this dataframe to an interactive table.\"\n",
              "              style=\"display:none;\">\n",
              "        \n",
              "  <svg xmlns=\"http://www.w3.org/2000/svg\" height=\"24px\"viewBox=\"0 0 24 24\"\n",
              "       width=\"24px\">\n",
              "    <path d=\"M0 0h24v24H0V0z\" fill=\"none\"/>\n",
              "    <path d=\"M18.56 5.44l.94 2.06.94-2.06 2.06-.94-2.06-.94-.94-2.06-.94 2.06-2.06.94zm-11 1L8.5 8.5l.94-2.06 2.06-.94-2.06-.94L8.5 2.5l-.94 2.06-2.06.94zm10 10l.94 2.06.94-2.06 2.06-.94-2.06-.94-.94-2.06-.94 2.06-2.06.94z\"/><path d=\"M17.41 7.96l-1.37-1.37c-.4-.4-.92-.59-1.43-.59-.52 0-1.04.2-1.43.59L10.3 9.45l-7.72 7.72c-.78.78-.78 2.05 0 2.83L4 21.41c.39.39.9.59 1.41.59.51 0 1.02-.2 1.41-.59l7.78-7.78 2.81-2.81c.8-.78.8-2.07 0-2.86zM5.41 20L4 18.59l7.72-7.72 1.47 1.35L5.41 20z\"/>\n",
              "  </svg>\n",
              "      </button>\n",
              "      \n",
              "  <style>\n",
              "    .colab-df-container {\n",
              "      display:flex;\n",
              "      flex-wrap:wrap;\n",
              "      gap: 12px;\n",
              "    }\n",
              "\n",
              "    .colab-df-convert {\n",
              "      background-color: #E8F0FE;\n",
              "      border: none;\n",
              "      border-radius: 50%;\n",
              "      cursor: pointer;\n",
              "      display: none;\n",
              "      fill: #1967D2;\n",
              "      height: 32px;\n",
              "      padding: 0 0 0 0;\n",
              "      width: 32px;\n",
              "    }\n",
              "\n",
              "    .colab-df-convert:hover {\n",
              "      background-color: #E2EBFA;\n",
              "      box-shadow: 0px 1px 2px rgba(60, 64, 67, 0.3), 0px 1px 3px 1px rgba(60, 64, 67, 0.15);\n",
              "      fill: #174EA6;\n",
              "    }\n",
              "\n",
              "    [theme=dark] .colab-df-convert {\n",
              "      background-color: #3B4455;\n",
              "      fill: #D2E3FC;\n",
              "    }\n",
              "\n",
              "    [theme=dark] .colab-df-convert:hover {\n",
              "      background-color: #434B5C;\n",
              "      box-shadow: 0px 1px 3px 1px rgba(0, 0, 0, 0.15);\n",
              "      filter: drop-shadow(0px 1px 2px rgba(0, 0, 0, 0.3));\n",
              "      fill: #FFFFFF;\n",
              "    }\n",
              "  </style>\n",
              "\n",
              "      <script>\n",
              "        const buttonEl =\n",
              "          document.querySelector('#df-740d59c1-68a4-46ef-b776-49f7a2d2025b button.colab-df-convert');\n",
              "        buttonEl.style.display =\n",
              "          google.colab.kernel.accessAllowed ? 'block' : 'none';\n",
              "\n",
              "        async function convertToInteractive(key) {\n",
              "          const element = document.querySelector('#df-740d59c1-68a4-46ef-b776-49f7a2d2025b');\n",
              "          const dataTable =\n",
              "            await google.colab.kernel.invokeFunction('convertToInteractive',\n",
              "                                                     [key], {});\n",
              "          if (!dataTable) return;\n",
              "\n",
              "          const docLinkHtml = 'Like what you see? Visit the ' +\n",
              "            '<a target=\"_blank\" href=https://colab.research.google.com/notebooks/data_table.ipynb>data table notebook</a>'\n",
              "            + ' to learn more about interactive tables.';\n",
              "          element.innerHTML = '';\n",
              "          dataTable['output_type'] = 'display_data';\n",
              "          await google.colab.output.renderOutput(dataTable, element);\n",
              "          const docLink = document.createElement('div');\n",
              "          docLink.innerHTML = docLinkHtml;\n",
              "          element.appendChild(docLink);\n",
              "        }\n",
              "      </script>\n",
              "    </div>\n",
              "  </div>\n",
              "  "
            ],
            "text/plain": [
              "   review_id  ...                                           overview\n",
              "0          1  ...  Can you survive 1000 rooms of cute terror? Or ...\n",
              "1          2  ...  Can you survive 1000 rooms of cute terror? Or ...\n",
              "2          3  ...  Can you survive 1000 rooms of cute terror? Or ...\n",
              "3          4  ...  Can you survive 1000 rooms of cute terror? Or ...\n",
              "4          5  ...  Can you survive 1000 rooms of cute terror? Or ...\n",
              "\n",
              "[5 rows x 9 columns]"
            ]
          },
          "metadata": {},
          "execution_count": 26
        }
      ]
    },
    {
      "cell_type": "markdown",
      "source": [
        "postup:\n",
        "1. nahradenie chybajucich dat, popripade vypustenie chybajucich riadkov\n",
        "2. title bude one hot encoding\n",
        "3. tagy spravit iba tokenizaciu \n",
        "4. user_review  - separatny embeddings \n",
        "5. overview - separatny embedding\n",
        "6. developer, publisher - one hot\n",
        "\n",
        "2. possibility\n",
        "connect user_review + tags + overview\n"
      ],
      "metadata": {
        "id": "4upmMmIlnlIc"
      }
    },
    {
      "cell_type": "markdown",
      "source": [
        "# **Submodel**"
      ],
      "metadata": {
        "id": "FPmKKMzhNd72"
      }
    },
    {
      "cell_type": "code",
      "source": [
        "df_train_merged['text'] = df_train_merged.tags.apply(lambda x: x[1:-1]) + df_train_merged.overview + df_train_merged.user_review\n",
        "\n",
        "X = df_train_merged\n",
        "y = X.user_suggestion.values\n",
        "X.head()"
      ],
      "metadata": {
        "colab": {
          "base_uri": "https://localhost:8080/",
          "height": 424
        },
        "id": "kNyI1KDcMX2o",
        "outputId": "4b33f057-4bdc-44a8-d5bb-a453fa63ed90"
      },
      "execution_count": 27,
      "outputs": [
        {
          "output_type": "execute_result",
          "data": {
            "text/html": [
              "\n",
              "  <div id=\"df-63ec4ff2-cc3d-4e95-844b-fd0017aed3cb\">\n",
              "    <div class=\"colab-df-container\">\n",
              "      <div>\n",
              "<style scoped>\n",
              "    .dataframe tbody tr th:only-of-type {\n",
              "        vertical-align: middle;\n",
              "    }\n",
              "\n",
              "    .dataframe tbody tr th {\n",
              "        vertical-align: top;\n",
              "    }\n",
              "\n",
              "    .dataframe thead th {\n",
              "        text-align: right;\n",
              "    }\n",
              "</style>\n",
              "<table border=\"1\" class=\"dataframe\">\n",
              "  <thead>\n",
              "    <tr style=\"text-align: right;\">\n",
              "      <th></th>\n",
              "      <th>review_id</th>\n",
              "      <th>title</th>\n",
              "      <th>year</th>\n",
              "      <th>user_review</th>\n",
              "      <th>user_suggestion</th>\n",
              "      <th>developer</th>\n",
              "      <th>publisher</th>\n",
              "      <th>tags</th>\n",
              "      <th>overview</th>\n",
              "      <th>text</th>\n",
              "    </tr>\n",
              "  </thead>\n",
              "  <tbody>\n",
              "    <tr>\n",
              "      <th>0</th>\n",
              "      <td>1</td>\n",
              "      <td>Spooky's Jump Scare Mansion</td>\n",
              "      <td>2016.0</td>\n",
              "      <td>I'm scared and hearing creepy voices.  So I'll...</td>\n",
              "      <td>1</td>\n",
              "      <td>Lag Studios</td>\n",
              "      <td>Lag Studios</td>\n",
              "      <td>['Horror', 'Free to Play', 'Cute', 'First-Pers...</td>\n",
              "      <td>Can you survive 1000 rooms of cute terror? Or ...</td>\n",
              "      <td>'Horror', 'Free to Play', 'Cute', 'First-Perso...</td>\n",
              "    </tr>\n",
              "    <tr>\n",
              "      <th>1</th>\n",
              "      <td>2</td>\n",
              "      <td>Spooky's Jump Scare Mansion</td>\n",
              "      <td>2016.0</td>\n",
              "      <td>Best game, more better than Sam Pepper's YouTu...</td>\n",
              "      <td>1</td>\n",
              "      <td>Lag Studios</td>\n",
              "      <td>Lag Studios</td>\n",
              "      <td>['Horror', 'Free to Play', 'Cute', 'First-Pers...</td>\n",
              "      <td>Can you survive 1000 rooms of cute terror? Or ...</td>\n",
              "      <td>'Horror', 'Free to Play', 'Cute', 'First-Perso...</td>\n",
              "    </tr>\n",
              "    <tr>\n",
              "      <th>2</th>\n",
              "      <td>3</td>\n",
              "      <td>Spooky's Jump Scare Mansion</td>\n",
              "      <td>2016.0</td>\n",
              "      <td>A littly iffy on the controls, but once you kn...</td>\n",
              "      <td>1</td>\n",
              "      <td>Lag Studios</td>\n",
              "      <td>Lag Studios</td>\n",
              "      <td>['Horror', 'Free to Play', 'Cute', 'First-Pers...</td>\n",
              "      <td>Can you survive 1000 rooms of cute terror? Or ...</td>\n",
              "      <td>'Horror', 'Free to Play', 'Cute', 'First-Perso...</td>\n",
              "    </tr>\n",
              "    <tr>\n",
              "      <th>3</th>\n",
              "      <td>4</td>\n",
              "      <td>Spooky's Jump Scare Mansion</td>\n",
              "      <td>2015.0</td>\n",
              "      <td>Great game, fun and colorful and all that.A si...</td>\n",
              "      <td>1</td>\n",
              "      <td>Lag Studios</td>\n",
              "      <td>Lag Studios</td>\n",
              "      <td>['Horror', 'Free to Play', 'Cute', 'First-Pers...</td>\n",
              "      <td>Can you survive 1000 rooms of cute terror? Or ...</td>\n",
              "      <td>'Horror', 'Free to Play', 'Cute', 'First-Perso...</td>\n",
              "    </tr>\n",
              "    <tr>\n",
              "      <th>4</th>\n",
              "      <td>5</td>\n",
              "      <td>Spooky's Jump Scare Mansion</td>\n",
              "      <td>2015.0</td>\n",
              "      <td>Not many games have the cute tag right next to...</td>\n",
              "      <td>1</td>\n",
              "      <td>Lag Studios</td>\n",
              "      <td>Lag Studios</td>\n",
              "      <td>['Horror', 'Free to Play', 'Cute', 'First-Pers...</td>\n",
              "      <td>Can you survive 1000 rooms of cute terror? Or ...</td>\n",
              "      <td>'Horror', 'Free to Play', 'Cute', 'First-Perso...</td>\n",
              "    </tr>\n",
              "  </tbody>\n",
              "</table>\n",
              "</div>\n",
              "      <button class=\"colab-df-convert\" onclick=\"convertToInteractive('df-63ec4ff2-cc3d-4e95-844b-fd0017aed3cb')\"\n",
              "              title=\"Convert this dataframe to an interactive table.\"\n",
              "              style=\"display:none;\">\n",
              "        \n",
              "  <svg xmlns=\"http://www.w3.org/2000/svg\" height=\"24px\"viewBox=\"0 0 24 24\"\n",
              "       width=\"24px\">\n",
              "    <path d=\"M0 0h24v24H0V0z\" fill=\"none\"/>\n",
              "    <path d=\"M18.56 5.44l.94 2.06.94-2.06 2.06-.94-2.06-.94-.94-2.06-.94 2.06-2.06.94zm-11 1L8.5 8.5l.94-2.06 2.06-.94-2.06-.94L8.5 2.5l-.94 2.06-2.06.94zm10 10l.94 2.06.94-2.06 2.06-.94-2.06-.94-.94-2.06-.94 2.06-2.06.94z\"/><path d=\"M17.41 7.96l-1.37-1.37c-.4-.4-.92-.59-1.43-.59-.52 0-1.04.2-1.43.59L10.3 9.45l-7.72 7.72c-.78.78-.78 2.05 0 2.83L4 21.41c.39.39.9.59 1.41.59.51 0 1.02-.2 1.41-.59l7.78-7.78 2.81-2.81c.8-.78.8-2.07 0-2.86zM5.41 20L4 18.59l7.72-7.72 1.47 1.35L5.41 20z\"/>\n",
              "  </svg>\n",
              "      </button>\n",
              "      \n",
              "  <style>\n",
              "    .colab-df-container {\n",
              "      display:flex;\n",
              "      flex-wrap:wrap;\n",
              "      gap: 12px;\n",
              "    }\n",
              "\n",
              "    .colab-df-convert {\n",
              "      background-color: #E8F0FE;\n",
              "      border: none;\n",
              "      border-radius: 50%;\n",
              "      cursor: pointer;\n",
              "      display: none;\n",
              "      fill: #1967D2;\n",
              "      height: 32px;\n",
              "      padding: 0 0 0 0;\n",
              "      width: 32px;\n",
              "    }\n",
              "\n",
              "    .colab-df-convert:hover {\n",
              "      background-color: #E2EBFA;\n",
              "      box-shadow: 0px 1px 2px rgba(60, 64, 67, 0.3), 0px 1px 3px 1px rgba(60, 64, 67, 0.15);\n",
              "      fill: #174EA6;\n",
              "    }\n",
              "\n",
              "    [theme=dark] .colab-df-convert {\n",
              "      background-color: #3B4455;\n",
              "      fill: #D2E3FC;\n",
              "    }\n",
              "\n",
              "    [theme=dark] .colab-df-convert:hover {\n",
              "      background-color: #434B5C;\n",
              "      box-shadow: 0px 1px 3px 1px rgba(0, 0, 0, 0.15);\n",
              "      filter: drop-shadow(0px 1px 2px rgba(0, 0, 0, 0.3));\n",
              "      fill: #FFFFFF;\n",
              "    }\n",
              "  </style>\n",
              "\n",
              "      <script>\n",
              "        const buttonEl =\n",
              "          document.querySelector('#df-63ec4ff2-cc3d-4e95-844b-fd0017aed3cb button.colab-df-convert');\n",
              "        buttonEl.style.display =\n",
              "          google.colab.kernel.accessAllowed ? 'block' : 'none';\n",
              "\n",
              "        async function convertToInteractive(key) {\n",
              "          const element = document.querySelector('#df-63ec4ff2-cc3d-4e95-844b-fd0017aed3cb');\n",
              "          const dataTable =\n",
              "            await google.colab.kernel.invokeFunction('convertToInteractive',\n",
              "                                                     [key], {});\n",
              "          if (!dataTable) return;\n",
              "\n",
              "          const docLinkHtml = 'Like what you see? Visit the ' +\n",
              "            '<a target=\"_blank\" href=https://colab.research.google.com/notebooks/data_table.ipynb>data table notebook</a>'\n",
              "            + ' to learn more about interactive tables.';\n",
              "          element.innerHTML = '';\n",
              "          dataTable['output_type'] = 'display_data';\n",
              "          await google.colab.output.renderOutput(dataTable, element);\n",
              "          const docLink = document.createElement('div');\n",
              "          docLink.innerHTML = docLinkHtml;\n",
              "          element.appendChild(docLink);\n",
              "        }\n",
              "      </script>\n",
              "    </div>\n",
              "  </div>\n",
              "  "
            ],
            "text/plain": [
              "   review_id  ...                                               text\n",
              "0          1  ...  'Horror', 'Free to Play', 'Cute', 'First-Perso...\n",
              "1          2  ...  'Horror', 'Free to Play', 'Cute', 'First-Perso...\n",
              "2          3  ...  'Horror', 'Free to Play', 'Cute', 'First-Perso...\n",
              "3          4  ...  'Horror', 'Free to Play', 'Cute', 'First-Perso...\n",
              "4          5  ...  'Horror', 'Free to Play', 'Cute', 'First-Perso...\n",
              "\n",
              "[5 rows x 10 columns]"
            ]
          },
          "metadata": {},
          "execution_count": 27
        }
      ]
    },
    {
      "cell_type": "code",
      "source": [
        "X_train, X_test, y_train, y_test = train_test_split(X, y, test_size=0.33, random_state=42)\n"
      ],
      "metadata": {
        "id": "nAG1LwkVFhv5"
      },
      "execution_count": 28,
      "outputs": []
    },
    {
      "cell_type": "code",
      "source": [
        "X_train_NN = X_train.text.values\n",
        "X_test_NN = X_test.text.values"
      ],
      "metadata": {
        "id": "pGqR71qXC97I"
      },
      "execution_count": 29,
      "outputs": []
    },
    {
      "cell_type": "code",
      "source": [
        "print(\"The longest sequence is {} words long.\".format(max([len(x) for x in X_train_NN])))\n",
        "pd.DataFrame([len(x) for x in X_train_NN]).describe()"
      ],
      "metadata": {
        "colab": {
          "base_uri": "https://localhost:8080/",
          "height": 318
        },
        "id": "R5ZnMYcOW1Sr",
        "outputId": "2e062227-c9e7-4dd0-a03e-86c4c15842ed"
      },
      "execution_count": 30,
      "outputs": [
        {
          "output_type": "stream",
          "name": "stdout",
          "text": [
            "The longest sequence is 12903 words long.\n"
          ]
        },
        {
          "output_type": "execute_result",
          "data": {
            "text/html": [
              "\n",
              "  <div id=\"df-421d5855-2b93-4474-89a7-7b34928f1ead\">\n",
              "    <div class=\"colab-df-container\">\n",
              "      <div>\n",
              "<style scoped>\n",
              "    .dataframe tbody tr th:only-of-type {\n",
              "        vertical-align: middle;\n",
              "    }\n",
              "\n",
              "    .dataframe tbody tr th {\n",
              "        vertical-align: top;\n",
              "    }\n",
              "\n",
              "    .dataframe thead th {\n",
              "        text-align: right;\n",
              "    }\n",
              "</style>\n",
              "<table border=\"1\" class=\"dataframe\">\n",
              "  <thead>\n",
              "    <tr style=\"text-align: right;\">\n",
              "      <th></th>\n",
              "      <th>0</th>\n",
              "    </tr>\n",
              "  </thead>\n",
              "  <tbody>\n",
              "    <tr>\n",
              "      <th>count</th>\n",
              "      <td>11720.000000</td>\n",
              "    </tr>\n",
              "    <tr>\n",
              "      <th>mean</th>\n",
              "      <td>2782.665529</td>\n",
              "    </tr>\n",
              "    <tr>\n",
              "      <th>std</th>\n",
              "      <td>1437.665924</td>\n",
              "    </tr>\n",
              "    <tr>\n",
              "      <th>min</th>\n",
              "      <td>452.000000</td>\n",
              "    </tr>\n",
              "    <tr>\n",
              "      <th>25%</th>\n",
              "      <td>1851.000000</td>\n",
              "    </tr>\n",
              "    <tr>\n",
              "      <th>50%</th>\n",
              "      <td>2413.000000</td>\n",
              "    </tr>\n",
              "    <tr>\n",
              "      <th>75%</th>\n",
              "      <td>3439.500000</td>\n",
              "    </tr>\n",
              "    <tr>\n",
              "      <th>max</th>\n",
              "      <td>12903.000000</td>\n",
              "    </tr>\n",
              "  </tbody>\n",
              "</table>\n",
              "</div>\n",
              "      <button class=\"colab-df-convert\" onclick=\"convertToInteractive('df-421d5855-2b93-4474-89a7-7b34928f1ead')\"\n",
              "              title=\"Convert this dataframe to an interactive table.\"\n",
              "              style=\"display:none;\">\n",
              "        \n",
              "  <svg xmlns=\"http://www.w3.org/2000/svg\" height=\"24px\"viewBox=\"0 0 24 24\"\n",
              "       width=\"24px\">\n",
              "    <path d=\"M0 0h24v24H0V0z\" fill=\"none\"/>\n",
              "    <path d=\"M18.56 5.44l.94 2.06.94-2.06 2.06-.94-2.06-.94-.94-2.06-.94 2.06-2.06.94zm-11 1L8.5 8.5l.94-2.06 2.06-.94-2.06-.94L8.5 2.5l-.94 2.06-2.06.94zm10 10l.94 2.06.94-2.06 2.06-.94-2.06-.94-.94-2.06-.94 2.06-2.06.94z\"/><path d=\"M17.41 7.96l-1.37-1.37c-.4-.4-.92-.59-1.43-.59-.52 0-1.04.2-1.43.59L10.3 9.45l-7.72 7.72c-.78.78-.78 2.05 0 2.83L4 21.41c.39.39.9.59 1.41.59.51 0 1.02-.2 1.41-.59l7.78-7.78 2.81-2.81c.8-.78.8-2.07 0-2.86zM5.41 20L4 18.59l7.72-7.72 1.47 1.35L5.41 20z\"/>\n",
              "  </svg>\n",
              "      </button>\n",
              "      \n",
              "  <style>\n",
              "    .colab-df-container {\n",
              "      display:flex;\n",
              "      flex-wrap:wrap;\n",
              "      gap: 12px;\n",
              "    }\n",
              "\n",
              "    .colab-df-convert {\n",
              "      background-color: #E8F0FE;\n",
              "      border: none;\n",
              "      border-radius: 50%;\n",
              "      cursor: pointer;\n",
              "      display: none;\n",
              "      fill: #1967D2;\n",
              "      height: 32px;\n",
              "      padding: 0 0 0 0;\n",
              "      width: 32px;\n",
              "    }\n",
              "\n",
              "    .colab-df-convert:hover {\n",
              "      background-color: #E2EBFA;\n",
              "      box-shadow: 0px 1px 2px rgba(60, 64, 67, 0.3), 0px 1px 3px 1px rgba(60, 64, 67, 0.15);\n",
              "      fill: #174EA6;\n",
              "    }\n",
              "\n",
              "    [theme=dark] .colab-df-convert {\n",
              "      background-color: #3B4455;\n",
              "      fill: #D2E3FC;\n",
              "    }\n",
              "\n",
              "    [theme=dark] .colab-df-convert:hover {\n",
              "      background-color: #434B5C;\n",
              "      box-shadow: 0px 1px 3px 1px rgba(0, 0, 0, 0.15);\n",
              "      filter: drop-shadow(0px 1px 2px rgba(0, 0, 0, 0.3));\n",
              "      fill: #FFFFFF;\n",
              "    }\n",
              "  </style>\n",
              "\n",
              "      <script>\n",
              "        const buttonEl =\n",
              "          document.querySelector('#df-421d5855-2b93-4474-89a7-7b34928f1ead button.colab-df-convert');\n",
              "        buttonEl.style.display =\n",
              "          google.colab.kernel.accessAllowed ? 'block' : 'none';\n",
              "\n",
              "        async function convertToInteractive(key) {\n",
              "          const element = document.querySelector('#df-421d5855-2b93-4474-89a7-7b34928f1ead');\n",
              "          const dataTable =\n",
              "            await google.colab.kernel.invokeFunction('convertToInteractive',\n",
              "                                                     [key], {});\n",
              "          if (!dataTable) return;\n",
              "\n",
              "          const docLinkHtml = 'Like what you see? Visit the ' +\n",
              "            '<a target=\"_blank\" href=https://colab.research.google.com/notebooks/data_table.ipynb>data table notebook</a>'\n",
              "            + ' to learn more about interactive tables.';\n",
              "          element.innerHTML = '';\n",
              "          dataTable['output_type'] = 'display_data';\n",
              "          await google.colab.output.renderOutput(dataTable, element);\n",
              "          const docLink = document.createElement('div');\n",
              "          docLink.innerHTML = docLinkHtml;\n",
              "          element.appendChild(docLink);\n",
              "        }\n",
              "      </script>\n",
              "    </div>\n",
              "  </div>\n",
              "  "
            ],
            "text/plain": [
              "                  0\n",
              "count  11720.000000\n",
              "mean    2782.665529\n",
              "std     1437.665924\n",
              "min      452.000000\n",
              "25%     1851.000000\n",
              "50%     2413.000000\n",
              "75%     3439.500000\n",
              "max    12903.000000"
            ]
          },
          "metadata": {},
          "execution_count": 30
        }
      ]
    },
    {
      "cell_type": "code",
      "source": [
        "max_length = 5000\n",
        "trunc_type='post'\n",
        "padding_type='post'\n",
        "oov_tok = \"<OOV>\"\n",
        "vocab_size = 10000\n",
        "#training_size = 20000\n",
        "\n",
        "tokenizer = Tokenizer(num_words=vocab_size, oov_token=oov_tok)\n",
        "tokenizer.fit_on_texts(X_train_NN)\n",
        "\n",
        "print('Vocabulary is {} words large'.format(len(tokenizer.word_index)))"
      ],
      "metadata": {
        "colab": {
          "base_uri": "https://localhost:8080/"
        },
        "id": "FZx84FRxXiwx",
        "outputId": "3bc0d9b7-3ac6-4c11-8e86-afd4aa62d792"
      },
      "execution_count": 31,
      "outputs": [
        {
          "output_type": "stream",
          "name": "stdout",
          "text": [
            "Vocabulary is 47213 words large\n"
          ]
        }
      ]
    },
    {
      "cell_type": "code",
      "source": [
        "sorted(tokenizer.word_counts.items(), key = lambda t: t[1])[47000:]"
      ],
      "metadata": {
        "colab": {
          "base_uri": "https://localhost:8080/"
        },
        "id": "sng-cRO8b4wa",
        "outputId": "e64b5e9a-26d7-47a6-9aab-98a18f940b97"
      },
      "execution_count": 32,
      "outputs": [
        {
          "output_type": "execute_result",
          "data": {
            "text/plain": [
              "[('fast', 3474),\n",
              " ('dcs', 3474),\n",
              " ('fly', 3514),\n",
              " ('updates', 3523),\n",
              " ('race', 3554),\n",
              " (\"'survival'\", 3558),\n",
              " ('never', 3563),\n",
              " ('digital', 3602),\n",
              " ('skill', 3635),\n",
              " ('long', 3635),\n",
              " ('choose', 3659),\n",
              " ('ai', 3738),\n",
              " ('everything', 3769),\n",
              " ('see', 3789),\n",
              " ('powerful', 3791),\n",
              " ('class', 3829),\n",
              " ('while', 3842),\n",
              " ('guns', 3856),\n",
              " ('single', 3879),\n",
              " ('earn', 3890),\n",
              " ('great', 3898),\n",
              " ('tank', 3909),\n",
              " ('who', 3919),\n",
              " ('these', 3928),\n",
              " ('tanks', 3966),\n",
              " ('including', 3985),\n",
              " ('eternal', 4022),\n",
              " ('then', 4056),\n",
              " ('pvp', 4068),\n",
              " ('multiplayer', 4081),\n",
              " (\"'first\", 4201),\n",
              " ('need', 4206),\n",
              " (\"don't\", 4241),\n",
              " ('me', 4248),\n",
              " ('find', 4254),\n",
              " (\"'simulation'\", 4257),\n",
              " ('pc', 4273),\n",
              " ('action', 4317),\n",
              " ('power', 4320),\n",
              " ('played', 4334),\n",
              " ('different', 4339),\n",
              " ('really', 4346),\n",
              " ('because', 4369),\n",
              " ('test', 4396),\n",
              " ('go', 4424),\n",
              " ('steam', 4482),\n",
              " ('keep', 4519),\n",
              " ('our', 4533),\n",
              " ('same', 4533),\n",
              " ('off', 4537),\n",
              " ('want', 4566),\n",
              " ('system', 4569),\n",
              " (\"'fps'\", 4607),\n",
              " ('well', 4646),\n",
              " (\"'pvp'\", 4648),\n",
              " (\"'rpg'\", 4649),\n",
              " ('deck', 4690),\n",
              " ('variety', 4721),\n",
              " ('pay', 4731),\n",
              " ('based', 4784),\n",
              " ('than', 4788),\n",
              " ('co', 4841),\n",
              " (\"'singleplayer'\", 4893),\n",
              " ('early', 4937),\n",
              " ('way', 5017),\n",
              " ('5', 5035),\n",
              " ('real', 5184),\n",
              " ('ever', 5192),\n",
              " ('join', 5199),\n",
              " ('create', 5204),\n",
              " ('much', 5214),\n",
              " ('money', 5229),\n",
              " ('many', 5251),\n",
              " ('take', 5253),\n",
              " ('open', 5283),\n",
              " ('missions', 5303),\n",
              " (\"'shooter'\", 5323),\n",
              " ('good', 5367),\n",
              " ('cards', 5414),\n",
              " ('some', 5434),\n",
              " ('when', 5485),\n",
              " ('card', 5552),\n",
              " ('playing', 5592),\n",
              " ('very', 5646),\n",
              " ('maps', 5656),\n",
              " ('now', 5672),\n",
              " ('character', 5674),\n",
              " ('where', 5735),\n",
              " ('unique', 5742),\n",
              " ('first', 5745),\n",
              " ('access', 5754),\n",
              " (\"person'\", 5800),\n",
              " ('its', 5835),\n",
              " ('mode', 5846),\n",
              " ('how', 5867),\n",
              " (\"'strategy'\", 5943),\n",
              " ('community', 5954),\n",
              " ('best', 5972),\n",
              " ('aircraft', 5993),\n",
              " ('available', 6005),\n",
              " ('fight', 6094),\n",
              " ('use', 6099),\n",
              " ('games', 6129),\n",
              " ('modes', 6162),\n",
              " ('we', 6179),\n",
              " ('do', 6211),\n",
              " ('my', 6248),\n",
              " ('features', 6331),\n",
              " ('was', 6341),\n",
              " (\"access'\", 6413),\n",
              " (\"'early\", 6414),\n",
              " ('about', 6585),\n",
              " ('content', 6627),\n",
              " ('only', 6647),\n",
              " (\"'adventure'\", 6655),\n",
              " ('2', 6708),\n",
              " ('any', 6771),\n",
              " ('skills', 6818),\n",
              " ('win', 6930),\n",
              " ('them', 6935),\n",
              " ('make', 6980),\n",
              " ('player', 7025),\n",
              " ('items', 7068),\n",
              " ('build', 7358),\n",
              " (\"it's\", 7371),\n",
              " ('there', 7393),\n",
              " ('fun', 7460),\n",
              " ('friends', 7531),\n",
              " (\"'open\", 7626),\n",
              " (\"world'\", 7627),\n",
              " (\"'co\", 7719),\n",
              " ('even', 7759),\n",
              " ('which', 7765),\n",
              " ('through', 7766),\n",
              " ('battles', 7848),\n",
              " ('also', 8045),\n",
              " ('each', 8291),\n",
              " ('over', 8318),\n",
              " ('vehicles', 8434),\n",
              " ('what', 8463),\n",
              " ('experience', 8778),\n",
              " ('–', 8924),\n",
              " ('team', 8925),\n",
              " ('against', 9127),\n",
              " (\"'massively\", 9358),\n",
              " ('so', 9534),\n",
              " (\"multiplayer'\", 9635),\n",
              " ('no', 9643),\n",
              " ('combat', 9700),\n",
              " ('just', 9732),\n",
              " ('they', 9805),\n",
              " ('every', 9807),\n",
              " ('own', 9845),\n",
              " ('war', 10218),\n",
              " ('out', 10458),\n",
              " ('has', 10530),\n",
              " ('time', 10566),\n",
              " ('gameplay', 10602),\n",
              " (\"'action'\", 10676),\n",
              " ('weapons', 10978),\n",
              " ('other', 11027),\n",
              " ('if', 11055),\n",
              " ('not', 11075),\n",
              " ('online', 11099),\n",
              " (\"op'\", 11224),\n",
              " ('at', 11362),\n",
              " ('one', 11368),\n",
              " (\"'multiplayer'\", 11521),\n",
              " (\"play'\", 11729),\n",
              " (\"'free\", 11732),\n",
              " ('into', 11922),\n",
              " ('get', 11952),\n",
              " ('most', 11985),\n",
              " ('their', 12005),\n",
              " ('like', 12184),\n",
              " ('by', 13124),\n",
              " ('have', 14855),\n",
              " ('up', 15519),\n",
              " ('an', 15757),\n",
              " ('will', 16654),\n",
              " ('more', 16665),\n",
              " ('battle', 16967),\n",
              " ('but', 17668),\n",
              " ('new', 19414),\n",
              " ('players', 20060),\n",
              " ('free', 20576),\n",
              " ('world', 20615),\n",
              " ('all', 22093),\n",
              " ('be', 23344),\n",
              " ('this', 25646),\n",
              " ('are', 26858),\n",
              " ('as', 28445),\n",
              " ('i', 29925),\n",
              " ('can', 30021),\n",
              " ('from', 30695),\n",
              " ('or', 31114),\n",
              " ('on', 31870),\n",
              " ('it', 31881),\n",
              " ('play', 33016),\n",
              " ('that', 33037),\n",
              " ('for', 49043),\n",
              " ('with', 55578),\n",
              " ('is', 56480),\n",
              " ('game', 63870),\n",
              " ('your', 69795),\n",
              " ('in', 77646),\n",
              " ('you', 81520),\n",
              " ('of', 109928),\n",
              " ('a', 110131),\n",
              " ('to', 154110),\n",
              " ('and', 193728),\n",
              " ('the', 208439)]"
            ]
          },
          "metadata": {},
          "execution_count": 32
        }
      ]
    },
    {
      "cell_type": "code",
      "source": [
        "X_train_NN = tokenizer.texts_to_sequences(X_train_NN)\n",
        "X_train_padded_NN = np.array(pad_sequences(X_train_NN, maxlen=max_length, padding=padding_type, truncating=trunc_type))\n",
        "\n",
        "X_test_NN = tokenizer.texts_to_sequences(X_test_NN)\n",
        "X_test_padded_NN = np.array(pad_sequences(X_test_NN, maxlen=max_length, padding=padding_type, truncating=trunc_type))\n",
        "\n",
        "#y_train = tf.keras.utils.to_categorical(y_train, num_classes=2)\n",
        "#y_test = tf.keras.utils.to_categorical(y_test, num_classes=2)"
      ],
      "metadata": {
        "id": "U-LA4qmvSrx8"
      },
      "execution_count": 33,
      "outputs": []
    },
    {
      "cell_type": "code",
      "source": [
        "METRICS = [\n",
        "      tf.keras.metrics.BinaryAccuracy(name='accuracy'),\n",
        "      tf.keras.metrics.Precision(name='precision'),\n",
        "      tf.keras.metrics.Recall(name='recall')\n",
        "]\n",
        "\n",
        "model = tf.keras.Sequential()\n",
        "\n",
        "model.add(Embedding(vocab_size,240, input_length = max_length))\n",
        "model.add(Bidirectional(keras.layers.LSTM(64, return_sequences=True)))\n",
        "model.add(Bidirectional(keras.layers.LSTM(32, return_sequences=True)))\n",
        "model.add(Flatten()),\n",
        "Dropout(0.5),\n",
        "model.add(Dense(1,activation = 'sigmoid'))\n",
        "\n",
        "\n",
        "model.compile(loss = 'binary_crossentropy',optimizer='adam',metrics = METRICS)\n",
        "\n",
        "model.summary()"
      ],
      "metadata": {
        "colab": {
          "base_uri": "https://localhost:8080/"
        },
        "id": "wZ-zB2k2Sr1W",
        "outputId": "b27bb17c-9edf-4b0f-e9df-05fd2ea66de9"
      },
      "execution_count": 44,
      "outputs": [
        {
          "output_type": "stream",
          "name": "stdout",
          "text": [
            "Model: \"sequential_1\"\n",
            "_________________________________________________________________\n",
            " Layer (type)                Output Shape              Param #   \n",
            "=================================================================\n",
            " embedding_1 (Embedding)     (None, 5000, 240)         2400000   \n",
            "                                                                 \n",
            " bidirectional_2 (Bidirectio  (None, 5000, 128)        156160    \n",
            " nal)                                                            \n",
            "                                                                 \n",
            " bidirectional_3 (Bidirectio  (None, 5000, 64)         41216     \n",
            " nal)                                                            \n",
            "                                                                 \n",
            " flatten_1 (Flatten)         (None, 320000)            0         \n",
            "                                                                 \n",
            " dense_1 (Dense)             (None, 1)                 320001    \n",
            "                                                                 \n",
            "=================================================================\n",
            "Total params: 2,917,377\n",
            "Trainable params: 2,917,377\n",
            "Non-trainable params: 0\n",
            "_________________________________________________________________\n"
          ]
        }
      ]
    },
    {
      "cell_type": "code",
      "source": [
        "history = model.fit(X_train_padded_NN, y_train, epochs=1, validation_data=(X_test_padded_NN, y_test), verbose = 1)"
      ],
      "metadata": {
        "colab": {
          "base_uri": "https://localhost:8080/"
        },
        "id": "9XoG9_DGqzW-",
        "outputId": "9c885653-6932-4a79-e19e-70337ae3b853"
      },
      "execution_count": 45,
      "outputs": [
        {
          "output_type": "stream",
          "name": "stdout",
          "text": [
            "367/367 [==============================] - 798s 2s/step - loss: 0.5210 - accuracy: 0.7510 - precision: 0.7628 - recall: 0.8140 - val_loss: 0.3746 - val_accuracy: 0.8377 - val_precision: 0.8387 - val_recall: 0.8890\n"
          ]
        }
      ]
    },
    {
      "cell_type": "code",
      "source": [
        "X_train_pred = model.predict(X_train_padded_NN)\n",
        "X_test_pred = model.predict(X_test_padded_NN)"
      ],
      "metadata": {
        "id": "ZAgpxhmHO0LQ"
      },
      "execution_count": 47,
      "outputs": []
    },
    {
      "cell_type": "markdown",
      "source": [
        "Need to imput missing data for later work with decisiontree, Logisticregression."
      ],
      "metadata": {
        "id": "OjJzpL1cz9JP"
      }
    },
    {
      "cell_type": "code",
      "source": [
        "from sklearn.impute import KNNImputer\n",
        "import numpy as np\n",
        "\n",
        "def knn_inputer(X):\n",
        "\n",
        "    X[X.isnull()] = np.nan\n",
        "\n",
        "    imputer = KNNImputer(n_neighbors=2)\n",
        "    X_im = imputer.fit_transform(X)\n",
        "    return pd.DataFrame(X_im, columns = list(X.columns))\n",
        "\n",
        "def process_dat(X):\n",
        "  \n",
        "  X_1 = X.loc[:,['title','developer','publisher']]\n",
        "  X_1 = pd.get_dummies(X_1)\n",
        "  X_1 = pd.concat([X_1,X.loc[:,['review_id','year']]], axis = 1)\n",
        "\n",
        "  return X_1\n",
        "\n",
        "X_trainm = process_dat(X_train)\n",
        "X_trainm = knn_inputer(X_trainm)\n",
        "X_trainm['predictions'] = [x[0] for x in X_train_pred.tolist()]\n",
        "\n",
        "X_testm = process_dat(X_test)\n",
        "X_testm = knn_inputer(X_testm)\n",
        "X_testm['predictions'] = [x[0] for x in X_test_pred.tolist()]\n",
        "\n",
        "print(X_trainm.isnull().sum())\n",
        "print(X_testm.isnull().sum())"
      ],
      "metadata": {
        "colab": {
          "base_uri": "https://localhost:8080/"
        },
        "id": "p-Ds0OUazV3b",
        "outputId": "8e66b1e5-a76e-4127-f215-56e90035ba6d"
      },
      "execution_count": 63,
      "outputs": [
        {
          "output_type": "stream",
          "name": "stdout",
          "text": [
            "title_AdventureQuest 3D               0\n",
            "title_Black Squad                     0\n",
            "title_Bless Online                    0\n",
            "title_Bloons TD Battles               0\n",
            "title_Brawlhalla                      0\n",
            "                                     ..\n",
            "publisher_Wargaming Group Limited     0\n",
            "publisher_Winged Cloud                0\n",
            "review_id                             0\n",
            "year                                  0\n",
            "predictions                           0\n",
            "Length: 129, dtype: int64\n",
            "title_AdventureQuest 3D               0\n",
            "title_Black Squad                     0\n",
            "title_Bless Online                    0\n",
            "title_Bloons TD Battles               0\n",
            "title_Brawlhalla                      0\n",
            "                                     ..\n",
            "publisher_Wargaming Group Limited     0\n",
            "publisher_Winged Cloud                0\n",
            "review_id                             0\n",
            "year                                  0\n",
            "predictions                           0\n",
            "Length: 129, dtype: int64\n"
          ]
        }
      ]
    },
    {
      "cell_type": "code",
      "source": [
        ""
      ],
      "metadata": {
        "id": "LWCinLsQ6B8Y"
      },
      "execution_count": null,
      "outputs": []
    },
    {
      "cell_type": "code",
      "source": [
        "def XGB_function(X_train, y_train, X_test, y_test, X):\n",
        "  # 0 - home, 1 - draw, 2 - away\n",
        "\n",
        "  xgb_cl = xgb.XGBClassifier(n_estimators=15,learning_rate=0.5,max_delta_step=5)\n",
        "  xgb_cl.fit(X_train,y_train)\n",
        "\n",
        "  if ( not(X_test is None) and not(y_test is None)):\n",
        "    print('Accuracy of Extreme boosted classifier on training set: {:.2f}'.format(xgb_cl.score(X_train, y_train)))\n",
        "    print('Accuracy of Extreme boosted classifier on test set: {:.2f}'.format(xgb_cl.score(X_test, y_test)))\n",
        "\n",
        "  return xgb_cl.predict(X), xgb_cl.predict_proba(X)"
      ],
      "metadata": {
        "id": "6v7u1VL9CW84"
      },
      "execution_count": 64,
      "outputs": []
    },
    {
      "cell_type": "code",
      "source": [
        "import xgboost as xgb\n",
        "\n",
        "_ , probabilities_train = XGB_function(X_trainm, y_train, X_testm, y_test, X_trainm)\n",
        "_ , probabilities_test = XGB_function(X_trainm, y_train, X_testm, y_test, X_testm)"
      ],
      "metadata": {
        "id": "Z58wMsWMCXA-",
        "colab": {
          "base_uri": "https://localhost:8080/"
        },
        "outputId": "797ef02c-9a31-4ca9-c7b6-efd807f3e68e"
      },
      "execution_count": 65,
      "outputs": [
        {
          "output_type": "stream",
          "name": "stdout",
          "text": [
            "Accuracy of Extreme boosted classifier on training set: 0.89\n",
            "Accuracy of Extreme boosted classifier on test set: 0.86\n",
            "Accuracy of Extreme boosted classifier on training set: 0.89\n",
            "Accuracy of Extreme boosted classifier on test set: 0.86\n"
          ]
        }
      ]
    },
    {
      "cell_type": "code",
      "source": [
        "X_1 = pd.DataFrame(probabilities_train)\n",
        "X_1['pred'] = X_trainm.predictions.values\n",
        "X_1\n",
        "\n",
        "X_2 = pd.DataFrame(probabilities_test)\n",
        "X_2['pred'] = X_testm.predictions.values\n",
        "X_2\n",
        "#X_testm "
      ],
      "metadata": {
        "id": "7myeB3AoWXml",
        "colab": {
          "base_uri": "https://localhost:8080/",
          "height": 423
        },
        "outputId": "45d5989a-b89b-4376-8d6e-fd0139bdf385"
      },
      "execution_count": 66,
      "outputs": [
        {
          "output_type": "execute_result",
          "data": {
            "text/html": [
              "\n",
              "  <div id=\"df-c4330eb2-eb3f-4f4c-a72e-3fc6eeca818b\">\n",
              "    <div class=\"colab-df-container\">\n",
              "      <div>\n",
              "<style scoped>\n",
              "    .dataframe tbody tr th:only-of-type {\n",
              "        vertical-align: middle;\n",
              "    }\n",
              "\n",
              "    .dataframe tbody tr th {\n",
              "        vertical-align: top;\n",
              "    }\n",
              "\n",
              "    .dataframe thead th {\n",
              "        text-align: right;\n",
              "    }\n",
              "</style>\n",
              "<table border=\"1\" class=\"dataframe\">\n",
              "  <thead>\n",
              "    <tr style=\"text-align: right;\">\n",
              "      <th></th>\n",
              "      <th>0</th>\n",
              "      <th>1</th>\n",
              "      <th>pred</th>\n",
              "    </tr>\n",
              "  </thead>\n",
              "  <tbody>\n",
              "    <tr>\n",
              "      <th>0</th>\n",
              "      <td>0.572899</td>\n",
              "      <td>0.427101</td>\n",
              "      <td>0.399367</td>\n",
              "    </tr>\n",
              "    <tr>\n",
              "      <th>1</th>\n",
              "      <td>0.938667</td>\n",
              "      <td>0.061333</td>\n",
              "      <td>0.110252</td>\n",
              "    </tr>\n",
              "    <tr>\n",
              "      <th>2</th>\n",
              "      <td>0.024630</td>\n",
              "      <td>0.975370</td>\n",
              "      <td>0.974405</td>\n",
              "    </tr>\n",
              "    <tr>\n",
              "      <th>3</th>\n",
              "      <td>0.157025</td>\n",
              "      <td>0.842975</td>\n",
              "      <td>0.885759</td>\n",
              "    </tr>\n",
              "    <tr>\n",
              "      <th>4</th>\n",
              "      <td>0.587025</td>\n",
              "      <td>0.412975</td>\n",
              "      <td>0.513368</td>\n",
              "    </tr>\n",
              "    <tr>\n",
              "      <th>...</th>\n",
              "      <td>...</td>\n",
              "      <td>...</td>\n",
              "      <td>...</td>\n",
              "    </tr>\n",
              "    <tr>\n",
              "      <th>5769</th>\n",
              "      <td>0.926389</td>\n",
              "      <td>0.073611</td>\n",
              "      <td>0.168908</td>\n",
              "    </tr>\n",
              "    <tr>\n",
              "      <th>5770</th>\n",
              "      <td>0.010517</td>\n",
              "      <td>0.989483</td>\n",
              "      <td>0.999590</td>\n",
              "    </tr>\n",
              "    <tr>\n",
              "      <th>5771</th>\n",
              "      <td>0.009580</td>\n",
              "      <td>0.990420</td>\n",
              "      <td>0.950008</td>\n",
              "    </tr>\n",
              "    <tr>\n",
              "      <th>5772</th>\n",
              "      <td>0.967172</td>\n",
              "      <td>0.032828</td>\n",
              "      <td>0.072032</td>\n",
              "    </tr>\n",
              "    <tr>\n",
              "      <th>5773</th>\n",
              "      <td>0.019186</td>\n",
              "      <td>0.980814</td>\n",
              "      <td>0.992465</td>\n",
              "    </tr>\n",
              "  </tbody>\n",
              "</table>\n",
              "<p>5774 rows × 3 columns</p>\n",
              "</div>\n",
              "      <button class=\"colab-df-convert\" onclick=\"convertToInteractive('df-c4330eb2-eb3f-4f4c-a72e-3fc6eeca818b')\"\n",
              "              title=\"Convert this dataframe to an interactive table.\"\n",
              "              style=\"display:none;\">\n",
              "        \n",
              "  <svg xmlns=\"http://www.w3.org/2000/svg\" height=\"24px\"viewBox=\"0 0 24 24\"\n",
              "       width=\"24px\">\n",
              "    <path d=\"M0 0h24v24H0V0z\" fill=\"none\"/>\n",
              "    <path d=\"M18.56 5.44l.94 2.06.94-2.06 2.06-.94-2.06-.94-.94-2.06-.94 2.06-2.06.94zm-11 1L8.5 8.5l.94-2.06 2.06-.94-2.06-.94L8.5 2.5l-.94 2.06-2.06.94zm10 10l.94 2.06.94-2.06 2.06-.94-2.06-.94-.94-2.06-.94 2.06-2.06.94z\"/><path d=\"M17.41 7.96l-1.37-1.37c-.4-.4-.92-.59-1.43-.59-.52 0-1.04.2-1.43.59L10.3 9.45l-7.72 7.72c-.78.78-.78 2.05 0 2.83L4 21.41c.39.39.9.59 1.41.59.51 0 1.02-.2 1.41-.59l7.78-7.78 2.81-2.81c.8-.78.8-2.07 0-2.86zM5.41 20L4 18.59l7.72-7.72 1.47 1.35L5.41 20z\"/>\n",
              "  </svg>\n",
              "      </button>\n",
              "      \n",
              "  <style>\n",
              "    .colab-df-container {\n",
              "      display:flex;\n",
              "      flex-wrap:wrap;\n",
              "      gap: 12px;\n",
              "    }\n",
              "\n",
              "    .colab-df-convert {\n",
              "      background-color: #E8F0FE;\n",
              "      border: none;\n",
              "      border-radius: 50%;\n",
              "      cursor: pointer;\n",
              "      display: none;\n",
              "      fill: #1967D2;\n",
              "      height: 32px;\n",
              "      padding: 0 0 0 0;\n",
              "      width: 32px;\n",
              "    }\n",
              "\n",
              "    .colab-df-convert:hover {\n",
              "      background-color: #E2EBFA;\n",
              "      box-shadow: 0px 1px 2px rgba(60, 64, 67, 0.3), 0px 1px 3px 1px rgba(60, 64, 67, 0.15);\n",
              "      fill: #174EA6;\n",
              "    }\n",
              "\n",
              "    [theme=dark] .colab-df-convert {\n",
              "      background-color: #3B4455;\n",
              "      fill: #D2E3FC;\n",
              "    }\n",
              "\n",
              "    [theme=dark] .colab-df-convert:hover {\n",
              "      background-color: #434B5C;\n",
              "      box-shadow: 0px 1px 3px 1px rgba(0, 0, 0, 0.15);\n",
              "      filter: drop-shadow(0px 1px 2px rgba(0, 0, 0, 0.3));\n",
              "      fill: #FFFFFF;\n",
              "    }\n",
              "  </style>\n",
              "\n",
              "      <script>\n",
              "        const buttonEl =\n",
              "          document.querySelector('#df-c4330eb2-eb3f-4f4c-a72e-3fc6eeca818b button.colab-df-convert');\n",
              "        buttonEl.style.display =\n",
              "          google.colab.kernel.accessAllowed ? 'block' : 'none';\n",
              "\n",
              "        async function convertToInteractive(key) {\n",
              "          const element = document.querySelector('#df-c4330eb2-eb3f-4f4c-a72e-3fc6eeca818b');\n",
              "          const dataTable =\n",
              "            await google.colab.kernel.invokeFunction('convertToInteractive',\n",
              "                                                     [key], {});\n",
              "          if (!dataTable) return;\n",
              "\n",
              "          const docLinkHtml = 'Like what you see? Visit the ' +\n",
              "            '<a target=\"_blank\" href=https://colab.research.google.com/notebooks/data_table.ipynb>data table notebook</a>'\n",
              "            + ' to learn more about interactive tables.';\n",
              "          element.innerHTML = '';\n",
              "          dataTable['output_type'] = 'display_data';\n",
              "          await google.colab.output.renderOutput(dataTable, element);\n",
              "          const docLink = document.createElement('div');\n",
              "          docLink.innerHTML = docLinkHtml;\n",
              "          element.appendChild(docLink);\n",
              "        }\n",
              "      </script>\n",
              "    </div>\n",
              "  </div>\n",
              "  "
            ],
            "text/plain": [
              "             0         1      pred\n",
              "0     0.572899  0.427101  0.399367\n",
              "1     0.938667  0.061333  0.110252\n",
              "2     0.024630  0.975370  0.974405\n",
              "3     0.157025  0.842975  0.885759\n",
              "4     0.587025  0.412975  0.513368\n",
              "...        ...       ...       ...\n",
              "5769  0.926389  0.073611  0.168908\n",
              "5770  0.010517  0.989483  0.999590\n",
              "5771  0.009580  0.990420  0.950008\n",
              "5772  0.967172  0.032828  0.072032\n",
              "5773  0.019186  0.980814  0.992465\n",
              "\n",
              "[5774 rows x 3 columns]"
            ]
          },
          "metadata": {},
          "execution_count": 66
        }
      ]
    },
    {
      "cell_type": "code",
      "source": [
        "from sklearn.linear_model import LogisticRegression\n",
        "\n",
        "def LogisticRegression_function(X_train, y_train, X_test, y_test, X):\n",
        "  # 0 - home, 1 - draw, 2 - away\n",
        "\n",
        "  logreg = LogisticRegression()\n",
        "  logreg.fit(X_train, y_train)\n",
        "\n",
        "  if ( not(X_test is None) and not(y_test is None)):\n",
        "    print('Accuracy of Logistic regression classifier on training set: {:.2f}'.format(logreg.score(X_train, y_train)))\n",
        "    print('Accuracy of Logistic regression on test set: {:.2f}'.format(logreg.score(X_test, y_test)))\n",
        "\n",
        "  return logreg.predict(X), logreg.predict_proba(X)"
      ],
      "metadata": {
        "id": "rX6TSbJEVBz3"
      },
      "execution_count": 67,
      "outputs": []
    },
    {
      "cell_type": "code",
      "source": [
        "LogisticRegression_function(X_1, y_train, X_2, y_test, X_2)"
      ],
      "metadata": {
        "id": "9xyu72-YVCzZ",
        "colab": {
          "base_uri": "https://localhost:8080/"
        },
        "outputId": "1f2824c8-ca07-4908-9347-a96c298dd172"
      },
      "execution_count": 68,
      "outputs": [
        {
          "output_type": "stream",
          "name": "stdout",
          "text": [
            "Accuracy of Logistic regression classifier on training set: 0.89\n",
            "Accuracy of Logistic regression on test set: 0.86\n"
          ]
        },
        {
          "output_type": "stream",
          "name": "stderr",
          "text": [
            "/usr/local/lib/python3.7/dist-packages/sklearn/utils/validation.py:1692: FutureWarning: Feature names only support names that are all strings. Got feature names with dtypes: ['int', 'str']. An error will be raised in 1.2.\n",
            "  FutureWarning,\n",
            "/usr/local/lib/python3.7/dist-packages/sklearn/utils/validation.py:1692: FutureWarning: Feature names only support names that are all strings. Got feature names with dtypes: ['int', 'str']. An error will be raised in 1.2.\n",
            "  FutureWarning,\n",
            "/usr/local/lib/python3.7/dist-packages/sklearn/utils/validation.py:1692: FutureWarning: Feature names only support names that are all strings. Got feature names with dtypes: ['int', 'str']. An error will be raised in 1.2.\n",
            "  FutureWarning,\n",
            "/usr/local/lib/python3.7/dist-packages/sklearn/utils/validation.py:1692: FutureWarning: Feature names only support names that are all strings. Got feature names with dtypes: ['int', 'str']. An error will be raised in 1.2.\n",
            "  FutureWarning,\n",
            "/usr/local/lib/python3.7/dist-packages/sklearn/utils/validation.py:1692: FutureWarning: Feature names only support names that are all strings. Got feature names with dtypes: ['int', 'str']. An error will be raised in 1.2.\n",
            "  FutureWarning,\n"
          ]
        },
        {
          "output_type": "execute_result",
          "data": {
            "text/plain": [
              "(array([0, 0, 1, ..., 1, 0, 1]), array([[0.60157612, 0.39842388],\n",
              "        [0.94942329, 0.05057671],\n",
              "        [0.04011987, 0.95988013],\n",
              "        ...,\n",
              "        [0.03463848, 0.96536152],\n",
              "        [0.95720666, 0.04279334],\n",
              "        [0.03939538, 0.96060462]]))"
            ]
          },
          "metadata": {},
          "execution_count": 68
        }
      ]
    },
    {
      "cell_type": "code",
      "source": [
        "from sklearn.tree import DecisionTreeClassifier\n",
        "\n",
        "def DecisionTree_function(X_train, y_train, X_test, y_test, X):\n",
        "  # 0 - home, 1 - draw, 2 - away\n",
        "\n",
        "  clf = DecisionTreeClassifier()\n",
        "  clf.fit(X_train, y_train)\n",
        "\n",
        "  if ( not(X_test is None) and not(y_test is None)):\n",
        "    print('Accuracy of DecisionTree classifier on training set: {:.2f}'.format(clf.score(X_train, y_train)))\n",
        "    print('Accuracy of DecisionTree on test set: {:.2f}'.format(clf.score(X_test, y_test)))\n",
        "\n",
        "  return clf.predict(X), clf.predict_proba(X)"
      ],
      "metadata": {
        "id": "_SGGe9LP2BGL"
      },
      "execution_count": 69,
      "outputs": []
    },
    {
      "cell_type": "code",
      "source": [
        "DecisionTree_function(X_trainm, y_train, X_testm, y_test, X_trainm)"
      ],
      "metadata": {
        "colab": {
          "base_uri": "https://localhost:8080/"
        },
        "id": "0rVVu6Yz2G04",
        "outputId": "5121cf27-f3fb-42b5-9c40-9a730f688edf"
      },
      "execution_count": 70,
      "outputs": [
        {
          "output_type": "stream",
          "name": "stdout",
          "text": [
            "Accuracy of DecisionTree classifier on training set: 1.00\n",
            "Accuracy of DecisionTree on test set: 0.84\n"
          ]
        },
        {
          "output_type": "execute_result",
          "data": {
            "text/plain": [
              "(array([0, 1, 1, ..., 0, 1, 1]), array([[1., 0.],\n",
              "        [0., 1.],\n",
              "        [0., 1.],\n",
              "        ...,\n",
              "        [1., 0.],\n",
              "        [0., 1.],\n",
              "        [0., 1.]]))"
            ]
          },
          "metadata": {},
          "execution_count": 70
        }
      ]
    },
    {
      "cell_type": "code",
      "source": [
        "# Example of a confusion matrix in Python\n",
        "from sklearn.metrics import confusion_matrix\n",
        "\n",
        "#first is category 0 then catgory 1. Check:\n",
        "#np.logical_and((y_test ==1),np.array([x[0] for x in (round(X_test_p) == 1).values])).sum()\n",
        "\n",
        "results = confusion_matrix(y_test, round(X_test_p))\n",
        "print(results)\n",
        "\n",
        "import seaborn as sns\n",
        "\n",
        "ax = sns.heatmap(results, annot=True, cmap='Blues')\n",
        "\n",
        "ax.set_title('Seaborn Confusion Matrix with labels\\n\\n');\n",
        "ax.set_xlabel('\\nPredicted Values')\n",
        "ax.set_ylabel('Actual Values ');\n",
        "\n",
        "## Ticket labels - List must be in alphabetical order\n",
        "ax.xaxis.set_ticklabels(['False','True'])\n",
        "ax.yaxis.set_ticklabels(['False','True'])\n",
        "\n",
        "## Display the visualization of the Confusion Matrix.\n",
        "plt.show()"
      ],
      "metadata": {
        "colab": {
          "base_uri": "https://localhost:8080/",
          "height": 372
        },
        "id": "1lmuvQun-DA_",
        "outputId": "ad9bf266-4d6d-4303-ea16-42e3cf95d262"
      },
      "execution_count": 71,
      "outputs": [
        {
          "output_type": "stream",
          "name": "stdout",
          "text": [
            "[[1903  548]\n",
            " [ 567 2756]]\n"
          ]
        },
        {
          "output_type": "display_data",
          "data": {
            "image/png": "[encoded data removed]",
            "text/plain": [
              "<Figure size 432x288 with 2 Axes>"
            ]
          },
          "metadata": {
            "needs_background": "light"
          }
        }
      ]
    },
    {
      "cell_type": "code",
      "source": [
        "from sklearn.model_selection import train_test_split\n",
        "from sklearn.metrics import roc_curve, roc_auc_score\n",
        "from sklearn.metrics import precision_recall_curve\n",
        "from sklearn.metrics import auc, plot_precision_recall_curve"
      ],
      "metadata": {
        "id": "J4ZiJBWsBU6s"
      },
      "execution_count": null,
      "outputs": []
    },
    {
      "cell_type": "code",
      "source": [
        "def draw_precision_recall_curve(model, sequences, labels):\n",
        "  \"\"\"\n",
        "  RETURN: precision (x-axis) - recall (y-axis) curve in graph with the \n",
        "  value of AUC   \n",
        "  \"\"\"\n",
        "    \n",
        "  probs = model.predict(sequences)\n",
        "  precision, recall, thresholds = precision_recall_curve(labels, probs)\n",
        "  plt.plot(recall, precision, marker='.', label='My model')\n",
        "  plt.xlabel('Recall')\n",
        "  plt.ylabel('Precision')\n",
        "  plt.legend(loc=\"lower center\")\n",
        "  plt.title('Precision recall curve')\n",
        "  auc_precision_recall = auc(recall, precision)\n",
        "  print(\"AUC-PR:\", auc_precision_recall)\n",
        "  plt.show()\n",
        "\n",
        "\n",
        "\n",
        "def ROC_curve(model, sequences, labels):\n",
        "  \"\"\"\n",
        "  RETURN: ROC (FPR (x-axis) - TPR curve (y-axis)) curve in graph with the \n",
        "  value of AUC   \n",
        "  \"\"\"\n",
        "\n",
        "  probs = model.predict(sequences)\n",
        "  fpr, tpr, thresholds = roc_curve(labels, probs)\n",
        "  auc_score = roc_auc_score(labels, probs)\n",
        "  print(\"AUC score: \", auc_score)\n",
        "  figure(num=None, figsize=(12, 9), dpi=80, facecolor='w', edgecolor='k')\n",
        "  plt.plot(fpr, tpr, 'blue', label='My model')\n",
        "  plt.axis([0, 1, 0, 1])\n",
        "  plt.xlabel('False Positive Rate')\n",
        "  plt.ylabel('True Positive Rate')\n",
        "  plt.legend(loc=\"lower center\")\n",
        "  plt.title('ROC curve')\n",
        "  plt.show()\n",
        "\n",
        "\n",
        "def f1_m(model, sequences, labels):\n",
        "  \"\"\"\n",
        "  RETURN: thrasholds and value of F1    \n",
        "  \"\"\"\n",
        "\n",
        "  predictions = model.predict(sequences)\n",
        "  precision, recall, thresholds = precision_recall_curve(labels, predictions)\n",
        "  \n",
        "  f1  = 2 * ( (precision * recall ) / (precision + recall))\n",
        "\n",
        "  return (thresholds, f1)\n",
        "\n",
        "\n",
        "def f1_graph(model, sequences, labels):\n",
        "  \"\"\"\n",
        "  RETURN: graph of F1 values (on y - axis) and thresholds values on (x - axis)   \n",
        "  \"\"\"\n",
        "\n",
        "  predictions = model.predict(sequences)\n",
        "  precision, recall, thresholds = precision_recall_curve(labels, predictions)\n",
        "  \n",
        "  f1  = 2 * ( (precision * recall ) / (precision + recall))\n",
        "\n",
        "  plt.plot(thresholds, f1[0: thresholds.shape[0]], 'blue', label='My model')\n",
        "  plt.xlabel('Thresholds')\n",
        "  plt.ylabel('F1')\n",
        "  plt.legend(loc=\"lower center\")\n",
        "  plt.title('F1 curve')\n",
        "  plt.show()\n",
        "\n",
        "\n",
        "\n",
        "def diag_graphs(model, sequences, labels):\n",
        "\n",
        "  probs = model.predict(sequences)\n",
        "  precision, recall, thresholds = precision_recall_curve(labels, probs)\n",
        "  fpr, tpr, thresholds = roc_curve(labels, probs)\n",
        "  thresholds, f1 = f1_m(model, sequences, labels)  \n",
        "\n",
        "  figure1, axis = plt.subplots(2, 2, squeeze=False)\n",
        "  figure1.tight_layout(pad=3.0)\n",
        "  \n",
        "  # For Precision - Recall graph\n",
        "  axis[0, 0].plot(recall, precision, label='My model')\n",
        "  axis[0, 0].set_xlabel('Recall')\n",
        "  axis[0, 0].set_ylabel('Precision')\n",
        "  axis[0, 0].set_title('Precision recall curve')\n",
        "  \n",
        "  # For FPR - TPR graphs\n",
        "  axis[0, 1].plot(fpr, tpr,  label='My model')\n",
        "  axis[0, 1].set_xlabel('False Positive Rate')\n",
        "  axis[0, 1].set_ylabel('True Positive Rate')\n",
        "  axis[0, 1].set_title('ROC curve')\n",
        "  \n",
        "  # For F1 graph\n",
        "  axis[1, 0].plot(thresholds, f1[0:thresholds.shape[0]],  label='My model')\n",
        "  axis[1, 0].set_xlabel('Thresholds')\n",
        "  axis[1, 0].set_ylabel('F1')\n",
        "  axis[1, 0].set_title('F1 curve')\n",
        "\n",
        "  # Combine all the operations and display\n",
        "  plt.show()\n",
        "\n",
        "  auc_score = roc_auc_score(labels, probs)\n",
        "  print(\"AUC score for (TPR, FPR) - graph: \", round(auc_score,4))\n",
        "\n",
        "  auc_precision_recall = auc(recall, precision)\n",
        "  print(\"AUC-PR for (precision - recall) graph:\", round(auc_precision_recall,4))\n"
      ],
      "metadata": {
        "id": "VhOqdmoPBU8k"
      },
      "execution_count": null,
      "outputs": []
    },
    {
      "cell_type": "code",
      "source": [
        ""
      ],
      "metadata": {
        "id": "nYVGJ8lhBVAW"
      },
      "execution_count": null,
      "outputs": []
    }
  ]
}