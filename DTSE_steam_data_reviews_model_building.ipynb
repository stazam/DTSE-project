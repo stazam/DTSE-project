{
  "nbformat": 4,
  "nbformat_minor": 0,
  "metadata": {
    "colab": {
      "name": "DTSE-steam-data-reviews-model-building.ipynb",
      "provenance": [],
      "mount_file_id": "1nSVdsz9NZe8SAj-5h-jnt7vpt_XWi7rG",
      "authorship_tag": "ABX9TyMpLDJ2TNrl47O7imlvW9OD",
      "include_colab_link": true
    },
    "kernelspec": {
      "name": "python3",
      "display_name": "Python 3"
    },
    "language_info": {
      "name": "python"
    }
  },
  "cells": [
    {
      "cell_type": "markdown",
      "metadata": {
        "id": "view-in-github",
        "colab_type": "text"
      },
      "source": [
        "<a href=\"https://colab.research.google.com/github/stazam/DTSE-project/blob/main/DTSE_steam_data_reviews_model_building.ipynb\" target=\"_parent\"><img src=\"https://colab.research.google.com/assets/colab-badge.svg\" alt=\"Open In Colab\"/></a>"
      ]
    },
    {
      "cell_type": "markdown",
      "source": [
        "# **Model bulding**\n",
        "\n",
        "We will try to use various models for user_review category prediction. Types of models which we will consider:\n",
        "\n",
        "1. Bidirectional LSTM with embedding layer \n",
        "2. Bidirectional LSTM + CNN layer with embedding layer \n",
        "3. BERT - transformer for text classification with pretrained embeddings. \n",
        "\n",
        "We also try this models with and without removing stop words and lemmatizational process.\n"
      ],
      "metadata": {
        "id": "3i_Q7TyH9h2J"
      }
    },
    {
      "cell_type": "code",
      "execution_count": 1,
      "metadata": {
        "colab": {
          "base_uri": "https://localhost:8080/"
        },
        "id": "5Ow-E-pVtvsP",
        "outputId": "1a3e1336-8149-412e-d35f-048f96b73683"
      },
      "outputs": [
        {
          "output_type": "stream",
          "name": "stdout",
          "text": [
            "Drive already mounted at /content/drive; to attempt to forcibly remount, call drive.mount(\"/content/drive\", force_remount=True).\n"
          ]
        }
      ],
      "source": [
        "import tensorflow as tf\n",
        "import keras\n",
        "import sys\n",
        "import numpy as np \n",
        "import matplotlib.pyplot as plt\n",
        "import pandas as pd\n",
        "\n",
        "from sklearn.model_selection import train_test_split\n",
        "from sklearn import metrics\n",
        "\n",
        "from tensorflow.keras.preprocessing.text import Tokenizer\n",
        "from tensorflow.keras.preprocessing.sequence import pad_sequences\n",
        "from tensorflow.keras.models import load_model\n",
        "\n",
        "from keras import applications\n",
        "from keras.models import Sequential\n",
        "from keras.layers import Dense, Embedding, Bidirectional\n",
        "from keras.layers import Convolution2D, MaxPooling2D,BatchNormalization,GlobalAveragePooling1D, Flatten, Dropout\n",
        "from keras import optimizers\n",
        "\n",
        "from google.colab import drive\n",
        "drive.mount('/content/drive')\n"
      ]
    },
    {
      "cell_type": "code",
      "source": [
        "sys.path.append('/content/drive/MyDrive/DTSE-data/Python-files')\n",
        "from help_functions import *"
      ],
      "metadata": {
        "id": "pIEI8zMvvO19"
      },
      "execution_count": 2,
      "outputs": []
    },
    {
      "cell_type": "code",
      "source": [
        "df_train_merged = pd.read_pickle(\"/content/drive/MyDrive/DTSE-data/data-files/df_train_merged.pkl\")\n",
        "df_test_merged = pd.read_pickle(\"/content/drive/MyDrive/DTSE-data/data-files/df_test_merged.pkl\")"
      ],
      "metadata": {
        "id": "HqwzYg_9vO4N"
      },
      "execution_count": 3,
      "outputs": []
    },
    {
      "cell_type": "code",
      "source": [
        "df_train_merged.head()"
      ],
      "metadata": {
        "colab": {
          "base_uri": "https://localhost:8080/",
          "height": 337
        },
        "id": "CSXD9ajW9bT3",
        "outputId": "459ecbff-a9a3-4e57-87fc-68f83eecd41a"
      },
      "execution_count": 5,
      "outputs": [
        {
          "output_type": "execute_result",
          "data": {
            "text/html": [
              "\n",
              "  <div id=\"df-7806f7a8-8210-481d-85dd-4c9dbdc10b98\">\n",
              "    <div class=\"colab-df-container\">\n",
              "      <div>\n",
              "<style scoped>\n",
              "    .dataframe tbody tr th:only-of-type {\n",
              "        vertical-align: middle;\n",
              "    }\n",
              "\n",
              "    .dataframe tbody tr th {\n",
              "        vertical-align: top;\n",
              "    }\n",
              "\n",
              "    .dataframe thead th {\n",
              "        text-align: right;\n",
              "    }\n",
              "</style>\n",
              "<table border=\"1\" class=\"dataframe\">\n",
              "  <thead>\n",
              "    <tr style=\"text-align: right;\">\n",
              "      <th></th>\n",
              "      <th>review_id</th>\n",
              "      <th>title</th>\n",
              "      <th>year</th>\n",
              "      <th>user_review</th>\n",
              "      <th>user_suggestion</th>\n",
              "      <th>developer</th>\n",
              "      <th>publisher</th>\n",
              "      <th>tags</th>\n",
              "      <th>overview</th>\n",
              "    </tr>\n",
              "  </thead>\n",
              "  <tbody>\n",
              "    <tr>\n",
              "      <th>0</th>\n",
              "      <td>1</td>\n",
              "      <td>Spooky's Jump Scare Mansion</td>\n",
              "      <td>2016.0</td>\n",
              "      <td>I'm scared and hearing creepy voices.  So I'll...</td>\n",
              "      <td>1</td>\n",
              "      <td>Lag Studios</td>\n",
              "      <td>Lag Studios</td>\n",
              "      <td>['Horror', 'Free to Play', 'Cute', 'First-Pers...</td>\n",
              "      <td>Can you survive 1000 rooms of cute terror? Or ...</td>\n",
              "    </tr>\n",
              "    <tr>\n",
              "      <th>1</th>\n",
              "      <td>2</td>\n",
              "      <td>Spooky's Jump Scare Mansion</td>\n",
              "      <td>2016.0</td>\n",
              "      <td>Best game, more better than Sam Pepper's YouTu...</td>\n",
              "      <td>1</td>\n",
              "      <td>Lag Studios</td>\n",
              "      <td>Lag Studios</td>\n",
              "      <td>['Horror', 'Free to Play', 'Cute', 'First-Pers...</td>\n",
              "      <td>Can you survive 1000 rooms of cute terror? Or ...</td>\n",
              "    </tr>\n",
              "    <tr>\n",
              "      <th>2</th>\n",
              "      <td>3</td>\n",
              "      <td>Spooky's Jump Scare Mansion</td>\n",
              "      <td>2016.0</td>\n",
              "      <td>A littly iffy on the controls, but once you kn...</td>\n",
              "      <td>1</td>\n",
              "      <td>Lag Studios</td>\n",
              "      <td>Lag Studios</td>\n",
              "      <td>['Horror', 'Free to Play', 'Cute', 'First-Pers...</td>\n",
              "      <td>Can you survive 1000 rooms of cute terror? Or ...</td>\n",
              "    </tr>\n",
              "    <tr>\n",
              "      <th>3</th>\n",
              "      <td>4</td>\n",
              "      <td>Spooky's Jump Scare Mansion</td>\n",
              "      <td>2015.0</td>\n",
              "      <td>Great game, fun and colorful and all that.A si...</td>\n",
              "      <td>1</td>\n",
              "      <td>Lag Studios</td>\n",
              "      <td>Lag Studios</td>\n",
              "      <td>['Horror', 'Free to Play', 'Cute', 'First-Pers...</td>\n",
              "      <td>Can you survive 1000 rooms of cute terror? Or ...</td>\n",
              "    </tr>\n",
              "    <tr>\n",
              "      <th>4</th>\n",
              "      <td>5</td>\n",
              "      <td>Spooky's Jump Scare Mansion</td>\n",
              "      <td>2015.0</td>\n",
              "      <td>Not many games have the cute tag right next to...</td>\n",
              "      <td>1</td>\n",
              "      <td>Lag Studios</td>\n",
              "      <td>Lag Studios</td>\n",
              "      <td>['Horror', 'Free to Play', 'Cute', 'First-Pers...</td>\n",
              "      <td>Can you survive 1000 rooms of cute terror? Or ...</td>\n",
              "    </tr>\n",
              "  </tbody>\n",
              "</table>\n",
              "</div>\n",
              "      <button class=\"colab-df-convert\" onclick=\"convertToInteractive('df-7806f7a8-8210-481d-85dd-4c9dbdc10b98')\"\n",
              "              title=\"Convert this dataframe to an interactive table.\"\n",
              "              style=\"display:none;\">\n",
              "        \n",
              "  <svg xmlns=\"http://www.w3.org/2000/svg\" height=\"24px\"viewBox=\"0 0 24 24\"\n",
              "       width=\"24px\">\n",
              "    <path d=\"M0 0h24v24H0V0z\" fill=\"none\"/>\n",
              "    <path d=\"M18.56 5.44l.94 2.06.94-2.06 2.06-.94-2.06-.94-.94-2.06-.94 2.06-2.06.94zm-11 1L8.5 8.5l.94-2.06 2.06-.94-2.06-.94L8.5 2.5l-.94 2.06-2.06.94zm10 10l.94 2.06.94-2.06 2.06-.94-2.06-.94-.94-2.06-.94 2.06-2.06.94z\"/><path d=\"M17.41 7.96l-1.37-1.37c-.4-.4-.92-.59-1.43-.59-.52 0-1.04.2-1.43.59L10.3 9.45l-7.72 7.72c-.78.78-.78 2.05 0 2.83L4 21.41c.39.39.9.59 1.41.59.51 0 1.02-.2 1.41-.59l7.78-7.78 2.81-2.81c.8-.78.8-2.07 0-2.86zM5.41 20L4 18.59l7.72-7.72 1.47 1.35L5.41 20z\"/>\n",
              "  </svg>\n",
              "      </button>\n",
              "      \n",
              "  <style>\n",
              "    .colab-df-container {\n",
              "      display:flex;\n",
              "      flex-wrap:wrap;\n",
              "      gap: 12px;\n",
              "    }\n",
              "\n",
              "    .colab-df-convert {\n",
              "      background-color: #E8F0FE;\n",
              "      border: none;\n",
              "      border-radius: 50%;\n",
              "      cursor: pointer;\n",
              "      display: none;\n",
              "      fill: #1967D2;\n",
              "      height: 32px;\n",
              "      padding: 0 0 0 0;\n",
              "      width: 32px;\n",
              "    }\n",
              "\n",
              "    .colab-df-convert:hover {\n",
              "      background-color: #E2EBFA;\n",
              "      box-shadow: 0px 1px 2px rgba(60, 64, 67, 0.3), 0px 1px 3px 1px rgba(60, 64, 67, 0.15);\n",
              "      fill: #174EA6;\n",
              "    }\n",
              "\n",
              "    [theme=dark] .colab-df-convert {\n",
              "      background-color: #3B4455;\n",
              "      fill: #D2E3FC;\n",
              "    }\n",
              "\n",
              "    [theme=dark] .colab-df-convert:hover {\n",
              "      background-color: #434B5C;\n",
              "      box-shadow: 0px 1px 3px 1px rgba(0, 0, 0, 0.15);\n",
              "      filter: drop-shadow(0px 1px 2px rgba(0, 0, 0, 0.3));\n",
              "      fill: #FFFFFF;\n",
              "    }\n",
              "  </style>\n",
              "\n",
              "      <script>\n",
              "        const buttonEl =\n",
              "          document.querySelector('#df-7806f7a8-8210-481d-85dd-4c9dbdc10b98 button.colab-df-convert');\n",
              "        buttonEl.style.display =\n",
              "          google.colab.kernel.accessAllowed ? 'block' : 'none';\n",
              "\n",
              "        async function convertToInteractive(key) {\n",
              "          const element = document.querySelector('#df-7806f7a8-8210-481d-85dd-4c9dbdc10b98');\n",
              "          const dataTable =\n",
              "            await google.colab.kernel.invokeFunction('convertToInteractive',\n",
              "                                                     [key], {});\n",
              "          if (!dataTable) return;\n",
              "\n",
              "          const docLinkHtml = 'Like what you see? Visit the ' +\n",
              "            '<a target=\"_blank\" href=https://colab.research.google.com/notebooks/data_table.ipynb>data table notebook</a>'\n",
              "            + ' to learn more about interactive tables.';\n",
              "          element.innerHTML = '';\n",
              "          dataTable['output_type'] = 'display_data';\n",
              "          await google.colab.output.renderOutput(dataTable, element);\n",
              "          const docLink = document.createElement('div');\n",
              "          docLink.innerHTML = docLinkHtml;\n",
              "          element.appendChild(docLink);\n",
              "        }\n",
              "      </script>\n",
              "    </div>\n",
              "  </div>\n",
              "  "
            ],
            "text/plain": [
              "   review_id  ...                                           overview\n",
              "0          1  ...  Can you survive 1000 rooms of cute terror? Or ...\n",
              "1          2  ...  Can you survive 1000 rooms of cute terror? Or ...\n",
              "2          3  ...  Can you survive 1000 rooms of cute terror? Or ...\n",
              "3          4  ...  Can you survive 1000 rooms of cute terror? Or ...\n",
              "4          5  ...  Can you survive 1000 rooms of cute terror? Or ...\n",
              "\n",
              "[5 rows x 9 columns]"
            ]
          },
          "metadata": {},
          "execution_count": 5
        }
      ]
    },
    {
      "cell_type": "markdown",
      "source": [
        "# **Bidirectional LSTM**\n",
        "\n",
        "removing stop words, lemmatization\n",
        "\n"
      ],
      "metadata": {
        "id": "4ebEr8YQ-AIl"
      }
    },
    {
      "cell_type": "code",
      "source": [
        "skuska = df_train_merged.title + df_train_merged.developer + + df_train_merged.publisher + df_train_merged.tags.apply(lambda x: x[1:-1]) + df_train_merged.overview + df_train_merged.user_review"
      ],
      "metadata": {
        "id": "tS9ZP9hFIu0G"
      },
      "execution_count": 42,
      "outputs": []
    },
    {
      "cell_type": "code",
      "source": [
        "import nltk\n",
        "nltk.download('stopwords')\n",
        "nltk.download('punkt')\n",
        "nltk.download('wordnet')"
      ],
      "metadata": {
        "colab": {
          "base_uri": "https://localhost:8080/"
        },
        "id": "s0iHGcCYJkcG",
        "outputId": "5187bdec-9c99-43d2-9550-cfa8f824c1a6"
      },
      "execution_count": 24,
      "outputs": [
        {
          "output_type": "stream",
          "name": "stdout",
          "text": [
            "[nltk_data] Downloading package stopwords to /root/nltk_data...\n",
            "[nltk_data]   Package stopwords is already up-to-date!\n",
            "[nltk_data] Downloading package punkt to /root/nltk_data...\n",
            "[nltk_data]   Package punkt is already up-to-date!\n",
            "[nltk_data] Downloading package wordnet to /root/nltk_data...\n",
            "[nltk_data]   Unzipping corpora/wordnet.zip.\n"
          ]
        },
        {
          "output_type": "execute_result",
          "data": {
            "text/plain": [
              "True"
            ]
          },
          "metadata": {},
          "execution_count": 24
        }
      ]
    },
    {
      "cell_type": "code",
      "source": [
        "from nltk.corpus import stopwords\n",
        "from nltk.tokenize import word_tokenize\n",
        "from nltk.stem import WordNetLemmatizer\n",
        " \n",
        "\n",
        "def process_test(x):\n",
        "  \n",
        "  lemmatizer = WordNetLemmatizer()\n",
        "  \n",
        "  x = x.replace(\"'re\",'are')\n",
        "  X = X.replace(\"'s\",'is')\n",
        "\n",
        "  stop_words = set(stopwords.words('english'))\n",
        "  word_tokens = word_tokenize(x)\n",
        "\n",
        "  filtered_sentence = [lemmatizer.lemmatize(w) for w in word_tokens if not w.lower() in stop_words]\n",
        "  \n",
        "  return \" \".join(filtered_sentence)"
      ],
      "metadata": {
        "id": "_qmxuOMRJDpJ"
      },
      "execution_count": 33,
      "outputs": []
    },
    {
      "cell_type": "code",
      "source": [
        "skuska"
      ],
      "metadata": {
        "colab": {
          "base_uri": "https://localhost:8080/"
        },
        "id": "Yd4FSTDlLQ_x",
        "outputId": "b2ae5524-24ad-4603-a594-9693d31751a8"
      },
      "execution_count": 43,
      "outputs": [
        {
          "output_type": "execute_result",
          "data": {
            "text/plain": [
              "0        Spooky's Jump Scare MansionLag Studios Lag Stu...\n",
              "1        Spooky's Jump Scare MansionLag Studios Lag Stu...\n",
              "2        Spooky's Jump Scare MansionLag Studios Lag Stu...\n",
              "3        Spooky's Jump Scare MansionLag Studios Lag Stu...\n",
              "4        Spooky's Jump Scare MansionLag Studios Lag Stu...\n",
              "                               ...                        \n",
              "17489    EverQuest IIDaybreak Game Company Daybreak Gam...\n",
              "17490    EverQuest IIDaybreak Game Company Daybreak Gam...\n",
              "17491    EverQuest IIDaybreak Game Company Daybreak Gam...\n",
              "17492    EverQuest IIDaybreak Game Company Daybreak Gam...\n",
              "17493    EverQuest IIDaybreak Game Company Daybreak Gam...\n",
              "Length: 17494, dtype: object"
            ]
          },
          "metadata": {},
          "execution_count": 43
        }
      ]
    },
    {
      "cell_type": "code",
      "source": [
        ""
      ],
      "metadata": {
        "id": "41VoGRnUIu5q"
      },
      "execution_count": null,
      "outputs": []
    },
    {
      "cell_type": "code",
      "source": [
        ""
      ],
      "metadata": {
        "id": "AYBSTf_fIu7d"
      },
      "execution_count": null,
      "outputs": []
    },
    {
      "cell_type": "code",
      "source": [
        "df_train_merged['text'] = df_train_merged.tags.apply(lambda x: x[1:-1]) + df_train_merged.overview + df_train_merged.user_review\n",
        "\n",
        "X = df_train_merged\n",
        "y = X.user_suggestion.values\n",
        "X.head()"
      ],
      "metadata": {
        "id": "u5iHwcYe9bVu"
      },
      "execution_count": null,
      "outputs": []
    },
    {
      "cell_type": "code",
      "source": [
        "X_train, X_test, y_train, y_test = train_test_split(X, y, test_size=0.33, random_state=42)"
      ],
      "metadata": {
        "id": "oDPYKWab9bX7"
      },
      "execution_count": null,
      "outputs": []
    },
    {
      "cell_type": "code",
      "source": [
        "X_train_NN = X_train.text.values\n",
        "X_test_NN = X_test.text.values"
      ],
      "metadata": {
        "id": "SERRxA419bbT"
      },
      "execution_count": null,
      "outputs": []
    },
    {
      "cell_type": "code",
      "source": [
        "print(\"The longest sequence is {} words long.\".format(max([len(x) for x in X_train_NN])))\n",
        "pd.DataFrame([len(x) for x in X_train_NN]).describe()"
      ],
      "metadata": {
        "id": "RqjELYpU-NWM"
      },
      "execution_count": null,
      "outputs": []
    },
    {
      "cell_type": "code",
      "source": [
        "max_length = 5000\n",
        "trunc_type='post'\n",
        "padding_type='post'\n",
        "oov_tok = \"<OOV>\"\n",
        "vocab_size = 10000\n",
        "#training_size = 20000\n",
        "\n",
        "tokenizer = Tokenizer(num_words=vocab_size, oov_token=oov_tok)\n",
        "tokenizer.fit_on_texts(X_train_NN)\n",
        "\n",
        "print('Vocabulary is {} words large'.format(len(tokenizer.word_index)))"
      ],
      "metadata": {
        "id": "ItFIFbEV-NYY"
      },
      "execution_count": null,
      "outputs": []
    },
    {
      "cell_type": "code",
      "source": [
        "sorted(tokenizer.word_counts.items(), key = lambda t: t[1])[47000:]"
      ],
      "metadata": {
        "id": "MijxKvnX-Naf"
      },
      "execution_count": null,
      "outputs": []
    },
    {
      "cell_type": "code",
      "source": [
        "X_train_NN = tokenizer.texts_to_sequences(X_train_NN)\n",
        "X_train_padded_NN = np.array(pad_sequences(X_train_NN, maxlen=max_length, padding=padding_type, truncating=trunc_type))\n",
        "\n",
        "X_test_NN = tokenizer.texts_to_sequences(X_test_NN)\n",
        "X_test_padded_NN = np.array(pad_sequences(X_test_NN, maxlen=max_length, padding=padding_type, truncating=trunc_type))"
      ],
      "metadata": {
        "id": "3tejFnzP-Nc4"
      },
      "execution_count": null,
      "outputs": []
    },
    {
      "cell_type": "code",
      "source": [
        "METRICS = [\n",
        "      tf.keras.metrics.BinaryAccuracy(name='accuracy'),\n",
        "      tf.keras.metrics.Precision(name='precision'),\n",
        "      tf.keras.metrics.Recall(name='recall')\n",
        "]\n",
        "\n",
        "model = tf.keras.Sequential()\n",
        "\n",
        "model.add(Embedding(vocab_size,240, input_length = max_length))\n",
        "model.add(Bidirectional(keras.layers.LSTM(64, return_sequences=True)))\n",
        "model.add(Bidirectional(keras.layers.LSTM(32, return_sequences=True)))\n",
        "model.add(Flatten()),\n",
        "Dropout(0.5),\n",
        "model.add(Dense(1,activation = 'sigmoid'))\n",
        "\n",
        "\n",
        "model.compile(loss = 'binary_crossentropy',optimizer='adam',metrics = METRICS)\n",
        "\n",
        "model.summary()"
      ],
      "metadata": {
        "id": "CvO0oEH0-NfK"
      },
      "execution_count": null,
      "outputs": []
    },
    {
      "cell_type": "code",
      "source": [
        "history = model.fit(X_train_padded_NN, y_train, epochs=1, validation_data=(X_test_padded_NN, y_test), verbose = 1)"
      ],
      "metadata": {
        "id": "MnBakSEX-Nhv"
      },
      "execution_count": null,
      "outputs": []
    },
    {
      "cell_type": "code",
      "source": [
        "X_train_pred = model.predict(X_train_padded_NN)\n",
        "X_test_pred = model.predict(X_test_padded_NN)"
      ],
      "metadata": {
        "id": "D7Cmkpno-Njx"
      },
      "execution_count": null,
      "outputs": []
    },
    {
      "cell_type": "code",
      "source": [
        "from sklearn.metrics import confusion_matrix\n",
        "\n",
        "#first is category 0 then catgory 1. Check:\n",
        "#np.logical_and((y_test ==1),np.array([x[0] for x in (round(X_test_p) == 1).values])).sum()\n",
        "\n",
        "results = confusion_matrix(y_test, round(X_test_p))\n",
        "print(results)\n",
        "\n",
        "import seaborn as sns\n",
        "\n",
        "ax = sns.heatmap(results, annot=True, cmap='Blues')\n",
        "\n",
        "ax.set_title('Seaborn Confusion Matrix with labels\\n\\n');\n",
        "ax.set_xlabel('\\nPredicted Values')\n",
        "ax.set_ylabel('Actual Values ');\n",
        "\n",
        "## Ticket labels - List must be in alphabetical order\n",
        "ax.xaxis.set_ticklabels(['False','True'])\n",
        "ax.yaxis.set_ticklabels(['False','True'])\n",
        "\n",
        "## Display the visualization of the Confusion Matrix.\n",
        "plt.show()"
      ],
      "metadata": {
        "id": "q8cjzMdp-NnK"
      },
      "execution_count": null,
      "outputs": []
    },
    {
      "cell_type": "code",
      "source": [
        ""
      ],
      "metadata": {
        "id": "5KSE_7NY-iI8"
      },
      "execution_count": null,
      "outputs": []
    },
    {
      "cell_type": "code",
      "source": [
        ""
      ],
      "metadata": {
        "id": "R12ufKkd-iLM"
      },
      "execution_count": null,
      "outputs": []
    },
    {
      "cell_type": "code",
      "source": [
        ""
      ],
      "metadata": {
        "id": "Vm5iXRS--iNU"
      },
      "execution_count": null,
      "outputs": []
    },
    {
      "cell_type": "code",
      "source": [
        ""
      ],
      "metadata": {
        "id": "BZCLpTWN-iPw"
      },
      "execution_count": null,
      "outputs": []
    },
    {
      "cell_type": "code",
      "source": [
        ""
      ],
      "metadata": {
        "id": "ra0yHDDJ-iR3"
      },
      "execution_count": null,
      "outputs": []
    },
    {
      "cell_type": "code",
      "source": [
        ""
      ],
      "metadata": {
        "id": "t4kqGoUW-iUC"
      },
      "execution_count": null,
      "outputs": []
    },
    {
      "cell_type": "code",
      "source": [
        ""
      ],
      "metadata": {
        "id": "kC5X-qMz-iVy"
      },
      "execution_count": null,
      "outputs": []
    },
    {
      "cell_type": "code",
      "source": [
        ""
      ],
      "metadata": {
        "id": "bvuRsGEt-iZG"
      },
      "execution_count": null,
      "outputs": []
    },
    {
      "cell_type": "code",
      "source": [
        "from sklearn.impute import KNNImputer\n",
        "import numpy as np\n",
        "\n",
        "def knn_inputer(X):\n",
        "\n",
        "    X[X.isnull()] = np.nan\n",
        "\n",
        "    imputer = KNNImputer(n_neighbors=2)\n",
        "    X_im = imputer.fit_transform(X)\n",
        "    return pd.DataFrame(X_im, columns = list(X.columns))\n",
        "\n",
        "def process_dat(X):\n",
        "  \n",
        "  X_1 = X.loc[:,['title','developer','publisher']]\n",
        "  X_1 = pd.get_dummies(X_1)\n",
        "  X_1 = pd.concat([X_1,X.loc[:,['review_id','year']]], axis = 1)\n",
        "\n",
        "  return X_1\n",
        "\n",
        "X_trainm = process_dat(X_train)\n",
        "X_trainm = knn_inputer(X_trainm)\n",
        "X_trainm['predictions'] = [x[0] for x in X_train_pred.tolist()]\n",
        "\n",
        "X_testm = process_dat(X_test)\n",
        "X_testm = knn_inputer(X_testm)\n",
        "X_testm['predictions'] = [x[0] for x in X_test_pred.tolist()]\n",
        "\n",
        "print(X_trainm.isnull().sum())\n",
        "print(X_testm.isnull().sum())"
      ],
      "metadata": {
        "id": "Z4_xUhPlvO6L"
      },
      "execution_count": null,
      "outputs": []
    },
    {
      "cell_type": "code",
      "source": [
        ""
      ],
      "metadata": {
        "id": "chp8ssrZvO8Z"
      },
      "execution_count": null,
      "outputs": []
    },
    {
      "cell_type": "code",
      "source": [
        ""
      ],
      "metadata": {
        "id": "iE4dbmzJvO-u"
      },
      "execution_count": null,
      "outputs": []
    }
  ]
}