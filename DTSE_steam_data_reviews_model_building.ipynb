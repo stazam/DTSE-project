{
  "cells": [
    {
      "cell_type": "markdown",
      "metadata": {
        "id": "view-in-github",
        "colab_type": "text"
      },
      "source": [
        "<a href=\"https://colab.research.google.com/github/stazam/DTSE-project/blob/main/DTSE_steam_data_reviews_model_building.ipynb\" target=\"_parent\"><img src=\"https://colab.research.google.com/assets/colab-badge.svg\" alt=\"Open In Colab\"/></a>"
      ]
    },
    {
      "cell_type": "markdown",
      "metadata": {
        "id": "3i_Q7TyH9h2J"
      },
      "source": [
        "# **Model bulding**\n",
        "\n",
        "First we will start by preprocessing text variables in datasets:\n",
        "\n",
        "1. checking english language - we will be modelling only english written variables\n",
        "2. removing \"vaste\" characters\n",
        "3. lemmatization and removing stop words (we will create models taught with and without)\n",
        "\n",
        "We will try to use various models for user_review category prediction. Types of models which we will consider:\n",
        "\n",
        "1. Bidirectional LSTM layer (try add CNN layer) with embedding layer without removing stop words and lematization \n",
        "2. Bidirectional LSTM layer (try add CNN layer) with embedding layer with using a stop wrods and lematization \n",
        "3. BERT - transformer for text classification without pretrained embeddings without removing stop words and lematization. \n",
        "4. BERT - transformer for text classification with pretrained embeddings without removing stop words and lematization.\n",
        "\n",
        "Also we will use stacking method to incorporate information from varibales **year**. \n",
        "\n",
        "At the end we create **predict_pipeline** function for prediction, which will consist of preprocessing and prediction part.\n",
        "\n"
      ]
    },
    {
      "cell_type": "code",
      "execution_count": 1,
      "metadata": {
        "colab": {
          "base_uri": "https://localhost:8080/"
        },
        "id": "5Ow-E-pVtvsP",
        "outputId": "78f2f741-ba52-47bf-fdc2-4081153c37d0"
      },
      "outputs": [
        {
          "output_type": "stream",
          "name": "stdout",
          "text": [
            "[nltk_data] Downloading package stopwords to /root/nltk_data...\n",
            "[nltk_data]   Unzipping corpora/stopwords.zip.\n",
            "[nltk_data] Downloading package punkt to /root/nltk_data...\n",
            "[nltk_data]   Unzipping tokenizers/punkt.zip.\n",
            "[nltk_data] Downloading package wordnet to /root/nltk_data...\n",
            "[nltk_data]   Unzipping corpora/wordnet.zip.\n",
            "Collecting langdetect\n",
            "  Downloading langdetect-1.0.9.tar.gz (981 kB)\n",
            "\u001b[K     |████████████████████████████████| 981 kB 12.1 MB/s \n",
            "\u001b[?25hRequirement already satisfied: six in /usr/local/lib/python3.7/dist-packages (from langdetect) (1.15.0)\n",
            "Building wheels for collected packages: langdetect\n",
            "  Building wheel for langdetect (setup.py) ... \u001b[?25l\u001b[?25hdone\n",
            "  Created wheel for langdetect: filename=langdetect-1.0.9-py3-none-any.whl size=993242 sha256=3a86dce0d18040c2bc8fdb842502bf4d9e7e635a23848c870799cc841e9a23ed\n",
            "  Stored in directory: /root/.cache/pip/wheels/c5/96/8a/f90c59ed25d75e50a8c10a1b1c2d4c402e4dacfa87f3aff36a\n",
            "Successfully built langdetect\n",
            "Installing collected packages: langdetect\n",
            "Successfully installed langdetect-1.0.9\n",
            "Mounted at /content/drive\n"
          ]
        }
      ],
      "source": [
        "import tensorflow as tf\n",
        "import keras\n",
        "import sys\n",
        "import numpy as np \n",
        "import matplotlib.pyplot as plt\n",
        "import pandas as pd\n",
        "\n",
        "from sklearn.model_selection import train_test_split\n",
        "from sklearn import metrics\n",
        "from sklearn.impute import KNNImputer\n",
        "from sklearn.metrics import precision_recall_fscore_support\n",
        "\n",
        "from tensorflow.keras.preprocessing.text import Tokenizer\n",
        "from tensorflow.keras.preprocessing.sequence import pad_sequences\n",
        "from tensorflow.keras.models import load_model\n",
        "\n",
        "from keras import applications\n",
        "from keras.models import Sequential\n",
        "from keras.layers import Dense, Embedding, Bidirectional\n",
        "from keras.layers import Convolution2D, MaxPooling2D,BatchNormalization,GlobalAveragePooling1D, Flatten, Dropout\n",
        "from keras import optimizers\n",
        "\n",
        "import nltk\n",
        "nltk.download('stopwords')\n",
        "nltk.download('punkt')\n",
        "nltk.download('wordnet')\n",
        "\n",
        "from nltk.corpus import stopwords\n",
        "from nltk.tokenize import word_tokenize\n",
        "from nltk.stem import WordNetLemmatizer\n",
        "\n",
        "!pip install langdetect\n",
        "from langdetect import detect\n",
        "\n",
        "import re \n",
        "\n",
        "from google.colab import drive\n",
        "drive.mount('/content/drive')\n"
      ]
    },
    {
      "cell_type": "code",
      "execution_count": 2,
      "metadata": {
        "id": "pIEI8zMvvO19"
      },
      "outputs": [],
      "source": [
        "sys.path.append('/content/drive/MyDrive/DTSE-data/Python-files')\n",
        "from help_functions import *"
      ]
    },
    {
      "cell_type": "code",
      "execution_count": 3,
      "metadata": {
        "id": "HqwzYg_9vO4N"
      },
      "outputs": [],
      "source": [
        "df_train_merged = pd.read_pickle(\"/content/drive/MyDrive/DTSE-data/data-files/df_train_merged.pkl\")\n",
        "df_test_merged = pd.read_pickle(\"/content/drive/MyDrive/DTSE-data/data-files/df_test_merged.pkl\")"
      ]
    },
    {
      "cell_type": "markdown",
      "metadata": {
        "id": "4ebEr8YQ-AIl"
      },
      "source": [
        "# 1. **Bidirectional LSTM** (try add CNN) without removing stop words and lematization\n",
        "\n",
        "\n"
      ]
    },
    {
      "cell_type": "markdown",
      "metadata": {
        "id": "7-jlcNLkm2Bk"
      },
      "source": [
        "# **Text** preprocessing\n",
        "\n",
        "We will check for language of string variables. Since we have seen during **game_overview** file inspection that both *developer, publisher* and also *title* are english words, we do not need to check them. But we have to inspect **user_review** for english language."
      ]
    },
    {
      "cell_type": "code",
      "execution_count": 4,
      "metadata": {
        "id": "bpN9bQdJ9Gc7"
      },
      "outputs": [],
      "source": [
        "def check_language(x):\n",
        "    \n",
        "    try:\n",
        "      return detect(x) \n",
        "    except:\n",
        "        return None\n",
        "\n",
        "df_train_merged['language'] = df_train_merged.user_review.apply(lambda x: check_language(x))"
      ]
    },
    {
      "cell_type": "code",
      "execution_count": 5,
      "metadata": {
        "colab": {
          "base_uri": "https://localhost:8080/"
        },
        "id": "6LSHr7Z0x0xF",
        "outputId": "72b9723b-1b8e-45de-ab2c-13ad73f6989e"
      },
      "outputs": [
        {
          "output_type": "stream",
          "name": "stdout",
          "text": [
            "215 rows from train dataset in different language were removed\n"
          ]
        }
      ],
      "source": [
        "print('{} rows from train dataset in different language were removed'.format(sum(df_train_merged.language.values != 'en')))\n",
        "df_train_merged = df_train_merged.loc[df_train_merged.language == 'en',:]"
      ]
    },
    {
      "cell_type": "markdown",
      "metadata": {
        "id": "gi11pFHZ6tCa"
      },
      "source": [
        "We can see we loose 215 rows with user_reviews in differnt languages."
      ]
    },
    {
      "cell_type": "code",
      "execution_count": 6,
      "metadata": {
        "id": "ic8hpuoXqWkZ"
      },
      "outputs": [],
      "source": [
        "#symbols = set([y for x in df_train_merged.user_review.values for y in x if not y.isalnum()])\n",
        "#print(symbols)\n",
        "symbols_up = {'⭐', '`', 'ี', '／', '“', '⟶', '‘', '˘', '\\u2007', '□', '♬', '\\xad', '«', '้', '☢', '[', '¯', '＼', ']', '☠', 'Ⓚ', 'ั', '¶', '€', '⌐', '^', '‹', '⁀', '･', '£', '%', '=', ' ', '*', '¬', '▀', '━', '♪', '⌬', '∞', '&', ';', '”', '・', '▒', '+', '☐', '{', '¨', '⌠', '☹', '\\xa0', '｜', '~', '？', '」', '¿', '¢', '่', '|', '◕', '@', '‡', '⟵', '☻', '·', '≠', '´', '☑', '✎', '۞', '͠', '˚', '✖', '●', '✦', '✰', '⋎', '͜', '✫', '■', '✩', '،', '┐', '►', \"'\", '_', '→', '❤', '§', '︵', '░', '✌', '▽', '•', '！', '▲', '█', '?', '▐', '˜', '͟', '}', '♥', '▄', '☣', '＿', '〃', '\\u3000', '＾', '☼', '★', '®', '┌', '¤', '☺', '\\\\', '▌', 'ู', '「', '¡', '’', '▼', '¦', '°', '┳', '…', '#', '±', '～', '\\u200b', '>', '⚠', '⌒', '‰', '<', '©', '✓', '‵', '™',  'ื', '\\ufeff', 'ⓘ', '。', '‿', '︻', '͡', 'Ⓞ', '↑', '/', '¥', '$', '⊂', '═', '♫', '☆', 'ิ', '†', '̶', '↓', '✔', '┻'}"
      ]
    },
    {
      "cell_type": "code",
      "execution_count": 7,
      "metadata": {
        "colab": {
          "base_uri": "https://localhost:8080/"
        },
        "id": "1IgFF6KM4bXp",
        "outputId": "69f2287c-c30c-4524-b646-ed427246898f"
      },
      "outputs": [
        {
          "output_type": "stream",
          "name": "stdout",
          "text": [
            "This is text BEFORE preprocessing: soThis somethingElse he'n is    I'm He's and PROBABLy he'll be a ⟶   SUPER  it\\'s not what\\\\'s   somethingTogether\n",
            "This is text AFTER preprocessing: So This something Else he not is I am He is and probably he will be a super it is not what is something Together\n"
          ]
        }
      ],
      "source": [
        "def is_capital(x):\n",
        "  \n",
        "  temp = sum([letter.isupper() for letter in x])\n",
        "\n",
        "  if temp > 2:\n",
        "    return x.lower()\n",
        "  else:\n",
        "    return x    \n",
        "\n",
        "text = \"soThis somethingElse he'n is    I'm He's and PROBABLy he'll be a ⟶   SUPER  it\\\\'s not what\\\\\\\\'s   somethingTogether\"\n",
        "print(\"This is text BEFORE preprocessing: {}\".format(text))\n",
        "\n",
        "text = re.sub(r\"(\\\\+')\",\"'\",text)\n",
        "text = text.replace(\"'s\",\" is\").replace(\"'re\",\" are\").replace(\"'ll\",' will').replace(\"'m\",' am').replace(\"'n\",' not').strip()\n",
        "if text[0] != text[0].upper():\n",
        "   text = text.replace(text[0],text[0].upper(),1)\n",
        "text =  ' '.join([is_capital(x) for x in text.split()])\n",
        "text = ' '.join(re.findall('[A-Z][^A-Z]*', text))\n",
        "for x in symbols_up:\n",
        "    text = text.replace(x,' ')\n",
        "text = re.sub(r\"\\s{2,}\", \" \",text)\n",
        "\n",
        "print(\"This is text AFTER preprocessing: {}\".format(text))"
      ]
    },
    {
      "cell_type": "code",
      "execution_count": 8,
      "metadata": {
        "id": "tuZLcSmBp3OK"
      },
      "outputs": [],
      "source": [
        "def preprocess_data(X):\n",
        "\n",
        "  symbols_up = {'♥','⭐', '`', 'ี', '／', '“', '⟶', '‘', '˘', '\\u2007', '□', '♬', '\\xad', '«', '้', '☢', '[', '¯', '＼', ']', '☠', 'Ⓚ', 'ั', '¶', '€', '⌐', '^', '‹', '⁀', '･', '£', '%', '=', ' ', '*', '¬', '▀', '━', '♪', '⌬', '∞', '&', ';', '”', '・', '▒', '+', '☐', '{', '¨', '⌠', '☹', '\\xa0', '｜', '~', '？', '」', '¿', '¢', '่', '|', '◕', '@', '‡', '⟵', '☻', '·', '≠', '´', '☑', '✎', '۞', '͠', '˚', '✖', '●', '✦', '✰', '⋎', '͜', '✫', '■', '✩', '،', '┐', '►', \"'\", '_', '→', '❤', '§', '︵', '░', '✌', '▽', '•', '！', '▲', '█', '?', '▐', '˜', '͟', '}', '♥', '▄', '☣', '＿', '〃', '\\u3000', '＾', '☼', '★', '®', '┌', '¤', '☺', '\\\\', '▌', 'ู', '「', '¡', '’', '▼', '¦', '°', '┳', '…', '#', '±', '～', '\\u200b', '>', '⚠', '⌒', '‰', '<', '©', '✓', '‵', '™',  'ื', '\\ufeff', 'ⓘ', '。', '‿', '︻', '͡', 'Ⓞ', '↑', '/', '¥', '$', '⊂', '═', '♫', '☆', 'ิ', '†', '̶', '↓', '✔', '┻'}\n",
        "\n",
        "  #check for english language\n",
        "  X['language'] = X.user_review.apply(lambda x: check_language(x))\n",
        "  X = X.loc[X.language == 'en',:].drop(columns = ['language'])\n",
        "\n",
        "  user_reviews = []\n",
        "  for review in X.user_review.values:\n",
        "    \n",
        "    #removing vaste character \"\\'\" and \"\\\\'\" and \"\\\\\\'\"...\n",
        "    review = re.sub(r\"(\\\\+')\",\"'\",review)\n",
        "    #high level - stematization\n",
        "    review = review.replace(\"\\'\",\"'\").replace(\"'s\",\" is\").replace(\"'re\",\" are\").replace(\"'ll\",' will').replace(\"'m\",' am').replace(\"'n\",\" not\").strip()\n",
        "    #adding capital letter to the first letter of sequence\n",
        "    if review[0] != review[0].upper():\n",
        "       review = review.replace(review[0],review[0].upper(),1)\n",
        "    #Replacing capital words with lower letters\n",
        "    review = ' '.join([is_capital(x) for x in review.split()])\n",
        "    #handling the camel case words, i.e. ToHis --> To His\n",
        "    review = ' '.join(re.findall('[A-Z][^A-Z]*', review))\n",
        "    #removing vaste characters\n",
        "    for x in symbols_up:\n",
        "        review = review.replace(x,' ')\n",
        "    review = re.sub(r\"\\s{2,}\", \" \",review)\n",
        "    user_reviews.append(review)\n",
        "\n",
        "  X.user_review = user_reviews  \n",
        "  return X"
      ]
    },
    {
      "cell_type": "markdown",
      "metadata": {
        "id": "Omud-Dhh6mgF"
      },
      "source": [
        "We will check the variables **tags, developer, publisher, title** and preprocess these data as well. \n"
      ]
    },
    {
      "cell_type": "code",
      "execution_count": 9,
      "metadata": {
        "colab": {
          "base_uri": "https://localhost:8080/"
        },
        "id": "oy4NPne54tUg",
        "outputId": "7ef691ed-431a-4451-d675-2f44f0af5398"
      },
      "outputs": [
        {
          "output_type": "stream",
          "name": "stdout",
          "text": [
            "CPU times: user 1min 51s, sys: 1.39 s, total: 1min 52s\n",
            "Wall time: 1min 52s\n"
          ]
        }
      ],
      "source": [
        "%%time\n",
        "\n",
        "X = df_train_merged\n",
        "X = preprocess_data(X)\n",
        "\n",
        "X.tags = X.tags.apply(lambda x: x.replace(\"\\'\",'')[1:-1])\n",
        "X.tags\n"
      ]
    },
    {
      "cell_type": "markdown",
      "metadata": {
        "id": "e4P1tUGJvHjz"
      },
      "source": [
        "\n",
        "We will start by adding a variable **text** which will be composed of variables *title, developer, publisher, tags, overview, user_review.*\n",
        "\n",
        "I also consider training two separate models, first just on *user_reveiew* and second on the rest of mentioned variables and then stack results together, but I belive it wouldn't improve performance of model, because *tags, developer, publisher* and *title* are the same rows in the data set, once when the targer variable **user_suggestion** is 1 and once when 0, so the model would be confused. "
      ]
    },
    {
      "cell_type": "code",
      "execution_count": 10,
      "metadata": {
        "id": "UqAueRMU8CR2"
      },
      "outputs": [],
      "source": [
        "X['text'] = X.title + X.developer + X.publisher + X.tags + X.overview + X.user_review\n",
        "y = X.user_suggestion.values"
      ]
    },
    {
      "cell_type": "code",
      "execution_count": 11,
      "metadata": {
        "id": "Pnxt3PiGl1d-"
      },
      "outputs": [],
      "source": [
        "X_train, X_test, y_train, y_test = train_test_split(X, y, test_size=0.33, random_state=42)"
      ]
    },
    {
      "cell_type": "code",
      "execution_count": 12,
      "metadata": {
        "id": "gfDTzbJS5fqC"
      },
      "outputs": [],
      "source": [
        "X_train_NN = X_train.text.values\n",
        "X_test_NN = X_test.text.values"
      ]
    },
    {
      "cell_type": "code",
      "execution_count": 13,
      "metadata": {
        "colab": {
          "base_uri": "https://localhost:8080/",
          "height": 318
        },
        "id": "Hhhh9h3k54aH",
        "outputId": "ab456b3f-e494-4f99-f127-12bfc210e130"
      },
      "outputs": [
        {
          "output_type": "stream",
          "name": "stdout",
          "text": [
            "The longest sequence is 12980 words long.\n"
          ]
        },
        {
          "output_type": "execute_result",
          "data": {
            "text/html": [
              "\n",
              "  <div id=\"df-24993c85-de15-4506-9d98-338fee720cd3\">\n",
              "    <div class=\"colab-df-container\">\n",
              "      <div>\n",
              "<style scoped>\n",
              "    .dataframe tbody tr th:only-of-type {\n",
              "        vertical-align: middle;\n",
              "    }\n",
              "\n",
              "    .dataframe tbody tr th {\n",
              "        vertical-align: top;\n",
              "    }\n",
              "\n",
              "    .dataframe thead th {\n",
              "        text-align: right;\n",
              "    }\n",
              "</style>\n",
              "<table border=\"1\" class=\"dataframe\">\n",
              "  <thead>\n",
              "    <tr style=\"text-align: right;\">\n",
              "      <th></th>\n",
              "      <th>0</th>\n",
              "    </tr>\n",
              "  </thead>\n",
              "  <tbody>\n",
              "    <tr>\n",
              "      <th>count</th>\n",
              "      <td>11574.000000</td>\n",
              "    </tr>\n",
              "    <tr>\n",
              "      <th>mean</th>\n",
              "      <td>2790.854761</td>\n",
              "    </tr>\n",
              "    <tr>\n",
              "      <th>std</th>\n",
              "      <td>1449.879382</td>\n",
              "    </tr>\n",
              "    <tr>\n",
              "      <th>min</th>\n",
              "      <td>292.000000</td>\n",
              "    </tr>\n",
              "    <tr>\n",
              "      <th>25%</th>\n",
              "      <td>1852.000000</td>\n",
              "    </tr>\n",
              "    <tr>\n",
              "      <th>50%</th>\n",
              "      <td>2427.500000</td>\n",
              "    </tr>\n",
              "    <tr>\n",
              "      <th>75%</th>\n",
              "      <td>3442.750000</td>\n",
              "    </tr>\n",
              "    <tr>\n",
              "      <th>max</th>\n",
              "      <td>12980.000000</td>\n",
              "    </tr>\n",
              "  </tbody>\n",
              "</table>\n",
              "</div>\n",
              "      <button class=\"colab-df-convert\" onclick=\"convertToInteractive('df-24993c85-de15-4506-9d98-338fee720cd3')\"\n",
              "              title=\"Convert this dataframe to an interactive table.\"\n",
              "              style=\"display:none;\">\n",
              "        \n",
              "  <svg xmlns=\"http://www.w3.org/2000/svg\" height=\"24px\"viewBox=\"0 0 24 24\"\n",
              "       width=\"24px\">\n",
              "    <path d=\"M0 0h24v24H0V0z\" fill=\"none\"/>\n",
              "    <path d=\"M18.56 5.44l.94 2.06.94-2.06 2.06-.94-2.06-.94-.94-2.06-.94 2.06-2.06.94zm-11 1L8.5 8.5l.94-2.06 2.06-.94-2.06-.94L8.5 2.5l-.94 2.06-2.06.94zm10 10l.94 2.06.94-2.06 2.06-.94-2.06-.94-.94-2.06-.94 2.06-2.06.94z\"/><path d=\"M17.41 7.96l-1.37-1.37c-.4-.4-.92-.59-1.43-.59-.52 0-1.04.2-1.43.59L10.3 9.45l-7.72 7.72c-.78.78-.78 2.05 0 2.83L4 21.41c.39.39.9.59 1.41.59.51 0 1.02-.2 1.41-.59l7.78-7.78 2.81-2.81c.8-.78.8-2.07 0-2.86zM5.41 20L4 18.59l7.72-7.72 1.47 1.35L5.41 20z\"/>\n",
              "  </svg>\n",
              "      </button>\n",
              "      \n",
              "  <style>\n",
              "    .colab-df-container {\n",
              "      display:flex;\n",
              "      flex-wrap:wrap;\n",
              "      gap: 12px;\n",
              "    }\n",
              "\n",
              "    .colab-df-convert {\n",
              "      background-color: #E8F0FE;\n",
              "      border: none;\n",
              "      border-radius: 50%;\n",
              "      cursor: pointer;\n",
              "      display: none;\n",
              "      fill: #1967D2;\n",
              "      height: 32px;\n",
              "      padding: 0 0 0 0;\n",
              "      width: 32px;\n",
              "    }\n",
              "\n",
              "    .colab-df-convert:hover {\n",
              "      background-color: #E2EBFA;\n",
              "      box-shadow: 0px 1px 2px rgba(60, 64, 67, 0.3), 0px 1px 3px 1px rgba(60, 64, 67, 0.15);\n",
              "      fill: #174EA6;\n",
              "    }\n",
              "\n",
              "    [theme=dark] .colab-df-convert {\n",
              "      background-color: #3B4455;\n",
              "      fill: #D2E3FC;\n",
              "    }\n",
              "\n",
              "    [theme=dark] .colab-df-convert:hover {\n",
              "      background-color: #434B5C;\n",
              "      box-shadow: 0px 1px 3px 1px rgba(0, 0, 0, 0.15);\n",
              "      filter: drop-shadow(0px 1px 2px rgba(0, 0, 0, 0.3));\n",
              "      fill: #FFFFFF;\n",
              "    }\n",
              "  </style>\n",
              "\n",
              "      <script>\n",
              "        const buttonEl =\n",
              "          document.querySelector('#df-24993c85-de15-4506-9d98-338fee720cd3 button.colab-df-convert');\n",
              "        buttonEl.style.display =\n",
              "          google.colab.kernel.accessAllowed ? 'block' : 'none';\n",
              "\n",
              "        async function convertToInteractive(key) {\n",
              "          const element = document.querySelector('#df-24993c85-de15-4506-9d98-338fee720cd3');\n",
              "          const dataTable =\n",
              "            await google.colab.kernel.invokeFunction('convertToInteractive',\n",
              "                                                     [key], {});\n",
              "          if (!dataTable) return;\n",
              "\n",
              "          const docLinkHtml = 'Like what you see? Visit the ' +\n",
              "            '<a target=\"_blank\" href=https://colab.research.google.com/notebooks/data_table.ipynb>data table notebook</a>'\n",
              "            + ' to learn more about interactive tables.';\n",
              "          element.innerHTML = '';\n",
              "          dataTable['output_type'] = 'display_data';\n",
              "          await google.colab.output.renderOutput(dataTable, element);\n",
              "          const docLink = document.createElement('div');\n",
              "          docLink.innerHTML = docLinkHtml;\n",
              "          element.appendChild(docLink);\n",
              "        }\n",
              "      </script>\n",
              "    </div>\n",
              "  </div>\n",
              "  "
            ],
            "text/plain": [
              "                  0\n",
              "count  11574.000000\n",
              "mean    2790.854761\n",
              "std     1449.879382\n",
              "min      292.000000\n",
              "25%     1852.000000\n",
              "50%     2427.500000\n",
              "75%     3442.750000\n",
              "max    12980.000000"
            ]
          },
          "metadata": {},
          "execution_count": 13
        }
      ],
      "source": [
        "print(\"The longest sequence is {} words long.\".format(max([len(x) for x in X_train_NN])))\n",
        "pd.DataFrame([len(x) for x in X_train_NN]).describe()"
      ]
    },
    {
      "cell_type": "code",
      "execution_count": 15,
      "metadata": {
        "colab": {
          "base_uri": "https://localhost:8080/"
        },
        "id": "5O2kMOj657l_",
        "outputId": "c223dbfe-d5e6-4d17-997c-f96117e5ecba"
      },
      "outputs": [
        {
          "output_type": "stream",
          "name": "stdout",
          "text": [
            "Vocabulary is 38240 words large\n"
          ]
        }
      ],
      "source": [
        "max_length = 5000\n",
        "trunc_type='post'\n",
        "padding_type='post'\n",
        "oov_tok = \"<OOV>\"\n",
        "vocab_size = 38240\n",
        "#training_size = 20000\n",
        "\n",
        "tokenizer = Tokenizer(num_words=vocab_size, oov_token=oov_tok)\n",
        "tokenizer.fit_on_texts(X_train_NN)\n",
        "\n",
        "print('Vocabulary is {} words large'.format(len(tokenizer.word_index)))"
      ]
    },
    {
      "cell_type": "markdown",
      "metadata": {
        "id": "7MviDaw8AI2n"
      },
      "source": [
        "We can see that last couple of words are so called **stop words**, which on one side can make our training harder, on the other side it is recommended let them to be in text if we need to learn semantics of sentence. We will try teach model on both, with and without stop words. "
      ]
    },
    {
      "cell_type": "code",
      "execution_count": 16,
      "metadata": {
        "colab": {
          "base_uri": "https://localhost:8080/"
        },
        "id": "AMC5vyJm57rZ",
        "outputId": "9342066e-f273-4df8-dd30-473d2bc93bf9"
      },
      "outputs": [
        {
          "output_type": "execute_result",
          "data": {
            "text/plain": [
              "[('game', 67825),\n",
              " ('your', 68858),\n",
              " ('in', 76900),\n",
              " ('you', 82914),\n",
              " ('of', 109945),\n",
              " ('a', 110048),\n",
              " ('to', 151913),\n",
              " ('and', 192385),\n",
              " ('the', 208385)]"
            ]
          },
          "metadata": {},
          "execution_count": 16
        }
      ],
      "source": [
        "sorted(tokenizer.word_counts.items(), key = lambda t: t[1])[38230:]"
      ]
    },
    {
      "cell_type": "code",
      "execution_count": 17,
      "metadata": {
        "id": "CPGjm-qV57sb"
      },
      "outputs": [],
      "source": [
        "X_train_NN = tokenizer.texts_to_sequences(X_train_NN)\n",
        "X_train_padded_NN = np.array(pad_sequences(X_train_NN, maxlen=max_length, padding=padding_type, truncating=trunc_type))\n",
        "\n",
        "X_test_NN = tokenizer.texts_to_sequences(X_test_NN)\n",
        "X_test_padded_NN = np.array(pad_sequences(X_test_NN, maxlen=max_length, padding=padding_type, truncating=trunc_type))\n"
      ]
    },
    {
      "cell_type": "code",
      "execution_count": 18,
      "metadata": {
        "colab": {
          "base_uri": "https://localhost:8080/"
        },
        "id": "9jV_3ngl57yJ",
        "outputId": "cf10e0ff-ba11-401a-a7dc-6aef927201fe"
      },
      "outputs": [
        {
          "output_type": "stream",
          "name": "stdout",
          "text": [
            "Model: \"sequential\"\n",
            "_________________________________________________________________\n",
            " Layer (type)                Output Shape              Param #   \n",
            "=================================================================\n",
            " embedding (Embedding)       (None, 5000, 240)         9177600   \n",
            "                                                                 \n",
            " bidirectional (Bidirectiona  (None, 5000, 128)        156160    \n",
            " l)                                                              \n",
            "                                                                 \n",
            " bidirectional_1 (Bidirectio  (None, 5000, 64)         41216     \n",
            " nal)                                                            \n",
            "                                                                 \n",
            " dropout (Dropout)           (None, 5000, 64)          0         \n",
            "                                                                 \n",
            " flatten (Flatten)           (None, 320000)            0         \n",
            "                                                                 \n",
            " dropout_1 (Dropout)         (None, 320000)            0         \n",
            "                                                                 \n",
            " dense (Dense)               (None, 1)                 320001    \n",
            "                                                                 \n",
            "=================================================================\n",
            "Total params: 9,694,977\n",
            "Trainable params: 9,694,977\n",
            "Non-trainable params: 0\n",
            "_________________________________________________________________\n"
          ]
        }
      ],
      "source": [
        "METRICS = [\n",
        "      tf.keras.metrics.BinaryAccuracy(name='accuracy'),\n",
        "      tf.keras.metrics.Precision(name='precision'),\n",
        "      tf.keras.metrics.Recall(name='recall')\n",
        "]\n",
        "\n",
        "model = tf.keras.Sequential()\n",
        "\n",
        "model.add(Embedding(vocab_size,240, input_length = max_length))\n",
        "model.add(Bidirectional(keras.layers.LSTM(64, return_sequences=True)))\n",
        "model.add(Bidirectional(keras.layers.LSTM(32, return_sequences=True)))\n",
        "model.add(Dropout(0.5)),\n",
        "model.add(Flatten()),\n",
        "model.add(Dropout(0.5)),\n",
        "model.add(Dense(1,activation = 'sigmoid'))\n",
        "\n",
        "\n",
        "model.compile(loss = 'binary_crossentropy',optimizer='adam',metrics = METRICS)\n",
        "\n",
        "model.summary()"
      ]
    },
    {
      "cell_type": "code",
      "execution_count": 19,
      "metadata": {
        "colab": {
          "base_uri": "https://localhost:8080/"
        },
        "id": "aTaOdjMs57y_",
        "outputId": "7b145e96-f2cd-40f8-96a0-3f4fd40f81b1"
      },
      "outputs": [
        {
          "output_type": "stream",
          "name": "stdout",
          "text": [
            "Epoch 1/3\n",
            "362/362 [==============================] - 815s 2s/step - loss: 0.5279 - accuracy: 0.7324 - precision: 0.7424 - recall: 0.8078 - val_loss: 0.4453 - val_accuracy: 0.8127 - val_precision: 0.8526 - val_recall: 0.8140\n",
            "Epoch 2/3\n",
            "362/362 [==============================] - 799s 2s/step - loss: 0.3379 - accuracy: 0.8580 - precision: 0.8647 - recall: 0.8883 - val_loss: 0.3539 - val_accuracy: 0.8509 - val_precision: 0.8272 - val_recall: 0.9355\n",
            "Epoch 3/3\n",
            "362/362 [==============================] - 797s 2s/step - loss: 0.1796 - accuracy: 0.9322 - precision: 0.9341 - recall: 0.9471 - val_loss: 0.3861 - val_accuracy: 0.8572 - val_precision: 0.8405 - val_recall: 0.9269\n",
            "CPU times: user 25min 34s, sys: 14min 42s, total: 40min 16s\n",
            "Wall time: 40min 11s\n"
          ]
        }
      ],
      "source": [
        "%%time \n",
        "history = model.fit(X_train_padded_NN, y_train, epochs=3, validation_data=(X_test_padded_NN, y_test), verbose = 1)"
      ]
    },
    {
      "cell_type": "code",
      "execution_count": 20,
      "metadata": {
        "colab": {
          "base_uri": "https://localhost:8080/",
          "height": 549
        },
        "id": "kHdWn6OIjIC1",
        "outputId": "110257ad-10cf-4d34-f950-51d4777438cc"
      },
      "outputs": [
        {
          "output_type": "display_data",
          "data": {
            "image/png": "[encoded data removed]",
            "text/plain": [
              "<Figure size 432x288 with 1 Axes>"
            ]
          },
          "metadata": {
            "needs_background": "light"
          }
        },
        {
          "output_type": "display_data",
          "data": {
            "image/png": "[encoded data removed]",
            "text/plain": [
              "<Figure size 432x288 with 1 Axes>"
            ]
          },
          "metadata": {
            "needs_background": "light"
          }
        }
      ],
      "source": [
        "plot_loss(history)"
      ]
    },
    {
      "cell_type": "markdown",
      "metadata": {
        "id": "dwuFmegsVZpP"
      },
      "source": [
        "I experimented with different types of architecture (also i tried adding CNN layers, which from my experience sometimes ight help), but could not get above 87% accuracy on testing set. The next step is to look at F1, ROC, AUC and save the results for later comparison with different types of models. \n",
        "\n",
        "Possible **solutions** for \"poor\" result is:\n",
        "1. look at badly classified examples and try to find some pattern in them and remove it or maybe hardcode some rules.\n",
        "2. Try to improve hyperparameters of model.\n",
        "3. Use different types of regularizational techniques.\n",
        "4. Try to use lemmatization and removing stop words. \n",
        "5. Improve text preprocessing."
      ]
    },
    {
      "cell_type": "code",
      "execution_count": 21,
      "metadata": {
        "id": "EIRLI2am57zy"
      },
      "outputs": [],
      "source": [
        "X_train_pred = model.predict(X_train_padded_NN)\n",
        "X_test_pred = model.predict(X_test_padded_NN)"
      ]
    },
    {
      "cell_type": "code",
      "execution_count": 22,
      "metadata": {
        "id": "WQlw9qk6XXrl"
      },
      "outputs": [],
      "source": [
        "X_train_p = np.array([x[0] for x in X_train_pred])\n",
        "X_test_p = np.array([x[0] for x in X_test_pred])\n"
      ]
    },
    {
      "cell_type": "code",
      "execution_count": 23,
      "metadata": {
        "colab": {
          "base_uri": "https://localhost:8080/",
          "height": 342
        },
        "id": "0ffVblfRWXt6",
        "outputId": "471289a2-2857-435b-8dc5-136a386cf8ce"
      },
      "outputs": [
        {
          "output_type": "stream",
          "name": "stdout",
          "text": [
            "[[1857  575]\n",
            " [ 239 3030]]\n"
          ]
        },
        {
          "output_type": "display_data",
          "data": {
            "image/png": "[encoded data removed]",
            "text/plain": [
              "<Figure size 432x288 with 2 Axes>"
            ]
          },
          "metadata": {
            "needs_background": "light"
          }
        }
      ],
      "source": [
        "from sklearn.metrics import confusion_matrix\n",
        "\n",
        "#first is category 0 then category 1. Check:\n",
        "#np.logical_and((y_test ==1),np.array([x[0] for x in (round(X_test_p) == 1).values])).sum()\n",
        "\n",
        "results = confusion_matrix(y_test, X_test_p.round())\n",
        "print(results)\n",
        "\n",
        "import seaborn as sns\n",
        "\n",
        "ax = sns.heatmap(results, annot=True, cmap='Blues')\n",
        "\n",
        "ax.set_title('Confusion Matrix');\n",
        "ax.set_xlabel('\\nPredicted Values')\n",
        "ax.set_ylabel('Actual Values ');\n",
        "\n",
        "ax.xaxis.set_ticklabels(['False - 0','True - 1'])\n",
        "ax.yaxis.set_ticklabels(['False - 0','True - 1'])\n",
        "\n",
        "## Display the visualization of the Confusion Matrix.\n",
        "plt.show()"
      ]
    },
    {
      "cell_type": "markdown",
      "metadata": {
        "id": "wv4WVLcnX-_W"
      },
      "source": [
        "From the previous we can see that number of user suggestions with value 1, which were misclassified is 239. And number of suggestions with value 0, which were misclassified is 575. And so:\n",
        "\n",
        "- **Precision** (percentage of classified suggestions from category 1 by our model, where actual from class 1) = **84.0%** = 3030 / (3030+575)\n",
        "\n",
        "- **Recall** (percentage of actual suggestions from category 1 which were correctly classified by our model) = **92.7%** = 3030 / (3030+239)\n",
        "\n",
        "We will also look at some **diagnostic graphs** and then compare them with rest of models.\n"
      ]
    },
    {
      "cell_type": "code",
      "execution_count": 24,
      "metadata": {
        "colab": {
          "base_uri": "https://localhost:8080/",
          "height": 320
        },
        "id": "ApxE3bwUePh4",
        "outputId": "95b99cd8-02e0-46dc-c1d1-290dfeac721f"
      },
      "outputs": [
        {
          "output_type": "display_data",
          "data": {
            "image/png": "[encoded data removed]",
            "text/plain": [
              "<Figure size 432x288 with 4 Axes>"
            ]
          },
          "metadata": {
            "needs_background": "light"
          }
        },
        {
          "output_type": "stream",
          "name": "stdout",
          "text": [
            "AUC score for (TPR, FPR) - graph:  0.9299\n",
            "AUC-PR for (precision - recall) graph: 0.9404\n"
          ]
        }
      ],
      "source": [
        "diag_graphs(model, X_test_padded_NN, y_test)"
      ]
    },
    {
      "cell_type": "markdown",
      "metadata": {
        "id": "jmn6m0O1exYS"
      },
      "source": [
        "#  Stacking \n",
        "\n",
        "is a type of ensemble learning, which combines results of more models together. In our case we will use th results of previous nerural network stack them together with training set (we will add another column with name **pred**) and we will built *second layer* model on this set. The reason is also, that we want to incorporate the iinformation from **year** column into our prediciton (the \"string\" variables were used in NN model).\n",
        "\n",
        "\n",
        "But for the need of other machine learning models we need to input missing values in the variable *year*. We will use kNN imputer technique, which is based on k nearest points *neighbours*. "
      ]
    },
    {
      "cell_type": "code",
      "execution_count": 25,
      "metadata": {
        "colab": {
          "base_uri": "https://localhost:8080/"
        },
        "id": "pnG9Y5ZZlAGz",
        "outputId": "cc3fa42e-03a2-4ff3-dd14-8e93b7a3d5b0"
      },
      "outputs": [
        {
          "output_type": "stream",
          "name": "stdout",
          "text": [
            "review_id          0\n",
            "title              0\n",
            "year               0\n",
            "user_review        0\n",
            "user_suggestion    0\n",
            "developer          0\n",
            "publisher          0\n",
            "tags               0\n",
            "overview           0\n",
            "text               0\n",
            "dtype: int64\n",
            "review_id          0\n",
            "title              0\n",
            "year               0\n",
            "user_review        0\n",
            "user_suggestion    0\n",
            "developer          0\n",
            "publisher          0\n",
            "tags               0\n",
            "overview           0\n",
            "text               0\n",
            "dtype: int64\n"
          ]
        }
      ],
      "source": [
        "X_trainm = process_dat(X_train)\n",
        "X_trainm = knn_inputer(X_trainm)\n",
        "\n",
        "X_train.year = X_trainm.year.values\n",
        "print(X_train.isnull().sum())\n",
        "\n",
        "X_train['pred'] = X_train_p\n",
        "\n",
        "X_testm = process_dat(X_test)\n",
        "X_testm = knn_inputer(X_testm)\n",
        "\n",
        "X_test.year = X_testm.year.values\n",
        "print(X_test.isnull().sum())\n",
        "\n",
        "X_test['pred'] =  X_test_p"
      ]
    },
    {
      "cell_type": "code",
      "execution_count": 26,
      "metadata": {
        "id": "6zfUjUMjnYo6"
      },
      "outputs": [],
      "source": [
        "X_train_m = X_train.loc[:,['year','pred']]\n",
        "X_test_m = X_test.loc[:,['year','pred']]"
      ]
    },
    {
      "cell_type": "code",
      "execution_count": 27,
      "metadata": {
        "id": "AeAP9m0nnYrN",
        "colab": {
          "base_uri": "https://localhost:8080/"
        },
        "outputId": "f2249335-e867-4632-c425-793b60d9b803"
      },
      "outputs": [
        {
          "output_type": "stream",
          "name": "stdout",
          "text": [
            "Accuracy of Extreme boosted classifier on training set: 0.96\n",
            "Accuracy of Extreme boosted classifier on test set: 0.87\n",
            "[[1993  439]\n",
            " [ 326 2943]]\n",
            "\n",
            "Precision of DT has value 0.87, recall has value 0.9 and F1 score is 0.88.\n"
          ]
        }
      ],
      "source": [
        "pred, prob = XGB_function(X_train_m, y_train, X_test_m, y_test, X_test_m)\n",
        "\n",
        "results = confusion_matrix(y_test, pred)\n",
        "print(results)\n",
        "print(\"\")\n",
        "\n",
        "p,r,f,_ = precision_recall_fscore_support(y_test, pred)\n",
        "print(\"Precision of DT has value {}, recall has value {} and F1 score is {}.\".format(round(p[1],2),round(r[1],2),round(f[1],2)))"
      ]
    },
    {
      "cell_type": "code",
      "execution_count": 28,
      "metadata": {
        "id": "qRVu5jc3nYw1",
        "colab": {
          "base_uri": "https://localhost:8080/"
        },
        "outputId": "f8e3de1b-4c33-4404-9ed2-63ea34e6766e"
      },
      "outputs": [
        {
          "output_type": "stream",
          "name": "stdout",
          "text": [
            "Accuracy of Logistic regression classifier on training set: 0.96\n",
            "Accuracy of Logistic regression on test set: 0.87\n",
            "[[1982  450]\n",
            " [ 318 2951]]\n",
            "\n",
            "Precision of DT has value 0.87, recall has value 0.9 and F1 score is 0.88.\n"
          ]
        }
      ],
      "source": [
        "pred, prob = LogisticRegression_function(X_train_m, y_train, X_test_m, y_test, X_test_m)\n",
        "\n",
        "results = confusion_matrix(y_test, pred)\n",
        "print(results)\n",
        "print(\"\")\n",
        "\n",
        "p,r,f,_ = precision_recall_fscore_support(y_test, pred)\n",
        "print(\"Precision of DT has value {}, recall has value {} and F1 score is {}.\".format(round(p[1],2),round(r[1],2),round(f[1],2)))"
      ]
    },
    {
      "cell_type": "code",
      "execution_count": 29,
      "metadata": {
        "id": "4h4FD_lMsenL",
        "colab": {
          "base_uri": "https://localhost:8080/"
        },
        "outputId": "18e4fedb-0513-4151-f036-1a6c86f23f65"
      },
      "outputs": [
        {
          "output_type": "stream",
          "name": "stdout",
          "text": [
            "Accuracy of DecisionTree classifier on training set: 1.00\n",
            "Accuracy of DecisionTree on test set: 0.85\n",
            "[[1980  452]\n",
            " [ 410 2859]]\n",
            "\n",
            "Precision of DT has value 0.86, recall has value 0.87 and F1 score is 0.87.\n"
          ]
        }
      ],
      "source": [
        "pred, prob = DecisionTree_function(X_train_m, y_train, X_test_m, y_test, X_test_m)\n",
        "\n",
        "results = confusion_matrix(y_test, pred)\n",
        "print(results)\n",
        "print(\"\")\n",
        "\n",
        "p,r,f,_ = precision_recall_fscore_support(y_test, pred)\n",
        "print(\"Precision of DT has value {}, recall has value {} and F1 score is {}.\".format(round(p[1],2),round(r[1],2),round(f[1],2)))"
      ]
    },
    {
      "cell_type": "markdown",
      "metadata": {
        "id": "g8TN4s_QwkHn"
      },
      "source": [
        "From the previous results we see, that precision is slightly better, but recall has dropped by 2% by logistic regression function and also xgboost classifier. So it's debatable if we use more complicated model in return for slight performance improvement. But if the question would be to create the best model no matter what time consupmtion that we will choose NN + xgboost."
      ]
    },
    {
      "cell_type": "markdown",
      "metadata": {
        "id": "Op91xPM7c45j"
      },
      "source": [
        "# 2. **Bidirectional LSTM** (try add CNN) with removing stop words and lematization\n"
      ]
    },
    {
      "cell_type": "markdown",
      "metadata": {
        "id": "QTq70G8tw2-h"
      },
      "source": [
        "The next procecss will be identical with the previous one, although the change will be that, we try to improve prediction power with **lemmatization** and **removing stop words**. This could lead into possible results:\n",
        "\n",
        "- we improve prediction power, because we loose noise from sentence\n",
        "- or we will sort of loose some *sense* from sentences."
      ]
    },
    {
      "cell_type": "code",
      "execution_count": 31,
      "metadata": {
        "id": "_qmxuOMRJDpJ"
      },
      "outputs": [],
      "source": [
        "def lemmatization_stop_words(x):\n",
        "  \n",
        "  lemmatizer = WordNetLemmatizer()\n",
        "\n",
        "  stop_words = set(stopwords.words('english'))\n",
        "  word_tokens = word_tokenize(x)\n",
        "\n",
        "  filtered_sentence = [lemmatizer.lemmatize(w) for w in word_tokens if not w.lower() in stop_words]\n",
        "  \n",
        "  return \" \".join(filtered_sentence)"
      ]
    },
    {
      "cell_type": "code",
      "execution_count": 32,
      "metadata": {
        "id": "Yd4FSTDlLQ_x"
      },
      "outputs": [],
      "source": [
        "X_ls = X\n",
        "X_ls.text = X_ls.text.apply(lambda x: lemmatization_stop_words(x))"
      ]
    },
    {
      "cell_type": "code",
      "execution_count": 33,
      "metadata": {
        "id": "oDPYKWab9bX7"
      },
      "outputs": [],
      "source": [
        "X_train, X_test, y_train, y_test = train_test_split(X_ls, y, test_size=0.33, random_state=42)"
      ]
    },
    {
      "cell_type": "code",
      "execution_count": 34,
      "metadata": {
        "id": "SERRxA419bbT"
      },
      "outputs": [],
      "source": [
        "X_train_NN = X_train.text.values\n",
        "X_test_NN = X_test.text.values"
      ]
    },
    {
      "cell_type": "code",
      "execution_count": 35,
      "metadata": {
        "id": "RqjELYpU-NWM",
        "colab": {
          "base_uri": "https://localhost:8080/",
          "height": 318
        },
        "outputId": "f0c917b9-19bf-4b95-a7bb-51dc90ec25bb"
      },
      "outputs": [
        {
          "output_type": "stream",
          "name": "stdout",
          "text": [
            "The longest sequence is 11120 words long.\n"
          ]
        },
        {
          "output_type": "execute_result",
          "data": {
            "text/html": [
              "\n",
              "  <div id=\"df-d82514f8-5e61-45ab-afca-65671f5702dd\">\n",
              "    <div class=\"colab-df-container\">\n",
              "      <div>\n",
              "<style scoped>\n",
              "    .dataframe tbody tr th:only-of-type {\n",
              "        vertical-align: middle;\n",
              "    }\n",
              "\n",
              "    .dataframe tbody tr th {\n",
              "        vertical-align: top;\n",
              "    }\n",
              "\n",
              "    .dataframe thead th {\n",
              "        text-align: right;\n",
              "    }\n",
              "</style>\n",
              "<table border=\"1\" class=\"dataframe\">\n",
              "  <thead>\n",
              "    <tr style=\"text-align: right;\">\n",
              "      <th></th>\n",
              "      <th>0</th>\n",
              "    </tr>\n",
              "  </thead>\n",
              "  <tbody>\n",
              "    <tr>\n",
              "      <th>count</th>\n",
              "      <td>11574.000000</td>\n",
              "    </tr>\n",
              "    <tr>\n",
              "      <th>mean</th>\n",
              "      <td>2146.412217</td>\n",
              "    </tr>\n",
              "    <tr>\n",
              "      <th>std</th>\n",
              "      <td>1101.992696</td>\n",
              "    </tr>\n",
              "    <tr>\n",
              "      <th>min</th>\n",
              "      <td>303.000000</td>\n",
              "    </tr>\n",
              "    <tr>\n",
              "      <th>25%</th>\n",
              "      <td>1434.000000</td>\n",
              "    </tr>\n",
              "    <tr>\n",
              "      <th>50%</th>\n",
              "      <td>1881.000000</td>\n",
              "    </tr>\n",
              "    <tr>\n",
              "      <th>75%</th>\n",
              "      <td>2587.000000</td>\n",
              "    </tr>\n",
              "    <tr>\n",
              "      <th>max</th>\n",
              "      <td>11120.000000</td>\n",
              "    </tr>\n",
              "  </tbody>\n",
              "</table>\n",
              "</div>\n",
              "      <button class=\"colab-df-convert\" onclick=\"convertToInteractive('df-d82514f8-5e61-45ab-afca-65671f5702dd')\"\n",
              "              title=\"Convert this dataframe to an interactive table.\"\n",
              "              style=\"display:none;\">\n",
              "        \n",
              "  <svg xmlns=\"http://www.w3.org/2000/svg\" height=\"24px\"viewBox=\"0 0 24 24\"\n",
              "       width=\"24px\">\n",
              "    <path d=\"M0 0h24v24H0V0z\" fill=\"none\"/>\n",
              "    <path d=\"M18.56 5.44l.94 2.06.94-2.06 2.06-.94-2.06-.94-.94-2.06-.94 2.06-2.06.94zm-11 1L8.5 8.5l.94-2.06 2.06-.94-2.06-.94L8.5 2.5l-.94 2.06-2.06.94zm10 10l.94 2.06.94-2.06 2.06-.94-2.06-.94-.94-2.06-.94 2.06-2.06.94z\"/><path d=\"M17.41 7.96l-1.37-1.37c-.4-.4-.92-.59-1.43-.59-.52 0-1.04.2-1.43.59L10.3 9.45l-7.72 7.72c-.78.78-.78 2.05 0 2.83L4 21.41c.39.39.9.59 1.41.59.51 0 1.02-.2 1.41-.59l7.78-7.78 2.81-2.81c.8-.78.8-2.07 0-2.86zM5.41 20L4 18.59l7.72-7.72 1.47 1.35L5.41 20z\"/>\n",
              "  </svg>\n",
              "      </button>\n",
              "      \n",
              "  <style>\n",
              "    .colab-df-container {\n",
              "      display:flex;\n",
              "      flex-wrap:wrap;\n",
              "      gap: 12px;\n",
              "    }\n",
              "\n",
              "    .colab-df-convert {\n",
              "      background-color: #E8F0FE;\n",
              "      border: none;\n",
              "      border-radius: 50%;\n",
              "      cursor: pointer;\n",
              "      display: none;\n",
              "      fill: #1967D2;\n",
              "      height: 32px;\n",
              "      padding: 0 0 0 0;\n",
              "      width: 32px;\n",
              "    }\n",
              "\n",
              "    .colab-df-convert:hover {\n",
              "      background-color: #E2EBFA;\n",
              "      box-shadow: 0px 1px 2px rgba(60, 64, 67, 0.3), 0px 1px 3px 1px rgba(60, 64, 67, 0.15);\n",
              "      fill: #174EA6;\n",
              "    }\n",
              "\n",
              "    [theme=dark] .colab-df-convert {\n",
              "      background-color: #3B4455;\n",
              "      fill: #D2E3FC;\n",
              "    }\n",
              "\n",
              "    [theme=dark] .colab-df-convert:hover {\n",
              "      background-color: #434B5C;\n",
              "      box-shadow: 0px 1px 3px 1px rgba(0, 0, 0, 0.15);\n",
              "      filter: drop-shadow(0px 1px 2px rgba(0, 0, 0, 0.3));\n",
              "      fill: #FFFFFF;\n",
              "    }\n",
              "  </style>\n",
              "\n",
              "      <script>\n",
              "        const buttonEl =\n",
              "          document.querySelector('#df-d82514f8-5e61-45ab-afca-65671f5702dd button.colab-df-convert');\n",
              "        buttonEl.style.display =\n",
              "          google.colab.kernel.accessAllowed ? 'block' : 'none';\n",
              "\n",
              "        async function convertToInteractive(key) {\n",
              "          const element = document.querySelector('#df-d82514f8-5e61-45ab-afca-65671f5702dd');\n",
              "          const dataTable =\n",
              "            await google.colab.kernel.invokeFunction('convertToInteractive',\n",
              "                                                     [key], {});\n",
              "          if (!dataTable) return;\n",
              "\n",
              "          const docLinkHtml = 'Like what you see? Visit the ' +\n",
              "            '<a target=\"_blank\" href=https://colab.research.google.com/notebooks/data_table.ipynb>data table notebook</a>'\n",
              "            + ' to learn more about interactive tables.';\n",
              "          element.innerHTML = '';\n",
              "          dataTable['output_type'] = 'display_data';\n",
              "          await google.colab.output.renderOutput(dataTable, element);\n",
              "          const docLink = document.createElement('div');\n",
              "          docLink.innerHTML = docLinkHtml;\n",
              "          element.appendChild(docLink);\n",
              "        }\n",
              "      </script>\n",
              "    </div>\n",
              "  </div>\n",
              "  "
            ],
            "text/plain": [
              "                  0\n",
              "count  11574.000000\n",
              "mean    2146.412217\n",
              "std     1101.992696\n",
              "min      303.000000\n",
              "25%     1434.000000\n",
              "50%     1881.000000\n",
              "75%     2587.000000\n",
              "max    11120.000000"
            ]
          },
          "metadata": {},
          "execution_count": 35
        }
      ],
      "source": [
        "print(\"The longest sequence is {} words long.\".format(max([len(x) for x in X_train_NN])))\n",
        "pd.DataFrame([len(x) for x in X_train_NN]).describe()"
      ]
    },
    {
      "cell_type": "code",
      "execution_count": 37,
      "metadata": {
        "id": "ItFIFbEV-NYY",
        "colab": {
          "base_uri": "https://localhost:8080/"
        },
        "outputId": "754c0293-a989-4a2f-ba9f-9c1e36300cc2"
      },
      "outputs": [
        {
          "output_type": "stream",
          "name": "stdout",
          "text": [
            "Vocabulary is 36231 words large\n"
          ]
        }
      ],
      "source": [
        "max_length = 5000\n",
        "trunc_type='post'\n",
        "padding_type='post'\n",
        "oov_tok = \"<OOV>\"\n",
        "vocab_size = 36231\n",
        "\n",
        "#training_size = 20000\n",
        "\n",
        "tokenizer_1 = Tokenizer(num_words=vocab_size, oov_token=oov_tok)\n",
        "tokenizer_1.fit_on_texts(X_train_NN)\n",
        "\n",
        "print('Vocabulary is {} words large'.format(len(tokenizer_1.word_index)))"
      ]
    },
    {
      "cell_type": "code",
      "execution_count": 39,
      "metadata": {
        "id": "MijxKvnX-Naf",
        "colab": {
          "base_uri": "https://localhost:8080/"
        },
        "outputId": "01906823-9b0d-4aa1-f64d-7f0c3a7a23fc"
      },
      "outputs": [
        {
          "output_type": "execute_result",
          "data": {
            "text/plain": [
              "[('new', 19513),\n",
              " ('battle', 24014),\n",
              " ('multiplayer', 24938),\n",
              " ('player', 25798),\n",
              " ('free', 32048),\n",
              " ('world', 32864),\n",
              " ('play', 44438),\n",
              " ('game', 73434)]"
            ]
          },
          "metadata": {},
          "execution_count": 39
        }
      ],
      "source": [
        "sorted(tokenizer_1.word_counts.items(), key = lambda t: t[1])[36222:]"
      ]
    },
    {
      "cell_type": "markdown",
      "metadata": {
        "id": "L48rDTBQ33Ja"
      },
      "source": [
        "We can now clearly see, that we removed stop words!!!"
      ]
    },
    {
      "cell_type": "code",
      "execution_count": 40,
      "metadata": {
        "id": "3tejFnzP-Nc4"
      },
      "outputs": [],
      "source": [
        "X_train_NN = tokenizer_1.texts_to_sequences(X_train_NN)\n",
        "X_train_padded_NN = np.array(pad_sequences(X_train_NN, maxlen=max_length, padding=padding_type, truncating=trunc_type))\n",
        "\n",
        "X_test_NN = tokenizer_1.texts_to_sequences(X_test_NN)\n",
        "X_test_padded_NN = np.array(pad_sequences(X_test_NN, maxlen=max_length, padding=padding_type, truncating=trunc_type))"
      ]
    },
    {
      "cell_type": "code",
      "execution_count": 41,
      "metadata": {
        "id": "CvO0oEH0-NfK",
        "colab": {
          "base_uri": "https://localhost:8080/"
        },
        "outputId": "6f2b47f3-119c-425d-ef5b-3ac0f4980d7f"
      },
      "outputs": [
        {
          "output_type": "stream",
          "name": "stdout",
          "text": [
            "Model: \"sequential_1\"\n",
            "_________________________________________________________________\n",
            " Layer (type)                Output Shape              Param #   \n",
            "=================================================================\n",
            " embedding_1 (Embedding)     (None, 5000, 240)         8695440   \n",
            "                                                                 \n",
            " bidirectional_2 (Bidirectio  (None, 5000, 128)        156160    \n",
            " nal)                                                            \n",
            "                                                                 \n",
            " bidirectional_3 (Bidirectio  (None, 5000, 64)         41216     \n",
            " nal)                                                            \n",
            "                                                                 \n",
            " dropout_2 (Dropout)         (None, 5000, 64)          0         \n",
            "                                                                 \n",
            " flatten_1 (Flatten)         (None, 320000)            0         \n",
            "                                                                 \n",
            " dropout_3 (Dropout)         (None, 320000)            0         \n",
            "                                                                 \n",
            " dense_1 (Dense)             (None, 1)                 320001    \n",
            "                                                                 \n",
            "=================================================================\n",
            "Total params: 9,212,817\n",
            "Trainable params: 9,212,817\n",
            "Non-trainable params: 0\n",
            "_________________________________________________________________\n"
          ]
        }
      ],
      "source": [
        "METRICS = [\n",
        "      tf.keras.metrics.BinaryAccuracy(name='accuracy'),\n",
        "      tf.keras.metrics.Precision(name='precision'),\n",
        "      tf.keras.metrics.Recall(name='recall')\n",
        "]\n",
        "\n",
        "model_1 = tf.keras.Sequential()\n",
        "\n",
        "model_1.add(Embedding(vocab_size,240, input_length = max_length))\n",
        "model_1.add(Bidirectional(keras.layers.LSTM(64, return_sequences=True)))\n",
        "model_1.add(Bidirectional(keras.layers.LSTM(32, return_sequences=True)))\n",
        "model_1.add(Dropout(0.5)),\n",
        "model_1.add(Flatten()),\n",
        "model_1.add(Dropout(0.5)),\n",
        "model_1.add(Dense(1,activation = 'sigmoid'))\n",
        "\n",
        "\n",
        "model_1.compile(loss = 'binary_crossentropy',optimizer='adam',metrics = METRICS)\n",
        "\n",
        "model_1.summary()"
      ]
    },
    {
      "cell_type": "code",
      "execution_count": 42,
      "metadata": {
        "id": "MnBakSEX-Nhv",
        "colab": {
          "base_uri": "https://localhost:8080/"
        },
        "outputId": "2c94bf6c-fc94-49ed-fa58-48c632b1aad7"
      },
      "outputs": [
        {
          "output_type": "stream",
          "name": "stdout",
          "text": [
            "Epoch 1/3\n",
            "362/362 [==============================] - 811s 2s/step - loss: 0.5262 - accuracy: 0.7365 - precision: 0.7436 - recall: 0.8162 - val_loss: 0.3850 - val_accuracy: 0.8362 - val_precision: 0.8293 - val_recall: 0.8994\n",
            "Epoch 2/3\n",
            "362/362 [==============================] - 798s 2s/step - loss: 0.3399 - accuracy: 0.8641 - precision: 0.8676 - recall: 0.8969 - val_loss: 0.3522 - val_accuracy: 0.8572 - val_precision: 0.9005 - val_recall: 0.8443\n",
            "Epoch 3/3\n",
            "362/362 [==============================] - 798s 2s/step - loss: 0.1812 - accuracy: 0.9323 - precision: 0.9346 - recall: 0.9468 - val_loss: 0.4246 - val_accuracy: 0.8563 - val_precision: 0.8931 - val_recall: 0.8513\n",
            "CPU times: user 25min 41s, sys: 14min 33s, total: 40min 15s\n",
            "Wall time: 40min 28s\n"
          ]
        }
      ],
      "source": [
        "%%time\n",
        "\n",
        "history_1 = model_1.fit(X_train_padded_NN, y_train, epochs=3, validation_data=(X_test_padded_NN, y_test), verbose = 1)"
      ]
    },
    {
      "cell_type": "code",
      "execution_count": 43,
      "metadata": {
        "id": "YeBKW1I0z_Gp",
        "colab": {
          "base_uri": "https://localhost:8080/",
          "height": 549
        },
        "outputId": "148f5214-8164-41fb-e912-d48e36eafca5"
      },
      "outputs": [
        {
          "output_type": "display_data",
          "data": {
            "image/png": "[encoded data removed]",
            "text/plain": [
              "<Figure size 432x288 with 1 Axes>"
            ]
          },
          "metadata": {
            "needs_background": "light"
          }
        },
        {
          "output_type": "display_data",
          "data": {
            "image/png": "[encoded data removed]",
            "text/plain": [
              "<Figure size 432x288 with 1 Axes>"
            ]
          },
          "metadata": {
            "needs_background": "light"
          }
        }
      ],
      "source": [
        "plot_loss(history_1)"
      ]
    },
    {
      "cell_type": "code",
      "execution_count": 44,
      "metadata": {
        "id": "D7Cmkpno-Njx"
      },
      "outputs": [],
      "source": [
        "X_train_pred = model_1.predict(X_train_padded_NN)\n",
        "X_test_pred = model_1.predict(X_test_padded_NN)"
      ]
    },
    {
      "cell_type": "code",
      "execution_count": 45,
      "metadata": {
        "id": "LCkCcskU0ACE"
      },
      "outputs": [],
      "source": [
        "X_train_p = np.array([x[0] for x in X_train_pred])\n",
        "X_test_p = np.array([x[0] for x in X_test_pred])"
      ]
    },
    {
      "cell_type": "code",
      "execution_count": 46,
      "metadata": {
        "id": "q8cjzMdp-NnK",
        "colab": {
          "base_uri": "https://localhost:8080/",
          "height": 342
        },
        "outputId": "2ddd5554-3f31-482b-e465-fcf3370f4591"
      },
      "outputs": [
        {
          "output_type": "stream",
          "name": "stdout",
          "text": [
            "[[2099  333]\n",
            " [ 486 2783]]\n"
          ]
        },
        {
          "output_type": "display_data",
          "data": {
            "image/png": "[encoded data removed]",
            "text/plain": [
              "<Figure size 432x288 with 2 Axes>"
            ]
          },
          "metadata": {
            "needs_background": "light"
          }
        }
      ],
      "source": [
        "from sklearn.metrics import confusion_matrix\n",
        "\n",
        "#first is category 0 then catgory 1. Check:\n",
        "#np.logical_and((y_test ==1),np.array([x[0] for x in (round(X_test_p) == 1).values])).sum()\n",
        "\n",
        "results = confusion_matrix(y_test, X_test_p.round())\n",
        "print(results)\n",
        "\n",
        "import seaborn as sns\n",
        "\n",
        "ax = sns.heatmap(results, annot=True, cmap='Blues')\n",
        "\n",
        "ax.set_title('Confusion Matrix');\n",
        "ax.set_xlabel('\\nPredicted Values')\n",
        "ax.set_ylabel('Actual Values ');\n",
        "\n",
        "## Ticket labels - List must be in alphabetical order\n",
        "ax.xaxis.set_ticklabels(['False','True'])\n",
        "ax.yaxis.set_ticklabels(['False','True'])\n",
        "\n",
        "## Display the visualization of the Confusion Matrix.\n",
        "plt.show()"
      ]
    },
    {
      "cell_type": "code",
      "execution_count": 47,
      "metadata": {
        "id": "5KSE_7NY-iI8",
        "colab": {
          "base_uri": "https://localhost:8080/",
          "height": 320
        },
        "outputId": "e0604101-01ec-43f9-f6d4-cf5b30e89882"
      },
      "outputs": [
        {
          "output_type": "display_data",
          "data": {
            "image/png": "[encoded data removed]",
            "text/plain": [
              "<Figure size 432x288 with 4 Axes>"
            ]
          },
          "metadata": {
            "needs_background": "light"
          }
        },
        {
          "output_type": "stream",
          "name": "stdout",
          "text": [
            "AUC score for (TPR, FPR) - graph:  0.9229\n",
            "AUC-PR for (precision - recall) graph: 0.9369\n"
          ]
        }
      ],
      "source": [
        "diag_graphs(model_1, X_test_padded_NN, y_test)"
      ]
    },
    {
      "cell_type": "markdown",
      "metadata": {
        "id": "KDk7-rjv3k9M"
      },
      "source": [
        "So we can see, that prediciton power slightly decresed. Probably due to imformation loss. Results of three metrics which we used:\n",
        "\n",
        "- **Accuracy** is **85.6%**, which is almost identical value compared to model with stop words (**85.7%**) \n",
        "- **Precision** is **89.3%**, which is a little bit better than previous model (**84%**)\n",
        "- Value of **recall** is **85.1%** < **92.7%**\n",
        "\n",
        "All in all, the best model is still the first one without stacking method."
      ]
    },
    {
      "cell_type": "markdown",
      "metadata": {
        "id": "QmwVVwfq-EyO"
      },
      "source": [
        "# 3. **BERT** - transformer for text classification without removing stop words and lematization. "
      ]
    },
    {
      "cell_type": "code",
      "execution_count": null,
      "metadata": {
        "id": "WADVVlrQ-vaL"
      },
      "outputs": [],
      "source": [
        "!pip install tensorflow_text\n",
        "\n",
        "import tensorflow as tf\n",
        "import tensorflow_text as text\n",
        "import tensorflow_hub as hub"
      ]
    },
    {
      "cell_type": "code",
      "execution_count": 51,
      "metadata": {
        "id": "vAQzZEMCALVa"
      },
      "outputs": [],
      "source": [
        "X_train, X_test, y_train, y_test = train_test_split(X, y, test_size=0.33, random_state=42)"
      ]
    },
    {
      "cell_type": "code",
      "execution_count": 52,
      "metadata": {
        "id": "l4xxW95VALZP"
      },
      "outputs": [],
      "source": [
        "X_train_NN = X_train.text.values\n",
        "X_test_NN = X_test.text.values"
      ]
    },
    {
      "cell_type": "code",
      "execution_count": 53,
      "metadata": {
        "id": "fpsC8PO8-vh8"
      },
      "outputs": [],
      "source": [
        "bert_encoder = hub.KerasLayer(\"https://tfhub.dev/tensorflow/bert_en_uncased_L-12_H-768_A-12/4\")\n",
        "bert_preprocess = hub.KerasLayer(\"https://tfhub.dev/tensorflow/bert_en_uncased_preprocess/3\")"
      ]
    },
    {
      "cell_type": "code",
      "execution_count": 54,
      "metadata": {
        "id": "6GCDDKYo-vka",
        "colab": {
          "base_uri": "https://localhost:8080/"
        },
        "outputId": "4ce9f36b-f040-442b-dbab-bde4dde9effe"
      },
      "outputs": [
        {
          "output_type": "stream",
          "name": "stdout",
          "text": [
            "Model: \"model\"\n",
            "__________________________________________________________________________________________________\n",
            " Layer (type)                   Output Shape         Param #     Connected to                     \n",
            "==================================================================================================\n",
            " text (InputLayer)              [(None,)]            0           []                               \n",
            "                                                                                                  \n",
            " keras_layer_1 (KerasLayer)     {'input_type_ids':   0           ['text[0][0]']                   \n",
            "                                (None, 128),                                                      \n",
            "                                 'input_mask': (Non                                               \n",
            "                                e, 128),                                                          \n",
            "                                 'input_word_ids':                                                \n",
            "                                (None, 128)}                                                      \n",
            "                                                                                                  \n",
            " keras_layer (KerasLayer)       {'pooled_output': (  109482241   ['keras_layer_1[0][0]',          \n",
            "                                None, 768),                       'keras_layer_1[0][1]',          \n",
            "                                 'sequence_output':               'keras_layer_1[0][2]']          \n",
            "                                 (None, 128, 768),                                                \n",
            "                                 'default': (None,                                                \n",
            "                                768),                                                             \n",
            "                                 'encoder_outputs':                                               \n",
            "                                 [(None, 128, 768),                                               \n",
            "                                 (None, 128, 768),                                                \n",
            "                                 (None, 128, 768),                                                \n",
            "                                 (None, 128, 768),                                                \n",
            "                                 (None, 128, 768),                                                \n",
            "                                 (None, 128, 768),                                                \n",
            "                                 (None, 128, 768),                                                \n",
            "                                 (None, 128, 768),                                                \n",
            "                                 (None, 128, 768),                                                \n",
            "                                 (None, 128, 768),                                                \n",
            "                                 (None, 128, 768),                                                \n",
            "                                 (None, 128, 768)]}                                               \n",
            "                                                                                                  \n",
            " dropout (Dropout)              (None, 768)          0           ['keras_layer[0][13]']           \n",
            "                                                                                                  \n",
            " output1 (Dense)                (None, 128)          98432       ['dropout[0][0]']                \n",
            "                                                                                                  \n",
            " output2 (Dense)                (None, 64)           8256        ['output1[0][0]']                \n",
            "                                                                                                  \n",
            " output3 (Dense)                (None, 32)           2080        ['output2[0][0]']                \n",
            "                                                                                                  \n",
            " output4 (Dense)                (None, 1)            33          ['output3[0][0]']                \n",
            "                                                                                                  \n",
            "==================================================================================================\n",
            "Total params: 109,591,042\n",
            "Trainable params: 108,801\n",
            "Non-trainable params: 109,482,241\n",
            "__________________________________________________________________________________________________\n"
          ]
        }
      ],
      "source": [
        "# Bert layers\n",
        "text_input = tf.keras.layers.Input(shape=(), dtype=tf.string, name='text')\n",
        "preprocessed_text = bert_preprocess(text_input)\n",
        "outputs = bert_encoder(preprocessed_text)\n",
        "\n",
        "# Neural network layers\n",
        "l_1 = tf.keras.layers.Dropout(0.1, name=\"dropout\")(outputs['pooled_output'])\n",
        "l_2 = tf.keras.layers.Dense(128, activation='relu', name=\"output1\")(l_1)\n",
        "l_3 = tf.keras.layers.Dense(64, activation='relu', name=\"output2\")(l_2)\n",
        "l_4 = tf.keras.layers.Dense(32, activation='relu', name=\"output3\")(l_3)\n",
        "l_5 = tf.keras.layers.Dense(1, activation='sigmoid', name=\"output4\")(l_4)\n",
        "\n",
        "# Use inputs and outputs to construct a final model\n",
        "model_3 = tf.keras.Model(inputs=[text_input], outputs = [l_5])\n",
        "\n",
        "model_3.summary()"
      ]
    },
    {
      "cell_type": "code",
      "execution_count": 55,
      "metadata": {
        "id": "fddJojRe-vmx"
      },
      "outputs": [],
      "source": [
        "model_3.compile(optimizer='adam',\n",
        "              loss='binary_crossentropy',\n",
        "              metrics=METRICS)"
      ]
    },
    {
      "cell_type": "code",
      "execution_count": 56,
      "metadata": {
        "id": "irSpvUM5_u8Z",
        "colab": {
          "base_uri": "https://localhost:8080/"
        },
        "outputId": "7ae78e31-f640-420f-8503-eff019cdcc51"
      },
      "outputs": [
        {
          "output_type": "stream",
          "name": "stdout",
          "text": [
            "Epoch 1/4\n",
            "362/362 [==============================] - 361s 970ms/step - loss: 0.6791 - accuracy: 0.6709 - precision: 0.6619 - recall: 0.8611 - val_loss: 0.6700 - val_accuracy: 0.5734 - val_precision: 0.5734 - val_recall: 1.0000\n",
            "Epoch 2/4\n",
            "362/362 [==============================] - 337s 932ms/step - loss: 0.6403 - accuracy: 0.6433 - precision: 0.6433 - recall: 0.8311 - val_loss: 0.6340 - val_accuracy: 0.6720 - val_precision: 0.7287 - val_recall: 0.6819\n",
            "Epoch 3/4\n",
            "362/362 [==============================] - 350s 968ms/step - loss: 0.6122 - accuracy: 0.6753 - precision: 0.6644 - recall: 0.8624 - val_loss: 0.5800 - val_accuracy: 0.7085 - val_precision: 0.6914 - val_recall: 0.8877\n",
            "Epoch 4/4\n",
            "362/362 [==============================] - 336s 930ms/step - loss: 0.6014 - accuracy: 0.6853 - precision: 0.6707 - recall: 0.8729 - val_loss: 0.6322 - val_accuracy: 0.6369 - val_precision: 0.6169 - val_recall: 0.9676\n"
          ]
        }
      ],
      "source": [
        "history_3 = model_3.fit(X_train_NN, y_train, epochs=4, validation_data=(X_test_NN, y_test), verbose = 1)"
      ]
    },
    {
      "cell_type": "code",
      "execution_count": 57,
      "metadata": {
        "id": "xTL5GN4BApqI",
        "colab": {
          "base_uri": "https://localhost:8080/",
          "height": 549
        },
        "outputId": "154d6b97-004a-45bf-87f1-a60da6191aa9"
      },
      "outputs": [
        {
          "output_type": "display_data",
          "data": {
            "image/png": "[encoded data removed]",
            "text/plain": [
              "<Figure size 432x288 with 1 Axes>"
            ]
          },
          "metadata": {
            "needs_background": "light"
          }
        },
        {
          "output_type": "display_data",
          "data": {
            "image/png": "[encoded data removed]",
            "text/plain": [
              "<Figure size 432x288 with 1 Axes>"
            ]
          },
          "metadata": {
            "needs_background": "light"
          }
        }
      ],
      "source": [
        "plot_loss(history_3)"
      ]
    },
    {
      "cell_type": "code",
      "execution_count": 58,
      "metadata": {
        "id": "W6tcmdH2Fd1h"
      },
      "outputs": [],
      "source": [
        "X_train_pred = model_3.predict(X_train_NN)\n",
        "X_test_pred = model_3.predict(X_test_NN)"
      ]
    },
    {
      "cell_type": "code",
      "execution_count": 59,
      "metadata": {
        "id": "v06SrDalAVTD"
      },
      "outputs": [],
      "source": [
        "X_train_p = np.array([x[0] for x in X_train_pred])\n",
        "X_test_p = np.array([x[0] for x in X_test_pred])"
      ]
    },
    {
      "cell_type": "code",
      "execution_count": 60,
      "metadata": {
        "id": "01RzdJAZAVWX",
        "colab": {
          "base_uri": "https://localhost:8080/",
          "height": 342
        },
        "outputId": "c0985ac3-7ce4-406a-99c2-55a4f06f2988"
      },
      "outputs": [
        {
          "output_type": "stream",
          "name": "stdout",
          "text": [
            "[[ 468 1964]\n",
            " [ 106 3163]]\n"
          ]
        },
        {
          "output_type": "display_data",
          "data": {
            "image/png": "[encoded data removed]",
            "text/plain": [
              "<Figure size 432x288 with 2 Axes>"
            ]
          },
          "metadata": {
            "needs_background": "light"
          }
        }
      ],
      "source": [
        "from sklearn.metrics import confusion_matrix\n",
        "\n",
        "#first is category 0 then category 1. Check:\n",
        "#np.logical_and((y_test ==1),np.array([x[0] for x in (round(X_test_p) == 1).values])).sum()\n",
        "\n",
        "results = confusion_matrix(y_test, X_test_p.round())\n",
        "print(results)\n",
        "\n",
        "import seaborn as sns\n",
        "\n",
        "ax = sns.heatmap(results, annot=True, cmap='Blues')\n",
        "\n",
        "ax.set_title('Confusion Matrix');\n",
        "ax.set_xlabel('\\nPredicted Values')\n",
        "ax.set_ylabel('Actual Values ');\n",
        "\n",
        "ax.xaxis.set_ticklabels(['False - 0','True - 1'])\n",
        "ax.yaxis.set_ticklabels(['False - 0','True - 1'])\n",
        "\n",
        "## Display the visualization of the Confusion Matrix.\n",
        "plt.show()"
      ]
    },
    {
      "cell_type": "code",
      "execution_count": 61,
      "metadata": {
        "id": "qKbRfjGq_vHm",
        "colab": {
          "base_uri": "https://localhost:8080/",
          "height": 320
        },
        "outputId": "609cd15f-99cb-45b9-ccd4-21a44e7a709a"
      },
      "outputs": [
        {
          "output_type": "display_data",
          "data": {
            "image/png": "[encoded data removed]",
            "text/plain": [
              "<Figure size 432x288 with 4 Axes>"
            ]
          },
          "metadata": {
            "needs_background": "light"
          }
        },
        {
          "output_type": "stream",
          "name": "stdout",
          "text": [
            "AUC score for (TPR, FPR) - graph:  0.751\n",
            "AUC-PR for (precision - recall) graph: 0.7808\n"
          ]
        }
      ],
      "source": [
        "diag_graphs(model_3, X_test_NN, y_test)"
      ]
    },
    {
      "cell_type": "markdown",
      "metadata": {
        "id": "ULl_-z1I-sh6"
      },
      "source": [
        "# 4. **BERT** - transformer for text classification with removing stop words and lematization."
      ]
    },
    {
      "cell_type": "code",
      "execution_count": null,
      "metadata": {
        "id": "h3BndTuaF3SK"
      },
      "outputs": [],
      "source": [
        "X_train, X_test, y_train, y_test = train_test_split(X_ls, y, test_size=0.33, random_state=42)"
      ]
    },
    {
      "cell_type": "code",
      "execution_count": null,
      "metadata": {
        "id": "1LS5gIZmF3Ug"
      },
      "outputs": [],
      "source": [
        "X_train_NN = X_train.text.values\n",
        "X_test_NN = X_test.text.values"
      ]
    },
    {
      "cell_type": "code",
      "execution_count": null,
      "metadata": {
        "id": "GiTl_vdEF3XN"
      },
      "outputs": [],
      "source": [
        "# Bert layers\n",
        "text_input = tf.keras.layers.Input(shape=(), dtype=tf.string, name='text')\n",
        "preprocessed_text = bert_preprocess(text_input)\n",
        "outputs = bert_encoder(preprocessed_text)\n",
        "\n",
        "# Neural network layers\n",
        "l_1 = tf.keras.layers.Dropout(0.1, name=\"dropout\")(outputs['pooled_output'])\n",
        "l_2 = tf.keras.layers.Dense(128, activation='relu', name=\"output1\")(l_1)\n",
        "l_3 = tf.keras.layers.Dense(64, activation='relu', name=\"output2\")(l_2)\n",
        "l_4 = tf.keras.layers.Dense(32, activation='relu', name=\"output3\")(l_3)\n",
        "l_5 = tf.keras.layers.Dense(1, activation='sigmoid', name=\"output4\")(l_4)\n",
        "\n",
        "# Use inputs and outputs to construct a final model\n",
        "model_4 = tf.keras.Model(inputs=[text_input], outputs = [l_5])\n",
        "\n",
        "model_4.summary()"
      ]
    },
    {
      "cell_type": "code",
      "execution_count": null,
      "metadata": {
        "id": "68EkxBdtF3Zf"
      },
      "outputs": [],
      "source": [
        "model_4.compile(optimizer='adam',\n",
        "              loss='binary_crossentropy',\n",
        "              metrics=METRICS)"
      ]
    },
    {
      "cell_type": "code",
      "execution_count": null,
      "metadata": {
        "id": "R-9jd0eNF3bs"
      },
      "outputs": [],
      "source": [
        "history_4 = model_4.fit(X_train_NN, y_train, epochs=5, validation_data=(X_test_NN, y_test), verbose = 1)"
      ]
    },
    {
      "cell_type": "code",
      "execution_count": null,
      "metadata": {
        "id": "3dji00-aF3eA"
      },
      "outputs": [],
      "source": [
        "plot_loss(history_4)"
      ]
    },
    {
      "cell_type": "code",
      "execution_count": null,
      "metadata": {
        "id": "EoYIOwihF3hP"
      },
      "outputs": [],
      "source": [
        "X_train_pred = model_4.predict(X_train_NN)\n",
        "X_test_pred = model_4.predict(X_test_NN)"
      ]
    },
    {
      "cell_type": "code",
      "execution_count": null,
      "metadata": {
        "id": "p1_FBZQBF3jK"
      },
      "outputs": [],
      "source": [
        "X_train_p = np.array([x[0] for x in X_train_pred])\n",
        "X_test_p = np.array([x[0] for x in X_test_pred])"
      ]
    },
    {
      "cell_type": "code",
      "execution_count": null,
      "metadata": {
        "id": "cdpTMWgVF3lA"
      },
      "outputs": [],
      "source": [
        "from sklearn.metrics import confusion_matrix\n",
        "\n",
        "#first is category 0 then category 1. Check:\n",
        "#np.logical_and((y_test ==1),np.array([x[0] for x in (round(X_test_p) == 1).values])).sum()\n",
        "\n",
        "results = confusion_matrix(y_test, X_test_p.round())\n",
        "print(results)\n",
        "\n",
        "import seaborn as sns\n",
        "\n",
        "ax = sns.heatmap(results, annot=True, cmap='Blues')\n",
        "\n",
        "ax.set_title('Confusion Matrix');\n",
        "ax.set_xlabel('\\nPredicted Values')\n",
        "ax.set_ylabel('Actual Values ');\n",
        "\n",
        "ax.xaxis.set_ticklabels(['False - 0','True - 1'])\n",
        "ax.yaxis.set_ticklabels(['False - 0','True - 1'])\n",
        "\n",
        "## Display the visualization of the Confusion Matrix.\n",
        "plt.show()"
      ]
    },
    {
      "cell_type": "code",
      "execution_count": null,
      "metadata": {
        "id": "chX7-aCwF3nO"
      },
      "outputs": [],
      "source": [
        "diag_graphs(model_4, X_test_padded_NN, y_test)"
      ]
    },
    {
      "cell_type": "markdown",
      "metadata": {
        "id": "ouwuEGBMu14K"
      },
      "source": [
        "# Final modelling **test.csv** file by the best model\n",
        "\n",
        "We will create a function which will do processing, training and give the final output at once."
      ]
    },
    {
      "cell_type": "code",
      "execution_count": 48,
      "metadata": {
        "colab": {
          "base_uri": "https://localhost:8080/",
          "height": 337
        },
        "id": "eCGvfnI3vCG6",
        "outputId": "0411ba6c-3082-45d8-f195-b00dded54960"
      },
      "outputs": [
        {
          "output_type": "execute_result",
          "data": {
            "text/html": [
              "\n",
              "  <div id=\"df-67d8b865-f79c-4dcd-a721-e6ef85415792\">\n",
              "    <div class=\"colab-df-container\">\n",
              "      <div>\n",
              "<style scoped>\n",
              "    .dataframe tbody tr th:only-of-type {\n",
              "        vertical-align: middle;\n",
              "    }\n",
              "\n",
              "    .dataframe tbody tr th {\n",
              "        vertical-align: top;\n",
              "    }\n",
              "\n",
              "    .dataframe thead th {\n",
              "        text-align: right;\n",
              "    }\n",
              "</style>\n",
              "<table border=\"1\" class=\"dataframe\">\n",
              "  <thead>\n",
              "    <tr style=\"text-align: right;\">\n",
              "      <th></th>\n",
              "      <th>review_id</th>\n",
              "      <th>title</th>\n",
              "      <th>year</th>\n",
              "      <th>user_review</th>\n",
              "      <th>developer</th>\n",
              "      <th>publisher</th>\n",
              "      <th>tags</th>\n",
              "      <th>overview</th>\n",
              "    </tr>\n",
              "  </thead>\n",
              "  <tbody>\n",
              "    <tr>\n",
              "      <th>0</th>\n",
              "      <td>1603</td>\n",
              "      <td>Counter-Strike: Global Offensive</td>\n",
              "      <td>2015.0</td>\n",
              "      <td>Nice graphics, new maps, weapons and models. B...</td>\n",
              "      <td>Valve, Hidden Path Entertainment</td>\n",
              "      <td>Valve</td>\n",
              "      <td>['FPS', 'Multiplayer', 'Shooter', 'Action', 'T...</td>\n",
              "      <td>Counter-Strike: Global Offensive (CS: GO) expa...</td>\n",
              "    </tr>\n",
              "    <tr>\n",
              "      <th>1</th>\n",
              "      <td>1604</td>\n",
              "      <td>Counter-Strike: Global Offensive</td>\n",
              "      <td>2018.0</td>\n",
              "      <td>I would not recommend getting into this at its...</td>\n",
              "      <td>Valve, Hidden Path Entertainment</td>\n",
              "      <td>Valve</td>\n",
              "      <td>['FPS', 'Multiplayer', 'Shooter', 'Action', 'T...</td>\n",
              "      <td>Counter-Strike: Global Offensive (CS: GO) expa...</td>\n",
              "    </tr>\n",
              "    <tr>\n",
              "      <th>2</th>\n",
              "      <td>1605</td>\n",
              "      <td>Counter-Strike: Global Offensive</td>\n",
              "      <td>2018.0</td>\n",
              "      <td>Edit 11/12/18I have tried playing CS:GO recent...</td>\n",
              "      <td>Valve, Hidden Path Entertainment</td>\n",
              "      <td>Valve</td>\n",
              "      <td>['FPS', 'Multiplayer', 'Shooter', 'Action', 'T...</td>\n",
              "      <td>Counter-Strike: Global Offensive (CS: GO) expa...</td>\n",
              "    </tr>\n",
              "    <tr>\n",
              "      <th>3</th>\n",
              "      <td>1606</td>\n",
              "      <td>Counter-Strike: Global Offensive</td>\n",
              "      <td>2015.0</td>\n",
              "      <td>The game is great. But the community is the wo...</td>\n",
              "      <td>Valve, Hidden Path Entertainment</td>\n",
              "      <td>Valve</td>\n",
              "      <td>['FPS', 'Multiplayer', 'Shooter', 'Action', 'T...</td>\n",
              "      <td>Counter-Strike: Global Offensive (CS: GO) expa...</td>\n",
              "    </tr>\n",
              "    <tr>\n",
              "      <th>4</th>\n",
              "      <td>1607</td>\n",
              "      <td>Counter-Strike: Global Offensive</td>\n",
              "      <td>2015.0</td>\n",
              "      <td>I thank TrulyRazor for buying this for me a lo...</td>\n",
              "      <td>Valve, Hidden Path Entertainment</td>\n",
              "      <td>Valve</td>\n",
              "      <td>['FPS', 'Multiplayer', 'Shooter', 'Action', 'T...</td>\n",
              "      <td>Counter-Strike: Global Offensive (CS: GO) expa...</td>\n",
              "    </tr>\n",
              "  </tbody>\n",
              "</table>\n",
              "</div>\n",
              "      <button class=\"colab-df-convert\" onclick=\"convertToInteractive('df-67d8b865-f79c-4dcd-a721-e6ef85415792')\"\n",
              "              title=\"Convert this dataframe to an interactive table.\"\n",
              "              style=\"display:none;\">\n",
              "        \n",
              "  <svg xmlns=\"http://www.w3.org/2000/svg\" height=\"24px\"viewBox=\"0 0 24 24\"\n",
              "       width=\"24px\">\n",
              "    <path d=\"M0 0h24v24H0V0z\" fill=\"none\"/>\n",
              "    <path d=\"M18.56 5.44l.94 2.06.94-2.06 2.06-.94-2.06-.94-.94-2.06-.94 2.06-2.06.94zm-11 1L8.5 8.5l.94-2.06 2.06-.94-2.06-.94L8.5 2.5l-.94 2.06-2.06.94zm10 10l.94 2.06.94-2.06 2.06-.94-2.06-.94-.94-2.06-.94 2.06-2.06.94z\"/><path d=\"M17.41 7.96l-1.37-1.37c-.4-.4-.92-.59-1.43-.59-.52 0-1.04.2-1.43.59L10.3 9.45l-7.72 7.72c-.78.78-.78 2.05 0 2.83L4 21.41c.39.39.9.59 1.41.59.51 0 1.02-.2 1.41-.59l7.78-7.78 2.81-2.81c.8-.78.8-2.07 0-2.86zM5.41 20L4 18.59l7.72-7.72 1.47 1.35L5.41 20z\"/>\n",
              "  </svg>\n",
              "      </button>\n",
              "      \n",
              "  <style>\n",
              "    .colab-df-container {\n",
              "      display:flex;\n",
              "      flex-wrap:wrap;\n",
              "      gap: 12px;\n",
              "    }\n",
              "\n",
              "    .colab-df-convert {\n",
              "      background-color: #E8F0FE;\n",
              "      border: none;\n",
              "      border-radius: 50%;\n",
              "      cursor: pointer;\n",
              "      display: none;\n",
              "      fill: #1967D2;\n",
              "      height: 32px;\n",
              "      padding: 0 0 0 0;\n",
              "      width: 32px;\n",
              "    }\n",
              "\n",
              "    .colab-df-convert:hover {\n",
              "      background-color: #E2EBFA;\n",
              "      box-shadow: 0px 1px 2px rgba(60, 64, 67, 0.3), 0px 1px 3px 1px rgba(60, 64, 67, 0.15);\n",
              "      fill: #174EA6;\n",
              "    }\n",
              "\n",
              "    [theme=dark] .colab-df-convert {\n",
              "      background-color: #3B4455;\n",
              "      fill: #D2E3FC;\n",
              "    }\n",
              "\n",
              "    [theme=dark] .colab-df-convert:hover {\n",
              "      background-color: #434B5C;\n",
              "      box-shadow: 0px 1px 3px 1px rgba(0, 0, 0, 0.15);\n",
              "      filter: drop-shadow(0px 1px 2px rgba(0, 0, 0, 0.3));\n",
              "      fill: #FFFFFF;\n",
              "    }\n",
              "  </style>\n",
              "\n",
              "      <script>\n",
              "        const buttonEl =\n",
              "          document.querySelector('#df-67d8b865-f79c-4dcd-a721-e6ef85415792 button.colab-df-convert');\n",
              "        buttonEl.style.display =\n",
              "          google.colab.kernel.accessAllowed ? 'block' : 'none';\n",
              "\n",
              "        async function convertToInteractive(key) {\n",
              "          const element = document.querySelector('#df-67d8b865-f79c-4dcd-a721-e6ef85415792');\n",
              "          const dataTable =\n",
              "            await google.colab.kernel.invokeFunction('convertToInteractive',\n",
              "                                                     [key], {});\n",
              "          if (!dataTable) return;\n",
              "\n",
              "          const docLinkHtml = 'Like what you see? Visit the ' +\n",
              "            '<a target=\"_blank\" href=https://colab.research.google.com/notebooks/data_table.ipynb>data table notebook</a>'\n",
              "            + ' to learn more about interactive tables.';\n",
              "          element.innerHTML = '';\n",
              "          dataTable['output_type'] = 'display_data';\n",
              "          await google.colab.output.renderOutput(dataTable, element);\n",
              "          const docLink = document.createElement('div');\n",
              "          docLink.innerHTML = docLinkHtml;\n",
              "          element.appendChild(docLink);\n",
              "        }\n",
              "      </script>\n",
              "    </div>\n",
              "  </div>\n",
              "  "
            ],
            "text/plain": [
              "   review_id  ...                                           overview\n",
              "0       1603  ...  Counter-Strike: Global Offensive (CS: GO) expa...\n",
              "1       1604  ...  Counter-Strike: Global Offensive (CS: GO) expa...\n",
              "2       1605  ...  Counter-Strike: Global Offensive (CS: GO) expa...\n",
              "3       1606  ...  Counter-Strike: Global Offensive (CS: GO) expa...\n",
              "4       1607  ...  Counter-Strike: Global Offensive (CS: GO) expa...\n",
              "\n",
              "[5 rows x 8 columns]"
            ]
          },
          "metadata": {},
          "execution_count": 48
        }
      ],
      "source": [
        "df_test_merged.head()"
      ]
    },
    {
      "cell_type": "code",
      "execution_count": 49,
      "metadata": {
        "colab": {
          "base_uri": "https://localhost:8080/",
          "height": 423
        },
        "id": "iZA-QfISvCJX",
        "outputId": "e0bfc251-31c5-4e3a-e591-85ba633aad79"
      },
      "outputs": [
        {
          "output_type": "execute_result",
          "data": {
            "text/html": [
              "\n",
              "  <div id=\"df-237cc158-a781-4d16-88cf-9941b1419aa7\">\n",
              "    <div class=\"colab-df-container\">\n",
              "      <div>\n",
              "<style scoped>\n",
              "    .dataframe tbody tr th:only-of-type {\n",
              "        vertical-align: middle;\n",
              "    }\n",
              "\n",
              "    .dataframe tbody tr th {\n",
              "        vertical-align: top;\n",
              "    }\n",
              "\n",
              "    .dataframe thead th {\n",
              "        text-align: right;\n",
              "    }\n",
              "</style>\n",
              "<table border=\"1\" class=\"dataframe\">\n",
              "  <thead>\n",
              "    <tr style=\"text-align: right;\">\n",
              "      <th></th>\n",
              "      <th>review_id</th>\n",
              "      <th>predictions</th>\n",
              "    </tr>\n",
              "  </thead>\n",
              "  <tbody>\n",
              "    <tr>\n",
              "      <th>0</th>\n",
              "      <td>1603</td>\n",
              "      <td>0.0</td>\n",
              "    </tr>\n",
              "    <tr>\n",
              "      <th>1</th>\n",
              "      <td>1604</td>\n",
              "      <td>0.0</td>\n",
              "    </tr>\n",
              "    <tr>\n",
              "      <th>2</th>\n",
              "      <td>1605</td>\n",
              "      <td>0.0</td>\n",
              "    </tr>\n",
              "    <tr>\n",
              "      <th>3</th>\n",
              "      <td>1606</td>\n",
              "      <td>0.0</td>\n",
              "    </tr>\n",
              "    <tr>\n",
              "      <th>4</th>\n",
              "      <td>1607</td>\n",
              "      <td>1.0</td>\n",
              "    </tr>\n",
              "    <tr>\n",
              "      <th>...</th>\n",
              "      <td>...</td>\n",
              "      <td>...</td>\n",
              "    </tr>\n",
              "    <tr>\n",
              "      <th>8040</th>\n",
              "      <td>25198</td>\n",
              "      <td>1.0</td>\n",
              "    </tr>\n",
              "    <tr>\n",
              "      <th>8041</th>\n",
              "      <td>25199</td>\n",
              "      <td>0.0</td>\n",
              "    </tr>\n",
              "    <tr>\n",
              "      <th>8042</th>\n",
              "      <td>25200</td>\n",
              "      <td>0.0</td>\n",
              "    </tr>\n",
              "    <tr>\n",
              "      <th>8043</th>\n",
              "      <td>25201</td>\n",
              "      <td>1.0</td>\n",
              "    </tr>\n",
              "    <tr>\n",
              "      <th>8044</th>\n",
              "      <td>25202</td>\n",
              "      <td>1.0</td>\n",
              "    </tr>\n",
              "  </tbody>\n",
              "</table>\n",
              "<p>7957 rows × 2 columns</p>\n",
              "</div>\n",
              "      <button class=\"colab-df-convert\" onclick=\"convertToInteractive('df-237cc158-a781-4d16-88cf-9941b1419aa7')\"\n",
              "              title=\"Convert this dataframe to an interactive table.\"\n",
              "              style=\"display:none;\">\n",
              "        \n",
              "  <svg xmlns=\"http://www.w3.org/2000/svg\" height=\"24px\"viewBox=\"0 0 24 24\"\n",
              "       width=\"24px\">\n",
              "    <path d=\"M0 0h24v24H0V0z\" fill=\"none\"/>\n",
              "    <path d=\"M18.56 5.44l.94 2.06.94-2.06 2.06-.94-2.06-.94-.94-2.06-.94 2.06-2.06.94zm-11 1L8.5 8.5l.94-2.06 2.06-.94-2.06-.94L8.5 2.5l-.94 2.06-2.06.94zm10 10l.94 2.06.94-2.06 2.06-.94-2.06-.94-.94-2.06-.94 2.06-2.06.94z\"/><path d=\"M17.41 7.96l-1.37-1.37c-.4-.4-.92-.59-1.43-.59-.52 0-1.04.2-1.43.59L10.3 9.45l-7.72 7.72c-.78.78-.78 2.05 0 2.83L4 21.41c.39.39.9.59 1.41.59.51 0 1.02-.2 1.41-.59l7.78-7.78 2.81-2.81c.8-.78.8-2.07 0-2.86zM5.41 20L4 18.59l7.72-7.72 1.47 1.35L5.41 20z\"/>\n",
              "  </svg>\n",
              "      </button>\n",
              "      \n",
              "  <style>\n",
              "    .colab-df-container {\n",
              "      display:flex;\n",
              "      flex-wrap:wrap;\n",
              "      gap: 12px;\n",
              "    }\n",
              "\n",
              "    .colab-df-convert {\n",
              "      background-color: #E8F0FE;\n",
              "      border: none;\n",
              "      border-radius: 50%;\n",
              "      cursor: pointer;\n",
              "      display: none;\n",
              "      fill: #1967D2;\n",
              "      height: 32px;\n",
              "      padding: 0 0 0 0;\n",
              "      width: 32px;\n",
              "    }\n",
              "\n",
              "    .colab-df-convert:hover {\n",
              "      background-color: #E2EBFA;\n",
              "      box-shadow: 0px 1px 2px rgba(60, 64, 67, 0.3), 0px 1px 3px 1px rgba(60, 64, 67, 0.15);\n",
              "      fill: #174EA6;\n",
              "    }\n",
              "\n",
              "    [theme=dark] .colab-df-convert {\n",
              "      background-color: #3B4455;\n",
              "      fill: #D2E3FC;\n",
              "    }\n",
              "\n",
              "    [theme=dark] .colab-df-convert:hover {\n",
              "      background-color: #434B5C;\n",
              "      box-shadow: 0px 1px 3px 1px rgba(0, 0, 0, 0.15);\n",
              "      filter: drop-shadow(0px 1px 2px rgba(0, 0, 0, 0.3));\n",
              "      fill: #FFFFFF;\n",
              "    }\n",
              "  </style>\n",
              "\n",
              "      <script>\n",
              "        const buttonEl =\n",
              "          document.querySelector('#df-237cc158-a781-4d16-88cf-9941b1419aa7 button.colab-df-convert');\n",
              "        buttonEl.style.display =\n",
              "          google.colab.kernel.accessAllowed ? 'block' : 'none';\n",
              "\n",
              "        async function convertToInteractive(key) {\n",
              "          const element = document.querySelector('#df-237cc158-a781-4d16-88cf-9941b1419aa7');\n",
              "          const dataTable =\n",
              "            await google.colab.kernel.invokeFunction('convertToInteractive',\n",
              "                                                     [key], {});\n",
              "          if (!dataTable) return;\n",
              "\n",
              "          const docLinkHtml = 'Like what you see? Visit the ' +\n",
              "            '<a target=\"_blank\" href=https://colab.research.google.com/notebooks/data_table.ipynb>data table notebook</a>'\n",
              "            + ' to learn more about interactive tables.';\n",
              "          element.innerHTML = '';\n",
              "          dataTable['output_type'] = 'display_data';\n",
              "          await google.colab.output.renderOutput(dataTable, element);\n",
              "          const docLink = document.createElement('div');\n",
              "          docLink.innerHTML = docLinkHtml;\n",
              "          element.appendChild(docLink);\n",
              "        }\n",
              "      </script>\n",
              "    </div>\n",
              "  </div>\n",
              "  "
            ],
            "text/plain": [
              "      review_id  predictions\n",
              "0          1603          0.0\n",
              "1          1604          0.0\n",
              "2          1605          0.0\n",
              "3          1606          0.0\n",
              "4          1607          1.0\n",
              "...         ...          ...\n",
              "8040      25198          1.0\n",
              "8041      25199          0.0\n",
              "8042      25200          0.0\n",
              "8043      25201          1.0\n",
              "8044      25202          1.0\n",
              "\n",
              "[7957 rows x 2 columns]"
            ]
          },
          "metadata": {},
          "execution_count": 49
        }
      ],
      "source": [
        "def make_final_predictions(X, tokenizer, model):\n",
        "\n",
        "    #preprocessing\n",
        "    X = preprocess_data(X)\n",
        "    X.tags = X.tags.apply(lambda x: x.replace(\"\\'\",'')[1:-1])\n",
        "    X['text'] = X.title + X.developer + X.publisher + X.tags + X.overview + X.user_review\n",
        "    \n",
        "    X_NN = X.text.values\n",
        "    review_id = X.review_id\n",
        "    \n",
        "    #tokenizing sentences\n",
        "    max_length = 5000\n",
        "    trunc_type='post'\n",
        "    padding_type='post'\n",
        "    X_NN = tokenizer.texts_to_sequences(X_NN)\n",
        "    X_padded_NN = np.array(pad_sequences(X_NN, maxlen=max_length, padding=padding_type, truncating=trunc_type))\n",
        "\n",
        "    #modelling\n",
        "    prob = model.predict(X_padded_NN)\n",
        "    prob = np.array([x[0] for x in prob])\n",
        "\n",
        "    return pd.DataFrame({'review_id':review_id, 'predictions':prob.round()})\n",
        "\n",
        "\n",
        "make_final_predictions(df_test_merged, tokenizer, model)"
      ]
    },
    {
      "cell_type": "code",
      "source": [
        "final_predictions = make_final_predictions(df_test_merged, tokenizer, model)\n",
        "final_predictions.to_pickle(\"result.pkl\")"
      ],
      "metadata": {
        "id": "0HH8Ex55bAkI"
      },
      "execution_count": 62,
      "outputs": []
    },
    {
      "cell_type": "markdown",
      "source": [
        "# **Complete documentation with detailed results will be in github repository.**"
      ],
      "metadata": {
        "id": "IXu9enlVbVzE"
      }
    }
  ],
  "metadata": {
    "accelerator": "GPU",
    "colab": {
      "collapsed_sections": [],
      "name": "DTSE-steam-data-reviews-model-building.ipynb",
      "provenance": [],
      "include_colab_link": true
    },
    "kernelspec": {
      "display_name": "Python 3",
      "name": "python3"
    },
    "language_info": {
      "name": "python"
    }
  },
  "nbformat": 4,
  "nbformat_minor": 0
}