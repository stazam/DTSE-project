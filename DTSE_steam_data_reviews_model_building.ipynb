{
  "nbformat": 4,
  "nbformat_minor": 0,
  "metadata": {
    "colab": {
      "name": "DTSE-steam-data-reviews-model-building.ipynb",
      "provenance": [],
      "collapsed_sections": [],
      "mount_file_id": "1nSVdsz9NZe8SAj-5h-jnt7vpt_XWi7rG",
      "authorship_tag": "ABX9TyP97v5Rr/DD6HpoBpw3MFUV",
      "include_colab_link": true
    },
    "kernelspec": {
      "name": "python3",
      "display_name": "Python 3"
    },
    "language_info": {
      "name": "python"
    },
    "accelerator": "GPU"
  },
  "cells": [
    {
      "cell_type": "markdown",
      "metadata": {
        "id": "view-in-github",
        "colab_type": "text"
      },
      "source": [
        "<a href=\"https://colab.research.google.com/github/stazam/DTSE-project/blob/main/DTSE_steam_data_reviews_model_building.ipynb\" target=\"_parent\"><img src=\"https://colab.research.google.com/assets/colab-badge.svg\" alt=\"Open In Colab\"/></a>"
      ]
    },
    {
      "cell_type": "markdown",
      "source": [
        "# **Model bulding**\n",
        "\n",
        "First we will start by preprocessing text variables in datasets:\n",
        "\n",
        "1. checking english language - we will be modelling only english written variables\n",
        "2. removing some special characters\n",
        "3. \n",
        "\n",
        "We will try to use various models for user_review category prediction. Types of models which we will consider:\n",
        "\n",
        "1. Bidirectional LSTM layer (+ CNN layer) with embedding layer without removing stop words and lematization \n",
        "2. Bidirectional LSTM layer (+ CNN layer) with embedding layer with using a stop wrods and lematization \n",
        "3. BERT - transformer for text classification without pretrained embeddings without removing stop words and lematization. \n",
        "4. BERT - transformer for text classification with pretrained embeddings without removing stop words and lematization.\n",
        "\n",
        "Also we will use stacking method to incorporate information from varibales **year**. \n",
        "\n",
        "At the end we create **predict_pipeline** function for prediction, which will consist of preprocessing and prediction part.\n",
        "\n"
      ],
      "metadata": {
        "id": "3i_Q7TyH9h2J"
      }
    },
    {
      "cell_type": "code",
      "execution_count": 1,
      "metadata": {
        "colab": {
          "base_uri": "https://localhost:8080/"
        },
        "id": "5Ow-E-pVtvsP",
        "outputId": "30c16cd8-5024-4569-b5ea-8328d3ad54c3"
      },
      "outputs": [
        {
          "output_type": "stream",
          "name": "stdout",
          "text": [
            "[nltk_data] Downloading package stopwords to /root/nltk_data...\n",
            "[nltk_data]   Unzipping corpora/stopwords.zip.\n",
            "[nltk_data] Downloading package punkt to /root/nltk_data...\n",
            "[nltk_data]   Unzipping tokenizers/punkt.zip.\n",
            "[nltk_data] Downloading package wordnet to /root/nltk_data...\n",
            "[nltk_data]   Unzipping corpora/wordnet.zip.\n",
            "Collecting langdetect\n",
            "  Downloading langdetect-1.0.9.tar.gz (981 kB)\n",
            "\u001b[K     |████████████████████████████████| 981 kB 5.1 MB/s \n",
            "\u001b[?25hRequirement already satisfied: six in /usr/local/lib/python3.7/dist-packages (from langdetect) (1.15.0)\n",
            "Building wheels for collected packages: langdetect\n",
            "  Building wheel for langdetect (setup.py) ... \u001b[?25l\u001b[?25hdone\n",
            "  Created wheel for langdetect: filename=langdetect-1.0.9-py3-none-any.whl size=993242 sha256=7fc19e11b334b2546ba1a7f1b645a76cc2f99418777b36bafeaf4741108819ab\n",
            "  Stored in directory: /root/.cache/pip/wheels/c5/96/8a/f90c59ed25d75e50a8c10a1b1c2d4c402e4dacfa87f3aff36a\n",
            "Successfully built langdetect\n",
            "Installing collected packages: langdetect\n",
            "Successfully installed langdetect-1.0.9\n",
            "Drive already mounted at /content/drive; to attempt to forcibly remount, call drive.mount(\"/content/drive\", force_remount=True).\n"
          ]
        }
      ],
      "source": [
        "import tensorflow as tf\n",
        "import keras\n",
        "import sys\n",
        "import numpy as np \n",
        "import matplotlib.pyplot as plt\n",
        "import pandas as pd\n",
        "\n",
        "from sklearn.model_selection import train_test_split\n",
        "from sklearn import metrics\n",
        "from sklearn.impute import KNNImputer\n",
        "\n",
        "from tensorflow.keras.preprocessing.text import Tokenizer\n",
        "from tensorflow.keras.preprocessing.sequence import pad_sequences\n",
        "from tensorflow.keras.models import load_model\n",
        "\n",
        "from keras import applications\n",
        "from keras.models import Sequential\n",
        "from keras.layers import Dense, Embedding, Bidirectional\n",
        "from keras.layers import Convolution2D, MaxPooling2D,BatchNormalization,GlobalAveragePooling1D, Flatten, Dropout\n",
        "from keras import optimizers\n",
        "\n",
        "import nltk\n",
        "nltk.download('stopwords')\n",
        "nltk.download('punkt')\n",
        "nltk.download('wordnet')\n",
        "\n",
        "from nltk.corpus import stopwords\n",
        "from nltk.tokenize import word_tokenize\n",
        "from nltk.stem import WordNetLemmatizer\n",
        "\n",
        "!pip install langdetect\n",
        "from langdetect import detect\n",
        "\n",
        "import re \n",
        "\n",
        "from google.colab import drive\n",
        "drive.mount('/content/drive')\n"
      ]
    },
    {
      "cell_type": "code",
      "source": [
        "sys.path.append('/content/drive/MyDrive/DTSE-data/Python-files')\n",
        "from help_functions import *"
      ],
      "metadata": {
        "id": "pIEI8zMvvO19"
      },
      "execution_count": 46,
      "outputs": []
    },
    {
      "cell_type": "code",
      "source": [
        "df_train_merged = pd.read_pickle(\"/content/drive/MyDrive/DTSE-data/data-files/df_train_merged.pkl\")\n",
        "df_test_merged = pd.read_pickle(\"/content/drive/MyDrive/DTSE-data/data-files/df_test_merged.pkl\")"
      ],
      "metadata": {
        "id": "HqwzYg_9vO4N"
      },
      "execution_count": 180,
      "outputs": []
    },
    {
      "cell_type": "markdown",
      "source": [
        "# 1. **Bidirectional LSTM** (+ CNN) without removing stop words and lematization\n",
        "\n",
        "\n"
      ],
      "metadata": {
        "id": "4ebEr8YQ-AIl"
      }
    },
    {
      "cell_type": "markdown",
      "source": [
        "# **Text** preprocessing\n",
        "\n",
        "We will check for language of string variables. Since we have seen during **game_overview** file inspection that both *developer, publisher* and also *title* are english words, we do not need to check them. But we have to inspect **user_review** for english language."
      ],
      "metadata": {
        "id": "7-jlcNLkm2Bk"
      }
    },
    {
      "cell_type": "markdown",
      "source": [
        "MOje poznamky:\n",
        "1. dorobit text preprocessing - spravit jednu funkciu, pozriet ci sa odsatranuje spatne lomitko\n",
        "2. LSTM model bez lmetozacie a stop words\n",
        "3. vyetrenie modelu a pridat aj aky cas trval trening\n",
        "4. knn imputer doplnit premennu year - tuto si dat pozor na to aby mi to vratilo len year premennu\n",
        "5. model + zahrnutie year premennje a pouzitie asi logistickej regresie\n",
        "6. BERT bez leatizacie a stop words\n",
        "7. BERT s lematizaciu s stop words\n",
        "8. vysetri modely\n",
        "9. cela funkcia ktora mi spravi od preprocessingu vsetko az po preridkciu  "
      ],
      "metadata": {
        "id": "qjtYfxda2jsl"
      }
    },
    {
      "cell_type": "code",
      "source": [
        "def check_language(x):\n",
        "    \n",
        "    try:\n",
        "      return detect(x) \n",
        "    except:\n",
        "        return None\n",
        "\n",
        "df_train_merged['language'] = df_train_merged.user_review.apply(lambda x: check_language(x))"
      ],
      "metadata": {
        "id": "bpN9bQdJ9Gc7"
      },
      "execution_count": 181,
      "outputs": []
    },
    {
      "cell_type": "code",
      "source": [
        "print('{} rows from train dataset in different language were removed'.format(sum(df_train_merged.language.values != 'en')))\n",
        "df_train_merged = df_train_merged.loc[df_train_merged.language == 'en',:]"
      ],
      "metadata": {
        "colab": {
          "base_uri": "https://localhost:8080/"
        },
        "id": "6LSHr7Z0x0xF",
        "outputId": "f07f7e91-73fb-44b8-dc8c-4e5f5ffbf093"
      },
      "execution_count": 182,
      "outputs": [
        {
          "output_type": "stream",
          "name": "stdout",
          "text": [
            "211 rows from train dataset in different language were removed\n"
          ]
        }
      ]
    },
    {
      "cell_type": "markdown",
      "source": [
        "We can see we loose 214 rows with user_reviews in differnt languages."
      ],
      "metadata": {
        "id": "gi11pFHZ6tCa"
      }
    },
    {
      "cell_type": "code",
      "source": [
        "#symbols = set([y for x in df_train_merged.user_review.values for y in x if not y.isalnum()])\n",
        "#print(symbols)\n",
        "symbols_up = {'⭐', '`', 'ี', '／', '“', '⟶', '‘', '˘', '\\u2007', '□', '♬', '\\xad', '«', '้', '☢', '[', '¯', '＼', ']', '☠', 'Ⓚ', 'ั', '¶', '€', '⌐', '^', '‹', '⁀', '･', '£', '%', '=', ' ', '*', '¬', '▀', '━', '♪', '⌬', '∞', '&', ';', '”', '・', '▒', '+', '☐', '{', '¨', '⌠', '☹', '\\xa0', '｜', '~', '？', '」', '¿', '¢', '่', '|', '◕', '@', '‡', '⟵', '☻', '·', '≠', '´', '☑', '✎', '۞', '͠', '˚', '✖', '●', '✦', '✰', '⋎', '͜', '✫', '■', '✩', '،', '┐', '►', \"'\", '_', '→', '❤', '§', '︵', '░', '✌', '▽', '•', '！', '▲', '█', '?', '▐', '˜', '͟', '}', '♥', '▄', '☣', '＿', '〃', '\\u3000', '＾', '☼', '★', '®', '┌', '¤', '☺', '\\\\', '▌', 'ู', '「', '¡', '’', '▼', '¦', '°', '┳', '…', '#', '±', '～', '\\u200b', '>', '⚠', '⌒', '‰', '<', '©', '✓', '‵', '™',  'ื', '\\ufeff', 'ⓘ', '。', '‿', '︻', '͡', 'Ⓞ', '↑', '/', '¥', '$', '⊂', '═', '♫', '☆', 'ิ', '†', '̶', '↓', '✔', '┻'}"
      ],
      "metadata": {
        "id": "ic8hpuoXqWkZ"
      },
      "execution_count": 183,
      "outputs": []
    },
    {
      "cell_type": "code",
      "source": [
        "def is_capital(x):\n",
        "  \n",
        "  temp = sum([letter.isupper() for letter in x])\n",
        "\n",
        "  if temp > 2:\n",
        "    return x.lower()\n",
        "  else:\n",
        "    return x    \n",
        "\n",
        "text = \"soThis somethingElse he'n is    I'm He's and PROBABLy he'll be a ⟶   SUPER  it\\\\'s not what\\\\\\\\'s   somethingTogether\"\n",
        "print(\"This is text BEFORE preprocessing: {}\".format(text))\n",
        "\n",
        "text = re.sub(r\"(\\\\+')\",\"'\",text)\n",
        "text = text.replace(\"'s\",\" is\").replace(\"'re\",\" are\").replace(\"'ll\",' will').replace(\"'m\",' am').replace(\"'n\",' not').strip()\n",
        "if text[0] != text[0].upper():\n",
        "   text = text.replace(text[0],text[0].upper(),1)\n",
        "text =  ' '.join([is_capital(x) for x in text.split()])\n",
        "text = ' '.join(re.findall('[A-Z][^A-Z]*', text))\n",
        "for x in symbols_up:\n",
        "    text = text.replace(x,' ')\n",
        "text = re.sub(r\"\\s{2,}\", \" \",text)\n",
        "\n",
        "print(\"This is text AFTER preprocessing: {}\".format(text))"
      ],
      "metadata": {
        "colab": {
          "base_uri": "https://localhost:8080/"
        },
        "id": "1IgFF6KM4bXp",
        "outputId": "04300dcd-1045-4531-dead-0789fc01b177"
      },
      "execution_count": 184,
      "outputs": [
        {
          "output_type": "stream",
          "name": "stdout",
          "text": [
            "This is text BEFORE preprocessing: soThis somethingElse he'n is    I'm He's and PROBABLy he'll be a ⟶   SUPER  it\\'s not what\\\\'s   somethingTogether\n",
            "This is text AFTER preprocessing: So This something Else he not is I am He is and probably he will be a super it is not what is something Together\n"
          ]
        }
      ]
    },
    {
      "cell_type": "code",
      "source": [
        "def preprocess_data(X):\n",
        "\n",
        "  symbols_up = {'♥','♥','⭐', '`', 'ี', '／', '“', '⟶', '‘', '˘', '\\u2007', '□', '♬', '\\xad', '«', '้', '☢', '[', '¯', '＼', ']', '☠', 'Ⓚ', 'ั', '¶', '€', '⌐', '^', '‹', '⁀', '･', '£', '%', '=', ' ', '*', '¬', '▀', '━', '♪', '⌬', '∞', '&', ';', '”', '・', '▒', '+', '☐', '{', '¨', '⌠', '☹', '\\xa0', '｜', '~', '？', '」', '¿', '¢', '่', '|', '◕', '@', '‡', '⟵', '☻', '·', '≠', '´', '☑', '✎', '۞', '͠', '˚', '✖', '●', '✦', '✰', '⋎', '͜', '✫', '■', '✩', '،', '┐', '►', \"'\", '_', '→', '❤', '§', '︵', '░', '✌', '▽', '•', '！', '▲', '█', '?', '▐', '˜', '͟', '}', '♥', '▄', '☣', '＿', '〃', '\\u3000', '＾', '☼', '★', '®', '┌', '¤', '☺', '\\\\', '▌', 'ู', '「', '¡', '’', '▼', '¦', '°', '┳', '…', '#', '±', '～', '\\u200b', '>', '⚠', '⌒', '‰', '<', '©', '✓', '‵', '™',  'ื', '\\ufeff', 'ⓘ', '。', '‿', '︻', '͡', 'Ⓞ', '↑', '/', '¥', '$', '⊂', '═', '♫', '☆', 'ิ', '†', '̶', '↓', '✔', '┻'}\n",
        "\n",
        "  #check for english language\n",
        "  X['language'] = X.user_review.apply(lambda x: check_language(x))\n",
        "  X = X.loc[X.language == 'en',:].drop(columns = ['language'])\n",
        "\n",
        "  user_reviews = []\n",
        "  for review in X.user_review.values:\n",
        "    \n",
        "    #removing vaste character \"\\'\" and \"\\\\'\" and \"\\\\\\'\"...\n",
        "    review = re.sub(r\"(\\\\+')\",\"'\",review)\n",
        "    #high level - stematization\n",
        "    review = review.replace(\"\\'\",\"'\").replace(\"'s\",\" is\").replace(\"'re\",\" are\").replace(\"'ll\",' will').replace(\"'m\",' am').replace(\"'n\",' not').strip()\n",
        "    #adding capital letter to the first letter of sequence\n",
        "    if review[0] != review[0].upper():\n",
        "       review = review.replace(review[0],review[0].upper(),1)\n",
        "    #Replacing capital words with lower letters\n",
        "    review = ' '.join([is_capital(x) for x in review.split()])\n",
        "    #handling the camel case words, i.e. ToHis --> To His\n",
        "    review = ' '.join(re.findall('[A-Z][^A-Z]*', review))\n",
        "    #removing vaste characters\n",
        "    for x in symbols_up:\n",
        "        review = review.replace(x,' ')\n",
        "    review = re.sub(r\"\\s{2,}\", \" \",review)\n",
        "    user_reviews.append(review)\n",
        "\n",
        "  X.user_review = user_reviews  \n",
        "  return X"
      ],
      "metadata": {
        "id": "tuZLcSmBp3OK"
      },
      "execution_count": 185,
      "outputs": []
    },
    {
      "cell_type": "markdown",
      "source": [
        "We will check the variables **tags, developer, publisher, title** and preprocess these data as well. \n"
      ],
      "metadata": {
        "id": "Omud-Dhh6mgF"
      }
    },
    {
      "cell_type": "code",
      "source": [
        "%%time\n",
        "\n",
        "X = df_train_merged\n",
        "X = preprocess_data(X)\n",
        "\n",
        "X.tags = X.tags.apply(lambda x: x.replace(\"\\'\",'')[1:-1])\n",
        "X.tags\n"
      ],
      "metadata": {
        "colab": {
          "base_uri": "https://localhost:8080/"
        },
        "id": "oy4NPne54tUg",
        "outputId": "3cd2afee-955f-41bc-f767-1de561d97df9"
      },
      "execution_count": 186,
      "outputs": [
        {
          "output_type": "stream",
          "name": "stdout",
          "text": [
            "CPU times: user 1min 44s, sys: 1.11 s, total: 1min 45s\n",
            "Wall time: 1min 45s\n"
          ]
        }
      ]
    },
    {
      "cell_type": "markdown",
      "source": [
        "\n",
        "We will start by adding a variable **text** which will be composed of variables *title, developer, publisher, tags, overview, user_review.*\n",
        "\n",
        "I also consider training two separate models, first just on *user_reveiew* and second on the rest of mentioned variables and then stack results rogether, but I belive it wouldn't improve performance of model, because tags, developer, publisher, title are the same rows in the data set, once when the targer variable **user_suggestion** is 1 and once when 0, so the model would be confused. "
      ],
      "metadata": {
        "id": "e4P1tUGJvHjz"
      }
    },
    {
      "cell_type": "code",
      "source": [
        "X['text'] = X.title + X.developer + X.publisher + X.tags + X.overview + X.user_review\n",
        "y = X.user_suggestion.values"
      ],
      "metadata": {
        "id": "UqAueRMU8CR2"
      },
      "execution_count": 187,
      "outputs": []
    },
    {
      "cell_type": "code",
      "source": [
        "X_train, X_test, y_train, y_test = train_test_split(X, y, test_size=0.33, random_state=42)"
      ],
      "metadata": {
        "id": "Pnxt3PiGl1d-"
      },
      "execution_count": 11,
      "outputs": []
    },
    {
      "cell_type": "code",
      "source": [
        "X_train_NN = X_train.text.values\n",
        "X_test_NN = X_test.text.values"
      ],
      "metadata": {
        "id": "gfDTzbJS5fqC"
      },
      "execution_count": 12,
      "outputs": []
    },
    {
      "cell_type": "code",
      "source": [
        "print(\"The longest sequence is {} words long.\".format(max([len(x) for x in X_train_NN])))\n",
        "pd.DataFrame([len(x) for x in X_train_NN]).describe()"
      ],
      "metadata": {
        "id": "Hhhh9h3k54aH",
        "colab": {
          "base_uri": "https://localhost:8080/",
          "height": 318
        },
        "outputId": "313608d3-2ac9-44df-a78d-1cd19d13bc82"
      },
      "execution_count": 13,
      "outputs": [
        {
          "output_type": "stream",
          "name": "stdout",
          "text": [
            "The longest sequence is 12980 words long.\n"
          ]
        },
        {
          "output_type": "execute_result",
          "data": {
            "text/html": [
              "\n",
              "  <div id=\"df-92d51af0-fd3a-4b84-ae61-d688a0ef5a44\">\n",
              "    <div class=\"colab-df-container\">\n",
              "      <div>\n",
              "<style scoped>\n",
              "    .dataframe tbody tr th:only-of-type {\n",
              "        vertical-align: middle;\n",
              "    }\n",
              "\n",
              "    .dataframe tbody tr th {\n",
              "        vertical-align: top;\n",
              "    }\n",
              "\n",
              "    .dataframe thead th {\n",
              "        text-align: right;\n",
              "    }\n",
              "</style>\n",
              "<table border=\"1\" class=\"dataframe\">\n",
              "  <thead>\n",
              "    <tr style=\"text-align: right;\">\n",
              "      <th></th>\n",
              "      <th>0</th>\n",
              "    </tr>\n",
              "  </thead>\n",
              "  <tbody>\n",
              "    <tr>\n",
              "      <th>count</th>\n",
              "      <td>11572.000000</td>\n",
              "    </tr>\n",
              "    <tr>\n",
              "      <th>mean</th>\n",
              "      <td>2793.375907</td>\n",
              "    </tr>\n",
              "    <tr>\n",
              "      <th>std</th>\n",
              "      <td>1443.556164</td>\n",
              "    </tr>\n",
              "    <tr>\n",
              "      <th>min</th>\n",
              "      <td>292.000000</td>\n",
              "    </tr>\n",
              "    <tr>\n",
              "      <th>25%</th>\n",
              "      <td>1848.000000</td>\n",
              "    </tr>\n",
              "    <tr>\n",
              "      <th>50%</th>\n",
              "      <td>2432.000000</td>\n",
              "    </tr>\n",
              "    <tr>\n",
              "      <th>75%</th>\n",
              "      <td>3457.250000</td>\n",
              "    </tr>\n",
              "    <tr>\n",
              "      <th>max</th>\n",
              "      <td>12980.000000</td>\n",
              "    </tr>\n",
              "  </tbody>\n",
              "</table>\n",
              "</div>\n",
              "      <button class=\"colab-df-convert\" onclick=\"convertToInteractive('df-92d51af0-fd3a-4b84-ae61-d688a0ef5a44')\"\n",
              "              title=\"Convert this dataframe to an interactive table.\"\n",
              "              style=\"display:none;\">\n",
              "        \n",
              "  <svg xmlns=\"http://www.w3.org/2000/svg\" height=\"24px\"viewBox=\"0 0 24 24\"\n",
              "       width=\"24px\">\n",
              "    <path d=\"M0 0h24v24H0V0z\" fill=\"none\"/>\n",
              "    <path d=\"M18.56 5.44l.94 2.06.94-2.06 2.06-.94-2.06-.94-.94-2.06-.94 2.06-2.06.94zm-11 1L8.5 8.5l.94-2.06 2.06-.94-2.06-.94L8.5 2.5l-.94 2.06-2.06.94zm10 10l.94 2.06.94-2.06 2.06-.94-2.06-.94-.94-2.06-.94 2.06-2.06.94z\"/><path d=\"M17.41 7.96l-1.37-1.37c-.4-.4-.92-.59-1.43-.59-.52 0-1.04.2-1.43.59L10.3 9.45l-7.72 7.72c-.78.78-.78 2.05 0 2.83L4 21.41c.39.39.9.59 1.41.59.51 0 1.02-.2 1.41-.59l7.78-7.78 2.81-2.81c.8-.78.8-2.07 0-2.86zM5.41 20L4 18.59l7.72-7.72 1.47 1.35L5.41 20z\"/>\n",
              "  </svg>\n",
              "      </button>\n",
              "      \n",
              "  <style>\n",
              "    .colab-df-container {\n",
              "      display:flex;\n",
              "      flex-wrap:wrap;\n",
              "      gap: 12px;\n",
              "    }\n",
              "\n",
              "    .colab-df-convert {\n",
              "      background-color: #E8F0FE;\n",
              "      border: none;\n",
              "      border-radius: 50%;\n",
              "      cursor: pointer;\n",
              "      display: none;\n",
              "      fill: #1967D2;\n",
              "      height: 32px;\n",
              "      padding: 0 0 0 0;\n",
              "      width: 32px;\n",
              "    }\n",
              "\n",
              "    .colab-df-convert:hover {\n",
              "      background-color: #E2EBFA;\n",
              "      box-shadow: 0px 1px 2px rgba(60, 64, 67, 0.3), 0px 1px 3px 1px rgba(60, 64, 67, 0.15);\n",
              "      fill: #174EA6;\n",
              "    }\n",
              "\n",
              "    [theme=dark] .colab-df-convert {\n",
              "      background-color: #3B4455;\n",
              "      fill: #D2E3FC;\n",
              "    }\n",
              "\n",
              "    [theme=dark] .colab-df-convert:hover {\n",
              "      background-color: #434B5C;\n",
              "      box-shadow: 0px 1px 3px 1px rgba(0, 0, 0, 0.15);\n",
              "      filter: drop-shadow(0px 1px 2px rgba(0, 0, 0, 0.3));\n",
              "      fill: #FFFFFF;\n",
              "    }\n",
              "  </style>\n",
              "\n",
              "      <script>\n",
              "        const buttonEl =\n",
              "          document.querySelector('#df-92d51af0-fd3a-4b84-ae61-d688a0ef5a44 button.colab-df-convert');\n",
              "        buttonEl.style.display =\n",
              "          google.colab.kernel.accessAllowed ? 'block' : 'none';\n",
              "\n",
              "        async function convertToInteractive(key) {\n",
              "          const element = document.querySelector('#df-92d51af0-fd3a-4b84-ae61-d688a0ef5a44');\n",
              "          const dataTable =\n",
              "            await google.colab.kernel.invokeFunction('convertToInteractive',\n",
              "                                                     [key], {});\n",
              "          if (!dataTable) return;\n",
              "\n",
              "          const docLinkHtml = 'Like what you see? Visit the ' +\n",
              "            '<a target=\"_blank\" href=https://colab.research.google.com/notebooks/data_table.ipynb>data table notebook</a>'\n",
              "            + ' to learn more about interactive tables.';\n",
              "          element.innerHTML = '';\n",
              "          dataTable['output_type'] = 'display_data';\n",
              "          await google.colab.output.renderOutput(dataTable, element);\n",
              "          const docLink = document.createElement('div');\n",
              "          docLink.innerHTML = docLinkHtml;\n",
              "          element.appendChild(docLink);\n",
              "        }\n",
              "      </script>\n",
              "    </div>\n",
              "  </div>\n",
              "  "
            ],
            "text/plain": [
              "                  0\n",
              "count  11572.000000\n",
              "mean    2793.375907\n",
              "std     1443.556164\n",
              "min      292.000000\n",
              "25%     1848.000000\n",
              "50%     2432.000000\n",
              "75%     3457.250000\n",
              "max    12980.000000"
            ]
          },
          "metadata": {},
          "execution_count": 13
        }
      ]
    },
    {
      "cell_type": "code",
      "source": [
        "max_length = 5000\n",
        "trunc_type='post'\n",
        "padding_type='post'\n",
        "oov_tok = \"<OOV>\"\n",
        "vocab_size = 38092\n",
        "#training_size = 20000\n",
        "\n",
        "tokenizer = Tokenizer(num_words=vocab_size, oov_token=oov_tok)\n",
        "tokenizer.fit_on_texts(X_train_NN)\n",
        "\n",
        "print('Vocabulary is {} words large'.format(len(tokenizer.word_index)))"
      ],
      "metadata": {
        "id": "5O2kMOj657l_",
        "colab": {
          "base_uri": "https://localhost:8080/"
        },
        "outputId": "a53dc2a3-f10a-4dec-ce8d-235c0f8f7828"
      },
      "execution_count": 14,
      "outputs": [
        {
          "output_type": "stream",
          "name": "stdout",
          "text": [
            "Vocabulary is 37894 words large\n"
          ]
        }
      ]
    },
    {
      "cell_type": "markdown",
      "source": [
        "We can see that last couple of words are so called **stop words**, which on one side can make our training harder, on the other side it is recommended let them to be in text if we need to learn semantics of sentence. We will try teach model on both, with and without stop words. "
      ],
      "metadata": {
        "id": "7MviDaw8AI2n"
      }
    },
    {
      "cell_type": "code",
      "source": [
        "sorted(tokenizer.word_counts.items(), key = lambda t: t[1])[37880:]"
      ],
      "metadata": {
        "id": "AMC5vyJm57rZ",
        "colab": {
          "base_uri": "https://localhost:8080/"
        },
        "outputId": "3606d5ee-37c6-4731-e0fc-ab6eb801c514"
      },
      "execution_count": 28,
      "outputs": [
        {
          "output_type": "execute_result",
          "data": {
            "text/plain": [
              "[('play', 44177),\n",
              " ('for', 48639),\n",
              " ('with', 55416),\n",
              " ('is', 65753),\n",
              " ('game', 67002),\n",
              " ('your', 69008),\n",
              " ('in', 76876),\n",
              " ('you', 83309),\n",
              " ('a', 109979),\n",
              " ('of', 110247),\n",
              " ('to', 152160),\n",
              " ('and', 192917),\n",
              " ('the', 208283)]"
            ]
          },
          "metadata": {},
          "execution_count": 28
        }
      ]
    },
    {
      "cell_type": "code",
      "source": [
        "X_train_NN = tokenizer.texts_to_sequences(X_train_NN)\n",
        "X_train_padded_NN = np.array(pad_sequences(X_train_NN, maxlen=max_length, padding=padding_type, truncating=trunc_type))\n",
        "\n",
        "X_test_NN = tokenizer.texts_to_sequences(X_test_NN)\n",
        "X_test_padded_NN = np.array(pad_sequences(X_test_NN, maxlen=max_length, padding=padding_type, truncating=trunc_type))\n"
      ],
      "metadata": {
        "id": "CPGjm-qV57sb"
      },
      "execution_count": 16,
      "outputs": []
    },
    {
      "cell_type": "code",
      "source": [
        "METRICS = [\n",
        "      tf.keras.metrics.BinaryAccuracy(name='accuracy'),\n",
        "      tf.keras.metrics.Precision(name='precision'),\n",
        "      tf.keras.metrics.Recall(name='recall')\n",
        "]\n",
        "\n",
        "model = tf.keras.Sequential()\n",
        "\n",
        "model.add(Embedding(vocab_size,240, input_length = max_length))\n",
        "model.add(Bidirectional(keras.layers.LSTM(64, return_sequences=True)))\n",
        "model.add(Bidirectional(keras.layers.LSTM(32, return_sequences=True)))\n",
        "model.add(Dropout(0.5)),\n",
        "model.add(Flatten()),\n",
        "model.add(Dropout(0.5)),\n",
        "model.add(Dense(1,activation = 'sigmoid'))\n",
        "\n",
        "\n",
        "model.compile(loss = 'binary_crossentropy',optimizer='adam',metrics = METRICS)\n",
        "\n",
        "model.summary()"
      ],
      "metadata": {
        "id": "9jV_3ngl57yJ",
        "colab": {
          "base_uri": "https://localhost:8080/"
        },
        "outputId": "c228633a-5fac-4177-f4ce-7ecc72adc6e1"
      },
      "execution_count": 23,
      "outputs": [
        {
          "output_type": "stream",
          "name": "stdout",
          "text": [
            "Model: \"sequential_3\"\n",
            "_________________________________________________________________\n",
            " Layer (type)                Output Shape              Param #   \n",
            "=================================================================\n",
            " embedding_3 (Embedding)     (None, 5000, 240)         9142080   \n",
            "                                                                 \n",
            " bidirectional_6 (Bidirectio  (None, 5000, 128)        156160    \n",
            " nal)                                                            \n",
            "                                                                 \n",
            " bidirectional_7 (Bidirectio  (None, 5000, 64)         41216     \n",
            " nal)                                                            \n",
            "                                                                 \n",
            " dropout_4 (Dropout)         (None, 5000, 64)          0         \n",
            "                                                                 \n",
            " flatten_3 (Flatten)         (None, 320000)            0         \n",
            "                                                                 \n",
            " dropout_5 (Dropout)         (None, 320000)            0         \n",
            "                                                                 \n",
            " dense_3 (Dense)             (None, 1)                 320001    \n",
            "                                                                 \n",
            "=================================================================\n",
            "Total params: 9,659,457\n",
            "Trainable params: 9,659,457\n",
            "Non-trainable params: 0\n",
            "_________________________________________________________________\n"
          ]
        }
      ]
    },
    {
      "cell_type": "code",
      "source": [
        "%%time \n",
        "history = model.fit(X_train_padded_NN, y_train, epochs=4, validation_data=(X_test_padded_NN, y_test), verbose = 1)"
      ],
      "metadata": {
        "id": "aTaOdjMs57y_",
        "colab": {
          "base_uri": "https://localhost:8080/"
        },
        "outputId": "1432d3d6-aeb8-4252-8a76-17bbb4bf30ef"
      },
      "execution_count": 24,
      "outputs": [
        {
          "output_type": "stream",
          "name": "stdout",
          "text": [
            "Epoch 1/4\n",
            "362/362 [==============================] - 256s 692ms/step - loss: 0.5206 - accuracy: 0.7432 - precision: 0.7562 - recall: 0.8089 - val_loss: 0.5174 - val_accuracy: 0.7714 - val_precision: 0.9286 - val_recall: 0.6487\n",
            "Epoch 2/4\n",
            "362/362 [==============================] - 249s 689ms/step - loss: 0.3049 - accuracy: 0.8736 - precision: 0.8803 - recall: 0.8999 - val_loss: 0.3610 - val_accuracy: 0.8637 - val_precision: 0.8582 - val_recall: 0.9113\n",
            "Epoch 3/4\n",
            "362/362 [==============================] - 248s 686ms/step - loss: 0.1625 - accuracy: 0.9403 - precision: 0.9444 - recall: 0.9509 - val_loss: 0.4438 - val_accuracy: 0.8614 - val_precision: 0.8902 - val_recall: 0.8633\n",
            "Epoch 4/4\n",
            "362/362 [==============================] - 247s 683ms/step - loss: 0.0958 - accuracy: 0.9641 - precision: 0.9658 - recall: 0.9713 - val_loss: 0.6505 - val_accuracy: 0.8553 - val_precision: 0.8393 - val_recall: 0.9227\n",
            "CPU times: user 16min 25s, sys: 27.6 s, total: 16min 53s\n",
            "Wall time: 17min 27s\n"
          ]
        }
      ]
    },
    {
      "cell_type": "code",
      "source": [
        "plot_loss(history)"
      ],
      "metadata": {
        "colab": {
          "base_uri": "https://localhost:8080/",
          "height": 549
        },
        "id": "kHdWn6OIjIC1",
        "outputId": "894a607f-98d0-4e5f-cbe4-a1b742d25205"
      },
      "execution_count": 54,
      "outputs": [
        {
          "output_type": "display_data",
          "data": {
            "image/png": "[encoded data removed]",
            "text/plain": [
              "<Figure size 432x288 with 1 Axes>"
            ]
          },
          "metadata": {
            "needs_background": "light"
          }
        },
        {
          "output_type": "display_data",
          "data": {
            "image/png": "[encoded data removed]",
            "text/plain": [
              "<Figure size 432x288 with 1 Axes>"
            ]
          },
          "metadata": {
            "needs_background": "light"
          }
        }
      ]
    },
    {
      "cell_type": "markdown",
      "source": [
        "I experimented with different types of architecture (also i tried adding CNN layers, which from my experience sometimes ight help), but could not get above 87% accuracy on testing set. The next step is to look at F1, ROC, AUC and save the results for later comparison with different types of models. \n",
        "\n",
        "Possible **solutions** for \"poor\" result is:\n",
        "1. look at badly classified examples and try to find some pattern in them and remove it or maybe hardcode some rules.\n",
        "2. Try to improve hyperparameters of model.\n",
        "3. Use different types of regularizational techniques.\n",
        "4. Try to use lemmatization and removing stop words "
      ],
      "metadata": {
        "id": "dwuFmegsVZpP"
      }
    },
    {
      "cell_type": "code",
      "source": [
        "X_train_pred = model.predict(X_train_padded_NN)\n",
        "X_test_pred = model.predict(X_test_padded_NN)"
      ],
      "metadata": {
        "id": "EIRLI2am57zy"
      },
      "execution_count": 25,
      "outputs": []
    },
    {
      "cell_type": "code",
      "source": [
        "X_train_p = np.array([x[0] for x in X_train_pred])\n",
        "X_test_p = np.array([x[0] for x in X_test_pred])\n"
      ],
      "metadata": {
        "id": "WQlw9qk6XXrl"
      },
      "execution_count": 70,
      "outputs": []
    },
    {
      "cell_type": "code",
      "source": [
        "from sklearn.metrics import confusion_matrix\n",
        "\n",
        "#first is category 0 then category 1. Check:\n",
        "#np.logical_and((y_test ==1),np.array([x[0] for x in (round(X_test_p) == 1).values])).sum()\n",
        "\n",
        "results = confusion_matrix(y_test, X_test_p.round())\n",
        "print(results)\n",
        "\n",
        "import seaborn as sns\n",
        "\n",
        "ax = sns.heatmap(results, annot=True, cmap='Blues')\n",
        "\n",
        "ax.set_title('Confusion Matrix');\n",
        "ax.set_xlabel('\\nPredicted Values')\n",
        "ax.set_ylabel('Actual Values ');\n",
        "\n",
        "ax.xaxis.set_ticklabels(['False - 0','True - 1'])\n",
        "ax.yaxis.set_ticklabels(['False - 0','True - 1'])\n",
        "\n",
        "## Display the visualization of the Confusion Matrix.\n",
        "plt.show()"
      ],
      "metadata": {
        "colab": {
          "base_uri": "https://localhost:8080/",
          "height": 342
        },
        "id": "0ffVblfRWXt6",
        "outputId": "7c3ffe6e-c2af-429b-fb6c-7bf52bb074fe"
      },
      "execution_count": 41,
      "outputs": [
        {
          "output_type": "stream",
          "name": "stdout",
          "text": [
            "[[1879  574]\n",
            " [ 251 2997]]\n"
          ]
        },
        {
          "output_type": "display_data",
          "data": {
            "image/png": "[encoded data removed]",
            "text/plain": [
              "<Figure size 432x288 with 2 Axes>"
            ]
          },
          "metadata": {
            "needs_background": "light"
          }
        }
      ]
    },
    {
      "cell_type": "markdown",
      "source": [
        "From the previous we can see that number of user suggestions with value 1, which were misclassified is 251. And number of suggestions with value 0, which were misclassified is 574. And so:\n",
        "\n",
        "- **Precision** (percentage of classified suggestions from category 1 by our model, where actual from class 1) = **84%** = 2997 / (2997+579)\n",
        "\n",
        "- **Recall** (percentage of actual suggestions from category 1 which were correctly classified by our model) = **92.2%** = 2997 / (2997+251)\n",
        "\n",
        "We will also look at some **diagnostic graphs** and then compare them with rest of models.\n"
      ],
      "metadata": {
        "id": "wv4WVLcnX-_W"
      }
    },
    {
      "cell_type": "code",
      "source": [
        "diag_graphs(model, X_test_padded_NN, y_test)"
      ],
      "metadata": {
        "colab": {
          "base_uri": "https://localhost:8080/",
          "height": 320
        },
        "id": "ApxE3bwUePh4",
        "outputId": "ec8dd232-4034-4edc-8420-056bb8052cd7"
      },
      "execution_count": 49,
      "outputs": [
        {
          "output_type": "display_data",
          "data": {
            "image/png": "[encoded data removed]",
            "text/plain": [
              "<Figure size 432x288 with 4 Axes>"
            ]
          },
          "metadata": {
            "needs_background": "light"
          }
        },
        {
          "output_type": "stream",
          "name": "stdout",
          "text": [
            "AUC score for (TPR, FPR) - graph:  0.9232\n",
            "AUC-PR for (precision - recall) graph: 0.9335\n"
          ]
        }
      ]
    },
    {
      "cell_type": "markdown",
      "source": [
        "#  Stacking \n",
        "\n",
        "is a type of ensemble learning, which combines results of more models together. In our case we will use th results of previous nerural network stack them together with training set (we will add another column with name **pred**) and we will built *second layer* model on this set. The reason is also, that we want to incorporate the iinformation from **year** column into our prediciton (the \"string\" variables were used in NN model).\n",
        "\n",
        "\n",
        "But for the need of other machine learning models we need to input missing values in the variable *year*. We will use kNN imputer technique, which is based on k nearest points *neighbours*. "
      ],
      "metadata": {
        "id": "jmn6m0O1exYS"
      }
    },
    {
      "cell_type": "code",
      "source": [
        "X_trainm = process_dat(X_train)\n",
        "X_trainm = knn_inputer(X_trainm)\n",
        "\n",
        "X_train.year = X_trainm.year.values\n",
        "print(X_train.isnull().sum())\n",
        "\n",
        "X_train['pred'] = X_train_p\n",
        "\n",
        "X_testm = process_dat(X_test)\n",
        "X_testm = knn_inputer(X_testm)\n",
        "\n",
        "X_test.year = X_testm.year.values\n",
        "print(X_test.isnull().sum())\n",
        "\n",
        "X_test['pred'] =  X_test_p"
      ],
      "metadata": {
        "colab": {
          "base_uri": "https://localhost:8080/"
        },
        "id": "pnG9Y5ZZlAGz",
        "outputId": "cf4e6d36-5e9b-4f96-b57a-9db1b38ce331"
      },
      "execution_count": 109,
      "outputs": [
        {
          "output_type": "stream",
          "name": "stdout",
          "text": [
            "review_id          0\n",
            "title              0\n",
            "year               0\n",
            "user_review        0\n",
            "user_suggestion    0\n",
            "developer          0\n",
            "publisher          0\n",
            "tags               0\n",
            "overview           0\n",
            "text               0\n",
            "pred               0\n",
            "dtype: int64\n",
            "review_id          0\n",
            "title              0\n",
            "year               0\n",
            "user_review        0\n",
            "user_suggestion    0\n",
            "developer          0\n",
            "publisher          0\n",
            "tags               0\n",
            "overview           0\n",
            "text               0\n",
            "predictions        0\n",
            "pred               0\n",
            "dtype: int64\n"
          ]
        }
      ]
    },
    {
      "cell_type": "code",
      "source": [
        "X_train_m = X_train.loc[:,['year','pred']]\n",
        "X_test_m = X_test.loc[:,['year','pred']]"
      ],
      "metadata": {
        "id": "6zfUjUMjnYo6"
      },
      "execution_count": 111,
      "outputs": []
    },
    {
      "cell_type": "code",
      "source": [
        "pred, prob = XGB_function(X_train_m, y_train, X_test_m, y_test, X_test_m)\n",
        "\n",
        "results = confusion_matrix(y_test, pred)\n",
        "print(results)\n",
        "print(\"\")\n",
        "\n",
        "p,r,f,_ = precision_recall_fscore_support(y_test, pred)\n",
        "print(\"Precision of DT has value {}, recall has value {} and F1 score is {}.\".format(round(p[1],2),round(r[1],2),round(f[1],2)))"
      ],
      "metadata": {
        "colab": {
          "base_uri": "https://localhost:8080/"
        },
        "id": "AeAP9m0nnYrN",
        "outputId": "fdf9550a-dd56-4fd2-af68-11fce8fc3e67"
      },
      "execution_count": 134,
      "outputs": [
        {
          "output_type": "stream",
          "name": "stdout",
          "text": [
            "Accuracy of Extreme boosted classifier on training set: 0.99\n",
            "Accuracy of Extreme boosted classifier on test set: 0.86\n",
            "[[2004  449]\n",
            " [ 358 2890]]\n",
            "\n",
            "Precision of DT has value 0.87, recall has value 0.89 and F1 score is 0.88.\n"
          ]
        }
      ]
    },
    {
      "cell_type": "code",
      "source": [
        "pred, prob = LogisticRegression_function(X_train_m, y_train, X_test_m, y_test, X_test_m)\n",
        "\n",
        "results = confusion_matrix(y_test, pred)\n",
        "print(results)\n",
        "print(\"\")\n",
        "\n",
        "p,r,f,_ = precision_recall_fscore_support(y_test, pred)\n",
        "print(\"Precision of DT has value {}, recall has value {} and F1 score is {}.\".format(round(p[1],2),round(r[1],2),round(f[1],2)))"
      ],
      "metadata": {
        "colab": {
          "base_uri": "https://localhost:8080/"
        },
        "id": "qRVu5jc3nYw1",
        "outputId": "d767e5fd-8b8f-463b-d3f2-b92d49e68530"
      },
      "execution_count": 133,
      "outputs": [
        {
          "output_type": "stream",
          "name": "stdout",
          "text": [
            "Accuracy of Logistic regression classifier on training set: 0.98\n",
            "Accuracy of Logistic regression on test set: 0.86\n",
            "[[1942  511]\n",
            " [ 294 2954]]\n",
            "\n",
            "Precision of DT has value 0.85, recall has value 0.91 and F1 score is 0.88.\n"
          ]
        }
      ]
    },
    {
      "cell_type": "code",
      "source": [
        "pred, prob = DecisionTree_function(X_train_m, y_train, X_test_m, y_test, X_test_m)\n",
        "\n",
        "results = confusion_matrix(y_test, pred)\n",
        "print(results)\n",
        "print(\"\")\n",
        "\n",
        "p,r,f,_ = precision_recall_fscore_support(y_test, pred)\n",
        "print(\"Precision of DT has value {}, recall has value {} and F1 score is {}.\".format(round(p[1],2),round(r[1],2),round(f[1],2)))"
      ],
      "metadata": {
        "colab": {
          "base_uri": "https://localhost:8080/"
        },
        "id": "4h4FD_lMsenL",
        "outputId": "2d801e46-1b81-4c6b-f626-5d79e55fb5f0"
      },
      "execution_count": 132,
      "outputs": [
        {
          "output_type": "stream",
          "name": "stdout",
          "text": [
            "Accuracy of DecisionTree classifier on training set: 1.00\n",
            "Accuracy of DecisionTree on test set: 0.85\n",
            "[[1974  479]\n",
            " [ 384 2864]]\n",
            "\n",
            "Precision of DT has value 0.86, recall has value 0.88 and F1 score is 0.87.\n"
          ]
        }
      ]
    },
    {
      "cell_type": "markdown",
      "source": [
        "From the previous results we see, that recall neither precision were improved, so far we would choose simpler model and so the basic LSTM neural network."
      ],
      "metadata": {
        "id": "g8TN4s_QwkHn"
      }
    },
    {
      "cell_type": "markdown",
      "source": [
        "# 2. **Bidirectional LSTM** (+ CNN) with removing stop words and lematization\n"
      ],
      "metadata": {
        "id": "Op91xPM7c45j"
      }
    },
    {
      "cell_type": "markdown",
      "source": [
        "The next procecss will be identical with the previous one, although the change will be that, we try to improve prediction power with **lemmatization** and **removing stop words**. This could lead into possible results:\n",
        "\n",
        "- we improve prediction power, because we loose noise from sentence\n",
        "- or we will sort of loose some *sense* from sentences."
      ],
      "metadata": {
        "id": "QTq70G8tw2-h"
      }
    },
    {
      "cell_type": "code",
      "source": [
        "def lemmatization_stop_words(x):\n",
        "  \n",
        "  lemmatizer = WordNetLemmatizer()\n",
        "\n",
        "  stop_words = set(stopwords.words('english'))\n",
        "  word_tokens = word_tokenize(x)\n",
        "\n",
        "  filtered_sentence = [lemmatizer.lemmatize(w) for w in word_tokens if not w.lower() in stop_words]\n",
        "  \n",
        "  return \" \".join(filtered_sentence)"
      ],
      "metadata": {
        "id": "_qmxuOMRJDpJ"
      },
      "execution_count": 139,
      "outputs": []
    },
    {
      "cell_type": "code",
      "source": [
        "X_ls = X\n",
        "X_ls.text = X_ls.text.apply(lambda x: lemmatization_stop_words(x))"
      ],
      "metadata": {
        "id": "Yd4FSTDlLQ_x"
      },
      "execution_count": 142,
      "outputs": []
    },
    {
      "cell_type": "code",
      "source": [
        "X_train, X_test, y_train, y_test = train_test_split(X_ls, y, test_size=0.33, random_state=42)"
      ],
      "metadata": {
        "id": "oDPYKWab9bX7"
      },
      "execution_count": 155,
      "outputs": []
    },
    {
      "cell_type": "code",
      "source": [
        "X_train_NN = X_train.text.values\n",
        "X_test_NN = X_test.text.values"
      ],
      "metadata": {
        "id": "SERRxA419bbT"
      },
      "execution_count": 156,
      "outputs": []
    },
    {
      "cell_type": "code",
      "source": [
        "print(\"The longest sequence is {} words long.\".format(max([len(x) for x in X_train_NN])))\n",
        "pd.DataFrame([len(x) for x in X_train_NN]).describe()"
      ],
      "metadata": {
        "id": "RqjELYpU-NWM",
        "colab": {
          "base_uri": "https://localhost:8080/",
          "height": 318
        },
        "outputId": "2f10f7df-8803-4240-e987-f96db314a171"
      },
      "execution_count": 157,
      "outputs": [
        {
          "output_type": "stream",
          "name": "stdout",
          "text": [
            "The longest sequence is 11120 words long.\n"
          ]
        },
        {
          "output_type": "execute_result",
          "data": {
            "text/html": [
              "\n",
              "  <div id=\"df-69e150cb-a9d4-4fb7-a53e-f5b493c24b74\">\n",
              "    <div class=\"colab-df-container\">\n",
              "      <div>\n",
              "<style scoped>\n",
              "    .dataframe tbody tr th:only-of-type {\n",
              "        vertical-align: middle;\n",
              "    }\n",
              "\n",
              "    .dataframe tbody tr th {\n",
              "        vertical-align: top;\n",
              "    }\n",
              "\n",
              "    .dataframe thead th {\n",
              "        text-align: right;\n",
              "    }\n",
              "</style>\n",
              "<table border=\"1\" class=\"dataframe\">\n",
              "  <thead>\n",
              "    <tr style=\"text-align: right;\">\n",
              "      <th></th>\n",
              "      <th>0</th>\n",
              "    </tr>\n",
              "  </thead>\n",
              "  <tbody>\n",
              "    <tr>\n",
              "      <th>count</th>\n",
              "      <td>11572.000000</td>\n",
              "    </tr>\n",
              "    <tr>\n",
              "      <th>mean</th>\n",
              "      <td>2147.989976</td>\n",
              "    </tr>\n",
              "    <tr>\n",
              "      <th>std</th>\n",
              "      <td>1097.621905</td>\n",
              "    </tr>\n",
              "    <tr>\n",
              "      <th>min</th>\n",
              "      <td>303.000000</td>\n",
              "    </tr>\n",
              "    <tr>\n",
              "      <th>25%</th>\n",
              "      <td>1433.750000</td>\n",
              "    </tr>\n",
              "    <tr>\n",
              "      <th>50%</th>\n",
              "      <td>1887.000000</td>\n",
              "    </tr>\n",
              "    <tr>\n",
              "      <th>75%</th>\n",
              "      <td>2591.500000</td>\n",
              "    </tr>\n",
              "    <tr>\n",
              "      <th>max</th>\n",
              "      <td>11120.000000</td>\n",
              "    </tr>\n",
              "  </tbody>\n",
              "</table>\n",
              "</div>\n",
              "      <button class=\"colab-df-convert\" onclick=\"convertToInteractive('df-69e150cb-a9d4-4fb7-a53e-f5b493c24b74')\"\n",
              "              title=\"Convert this dataframe to an interactive table.\"\n",
              "              style=\"display:none;\">\n",
              "        \n",
              "  <svg xmlns=\"http://www.w3.org/2000/svg\" height=\"24px\"viewBox=\"0 0 24 24\"\n",
              "       width=\"24px\">\n",
              "    <path d=\"M0 0h24v24H0V0z\" fill=\"none\"/>\n",
              "    <path d=\"M18.56 5.44l.94 2.06.94-2.06 2.06-.94-2.06-.94-.94-2.06-.94 2.06-2.06.94zm-11 1L8.5 8.5l.94-2.06 2.06-.94-2.06-.94L8.5 2.5l-.94 2.06-2.06.94zm10 10l.94 2.06.94-2.06 2.06-.94-2.06-.94-.94-2.06-.94 2.06-2.06.94z\"/><path d=\"M17.41 7.96l-1.37-1.37c-.4-.4-.92-.59-1.43-.59-.52 0-1.04.2-1.43.59L10.3 9.45l-7.72 7.72c-.78.78-.78 2.05 0 2.83L4 21.41c.39.39.9.59 1.41.59.51 0 1.02-.2 1.41-.59l7.78-7.78 2.81-2.81c.8-.78.8-2.07 0-2.86zM5.41 20L4 18.59l7.72-7.72 1.47 1.35L5.41 20z\"/>\n",
              "  </svg>\n",
              "      </button>\n",
              "      \n",
              "  <style>\n",
              "    .colab-df-container {\n",
              "      display:flex;\n",
              "      flex-wrap:wrap;\n",
              "      gap: 12px;\n",
              "    }\n",
              "\n",
              "    .colab-df-convert {\n",
              "      background-color: #E8F0FE;\n",
              "      border: none;\n",
              "      border-radius: 50%;\n",
              "      cursor: pointer;\n",
              "      display: none;\n",
              "      fill: #1967D2;\n",
              "      height: 32px;\n",
              "      padding: 0 0 0 0;\n",
              "      width: 32px;\n",
              "    }\n",
              "\n",
              "    .colab-df-convert:hover {\n",
              "      background-color: #E2EBFA;\n",
              "      box-shadow: 0px 1px 2px rgba(60, 64, 67, 0.3), 0px 1px 3px 1px rgba(60, 64, 67, 0.15);\n",
              "      fill: #174EA6;\n",
              "    }\n",
              "\n",
              "    [theme=dark] .colab-df-convert {\n",
              "      background-color: #3B4455;\n",
              "      fill: #D2E3FC;\n",
              "    }\n",
              "\n",
              "    [theme=dark] .colab-df-convert:hover {\n",
              "      background-color: #434B5C;\n",
              "      box-shadow: 0px 1px 3px 1px rgba(0, 0, 0, 0.15);\n",
              "      filter: drop-shadow(0px 1px 2px rgba(0, 0, 0, 0.3));\n",
              "      fill: #FFFFFF;\n",
              "    }\n",
              "  </style>\n",
              "\n",
              "      <script>\n",
              "        const buttonEl =\n",
              "          document.querySelector('#df-69e150cb-a9d4-4fb7-a53e-f5b493c24b74 button.colab-df-convert');\n",
              "        buttonEl.style.display =\n",
              "          google.colab.kernel.accessAllowed ? 'block' : 'none';\n",
              "\n",
              "        async function convertToInteractive(key) {\n",
              "          const element = document.querySelector('#df-69e150cb-a9d4-4fb7-a53e-f5b493c24b74');\n",
              "          const dataTable =\n",
              "            await google.colab.kernel.invokeFunction('convertToInteractive',\n",
              "                                                     [key], {});\n",
              "          if (!dataTable) return;\n",
              "\n",
              "          const docLinkHtml = 'Like what you see? Visit the ' +\n",
              "            '<a target=\"_blank\" href=https://colab.research.google.com/notebooks/data_table.ipynb>data table notebook</a>'\n",
              "            + ' to learn more about interactive tables.';\n",
              "          element.innerHTML = '';\n",
              "          dataTable['output_type'] = 'display_data';\n",
              "          await google.colab.output.renderOutput(dataTable, element);\n",
              "          const docLink = document.createElement('div');\n",
              "          docLink.innerHTML = docLinkHtml;\n",
              "          element.appendChild(docLink);\n",
              "        }\n",
              "      </script>\n",
              "    </div>\n",
              "  </div>\n",
              "  "
            ],
            "text/plain": [
              "                  0\n",
              "count  11572.000000\n",
              "mean    2147.989976\n",
              "std     1097.621905\n",
              "min      303.000000\n",
              "25%     1433.750000\n",
              "50%     1887.000000\n",
              "75%     2591.500000\n",
              "max    11120.000000"
            ]
          },
          "metadata": {},
          "execution_count": 157
        }
      ]
    },
    {
      "cell_type": "code",
      "source": [
        "max_length = 5000\n",
        "trunc_type='post'\n",
        "padding_type='post'\n",
        "oov_tok = \"<OOV>\"\n",
        "vocab_size = 35863\n",
        "#training_size = 20000\n",
        "\n",
        "tokenizer_1 = Tokenizer(num_words=vocab_size, oov_token=oov_tok)\n",
        "tokenizer_1.fit_on_texts(X_train_NN)\n",
        "\n",
        "print('Vocabulary is {} words large'.format(len(tokenizer_1.word_index)))"
      ],
      "metadata": {
        "id": "ItFIFbEV-NYY",
        "colab": {
          "base_uri": "https://localhost:8080/"
        },
        "outputId": "dff1f047-6045-403e-8611-20da19f247f3"
      },
      "execution_count": 158,
      "outputs": [
        {
          "output_type": "stream",
          "name": "stdout",
          "text": [
            "Vocabulary is 35863 words large\n"
          ]
        }
      ]
    },
    {
      "cell_type": "code",
      "source": [
        "sorted(tokenizer_1.word_counts.items(), key = lambda t: t[1])[35853:]"
      ],
      "metadata": {
        "id": "MijxKvnX-Naf",
        "colab": {
          "base_uri": "https://localhost:8080/"
        },
        "outputId": "8b03fbc9-fa1f-47d3-95be-9001ad28a466"
      },
      "execution_count": 159,
      "outputs": [
        {
          "output_type": "execute_result",
          "data": {
            "text/plain": [
              "[('’', 17128),\n",
              " ('new', 19410),\n",
              " ('battle', 23946),\n",
              " ('multiplayer', 24905),\n",
              " ('player', 25686),\n",
              " ('free', 32029),\n",
              " ('world', 32881),\n",
              " ('play', 44432),\n",
              " ('game', 72558)]"
            ]
          },
          "metadata": {},
          "execution_count": 159
        }
      ]
    },
    {
      "cell_type": "markdown",
      "source": [
        "We can now clearly see, that we removed stop words!!!"
      ],
      "metadata": {
        "id": "L48rDTBQ33Ja"
      }
    },
    {
      "cell_type": "code",
      "source": [
        "X_train_NN = tokenizer_1.texts_to_sequences(X_train_NN)\n",
        "X_train_padded_NN = np.array(pad_sequences(X_train_NN, maxlen=max_length, padding=padding_type, truncating=trunc_type))\n",
        "\n",
        "X_test_NN = tokenizer_1.texts_to_sequences(X_test_NN)\n",
        "X_test_padded_NN = np.array(pad_sequences(X_test_NN, maxlen=max_length, padding=padding_type, truncating=trunc_type))"
      ],
      "metadata": {
        "id": "3tejFnzP-Nc4"
      },
      "execution_count": 160,
      "outputs": []
    },
    {
      "cell_type": "code",
      "source": [
        "METRICS = [\n",
        "      tf.keras.metrics.BinaryAccuracy(name='accuracy'),\n",
        "      tf.keras.metrics.Precision(name='precision'),\n",
        "      tf.keras.metrics.Recall(name='recall')\n",
        "]\n",
        "\n",
        "model_1 = tf.keras.Sequential()\n",
        "\n",
        "model_1.add(Embedding(vocab_size,240, input_length = max_length))\n",
        "model_1.add(Bidirectional(keras.layers.LSTM(64, return_sequences=True)))\n",
        "model_1.add(Bidirectional(keras.layers.LSTM(32, return_sequences=True)))\n",
        "model_1.add(Dropout(0.5)),\n",
        "model_1.add(Flatten()),\n",
        "model_1.add(Dropout(0.5)),\n",
        "model_1.add(Dense(1,activation = 'sigmoid'))\n",
        "\n",
        "\n",
        "model_1.compile(loss = 'binary_crossentropy',optimizer='adam',metrics = METRICS)\n",
        "\n",
        "model_1.summary()"
      ],
      "metadata": {
        "id": "CvO0oEH0-NfK",
        "colab": {
          "base_uri": "https://localhost:8080/"
        },
        "outputId": "d9cfa413-90e2-4ea5-81fc-552bf0f04392"
      },
      "execution_count": 161,
      "outputs": [
        {
          "output_type": "stream",
          "name": "stdout",
          "text": [
            "Model: \"sequential_5\"\n",
            "_________________________________________________________________\n",
            " Layer (type)                Output Shape              Param #   \n",
            "=================================================================\n",
            " embedding_5 (Embedding)     (None, 5000, 240)         8607120   \n",
            "                                                                 \n",
            " bidirectional_10 (Bidirecti  (None, 5000, 128)        156160    \n",
            " onal)                                                           \n",
            "                                                                 \n",
            " bidirectional_11 (Bidirecti  (None, 5000, 64)         41216     \n",
            " onal)                                                           \n",
            "                                                                 \n",
            " dropout_8 (Dropout)         (None, 5000, 64)          0         \n",
            "                                                                 \n",
            " flatten_5 (Flatten)         (None, 320000)            0         \n",
            "                                                                 \n",
            " dropout_9 (Dropout)         (None, 320000)            0         \n",
            "                                                                 \n",
            " dense_5 (Dense)             (None, 1)                 320001    \n",
            "                                                                 \n",
            "=================================================================\n",
            "Total params: 9,124,497\n",
            "Trainable params: 9,124,497\n",
            "Non-trainable params: 0\n",
            "_________________________________________________________________\n"
          ]
        }
      ]
    },
    {
      "cell_type": "code",
      "source": [
        "%%time\n",
        "\n",
        "history_1 = model_1.fit(X_train_padded_NN, y_train, epochs=4, validation_data=(X_test_padded_NN, y_test), verbose = 1)"
      ],
      "metadata": {
        "id": "MnBakSEX-Nhv",
        "colab": {
          "base_uri": "https://localhost:8080/"
        },
        "outputId": "25b87331-c893-4eb9-e7f9-d14eaf8a23c1"
      },
      "execution_count": 162,
      "outputs": [
        {
          "output_type": "stream",
          "name": "stdout",
          "text": [
            "Epoch 1/4\n",
            "362/362 [==============================] - 256s 692ms/step - loss: 0.5378 - accuracy: 0.7397 - precision: 0.7493 - recall: 0.8145 - val_loss: 0.4542 - val_accuracy: 0.7958 - val_precision: 0.7650 - val_recall: 0.9261\n",
            "Epoch 2/4\n",
            "362/362 [==============================] - 250s 692ms/step - loss: 0.3102 - accuracy: 0.8734 - precision: 0.8769 - recall: 0.9042 - val_loss: 0.3955 - val_accuracy: 0.8449 - val_precision: 0.8835 - val_recall: 0.8384\n",
            "Epoch 3/4\n",
            "362/362 [==============================] - 252s 696ms/step - loss: 0.1579 - accuracy: 0.9425 - precision: 0.9417 - recall: 0.9582 - val_loss: 0.5485 - val_accuracy: 0.8497 - val_precision: 0.8728 - val_recall: 0.8618\n",
            "Epoch 4/4\n",
            "362/362 [==============================] - 252s 696ms/step - loss: 0.0908 - accuracy: 0.9666 - precision: 0.9688 - recall: 0.9725 - val_loss: 0.8638 - val_accuracy: 0.8323 - val_precision: 0.8795 - val_recall: 0.8177\n",
            "CPU times: user 16min 37s, sys: 25.6 s, total: 17min 3s\n",
            "Wall time: 17min 27s\n"
          ]
        }
      ]
    },
    {
      "cell_type": "code",
      "source": [
        "plot_loss(history_1)"
      ],
      "metadata": {
        "colab": {
          "base_uri": "https://localhost:8080/",
          "height": 549
        },
        "id": "YeBKW1I0z_Gp",
        "outputId": "ffcffc02-24f0-4b5c-c400-5019674f89d8"
      },
      "execution_count": 163,
      "outputs": [
        {
          "output_type": "display_data",
          "data": {
            "image/png": "[encoded data removed]",
            "text/plain": [
              "<Figure size 432x288 with 1 Axes>"
            ]
          },
          "metadata": {
            "needs_background": "light"
          }
        },
        {
          "output_type": "display_data",
          "data": {
            "image/png": "[encoded data removed]",
            "text/plain": [
              "<Figure size 432x288 with 1 Axes>"
            ]
          },
          "metadata": {
            "needs_background": "light"
          }
        }
      ]
    },
    {
      "cell_type": "code",
      "source": [
        "X_train_pred = model_1.predict(X_train_padded_NN)\n",
        "X_test_pred = model_1.predict(X_test_padded_NN)"
      ],
      "metadata": {
        "id": "D7Cmkpno-Njx"
      },
      "execution_count": 164,
      "outputs": []
    },
    {
      "cell_type": "code",
      "source": [
        "X_train_p = np.array([x[0] for x in X_train_pred])\n",
        "X_test_p = np.array([x[0] for x in X_test_pred])"
      ],
      "metadata": {
        "id": "LCkCcskU0ACE"
      },
      "execution_count": 165,
      "outputs": []
    },
    {
      "cell_type": "code",
      "source": [
        "from sklearn.metrics import confusion_matrix\n",
        "\n",
        "#first is category 0 then catgory 1. Check:\n",
        "#np.logical_and((y_test ==1),np.array([x[0] for x in (round(X_test_p) == 1).values])).sum()\n",
        "\n",
        "results = confusion_matrix(y_test, X_test_p.round())\n",
        "print(results)\n",
        "\n",
        "import seaborn as sns\n",
        "\n",
        "ax = sns.heatmap(results, annot=True, cmap='Blues')\n",
        "\n",
        "ax.set_title('Confusion Matrix');\n",
        "ax.set_xlabel('\\nPredicted Values')\n",
        "ax.set_ylabel('Actual Values ');\n",
        "\n",
        "## Ticket labels - List must be in alphabetical order\n",
        "ax.xaxis.set_ticklabels(['False','True'])\n",
        "ax.yaxis.set_ticklabels(['False','True'])\n",
        "\n",
        "## Display the visualization of the Confusion Matrix.\n",
        "plt.show()"
      ],
      "metadata": {
        "id": "q8cjzMdp-NnK",
        "colab": {
          "base_uri": "https://localhost:8080/",
          "height": 342
        },
        "outputId": "a6453090-2682-4ec2-b20a-df05fceb41ac"
      },
      "execution_count": 167,
      "outputs": [
        {
          "output_type": "stream",
          "name": "stdout",
          "text": [
            "[[2089  364]\n",
            " [ 592 2656]]\n"
          ]
        },
        {
          "output_type": "display_data",
          "data": {
            "image/png": "[encoded data removed]",
            "text/plain": [
              "<Figure size 432x288 with 2 Axes>"
            ]
          },
          "metadata": {
            "needs_background": "light"
          }
        }
      ]
    },
    {
      "cell_type": "code",
      "source": [
        "diag_graphs(model_1, X_test_padded_NN, y_test)"
      ],
      "metadata": {
        "id": "5KSE_7NY-iI8",
        "colab": {
          "base_uri": "https://localhost:8080/",
          "height": 320
        },
        "outputId": "dd3d4c2b-6a38-4635-e5a8-33351ff464eb"
      },
      "execution_count": 169,
      "outputs": [
        {
          "output_type": "display_data",
          "data": {
            "image/png": "[encoded data removed]",
            "text/plain": [
              "<Figure size 432x288 with 4 Axes>"
            ]
          },
          "metadata": {
            "needs_background": "light"
          }
        },
        {
          "output_type": "stream",
          "name": "stdout",
          "text": [
            "AUC score for (TPR, FPR) - graph:  0.9046\n",
            "AUC-PR for (precision - recall) graph: 0.9166\n"
          ]
        }
      ]
    },
    {
      "cell_type": "markdown",
      "source": [
        "So we can see, that prediciton power slightly decresed. Probably due to imformation loss. Results of three metrics which we used:\n",
        "\n",
        "- **Accuracy** is **83.2%**, which is smaller value compared to model with stop words (**85.5%**) \n",
        "- **Precision** is **88%**, which is a little bit better than previous model (**84%**)\n",
        "- Value of **recall** is **82%** < **92.2%**\n",
        "\n",
        "All in all, the best model is still the first one without stacking method."
      ],
      "metadata": {
        "id": "KDk7-rjv3k9M"
      }
    },
    {
      "cell_type": "markdown",
      "source": [
        "# 3. **BERT** - transformer for text classification without removing stop words and lematization. "
      ],
      "metadata": {
        "id": "QmwVVwfq-EyO"
      }
    },
    {
      "cell_type": "code",
      "source": [
        "!pip install tensorflow_text\n",
        "\n",
        "import tensorflow as tf\n",
        "import tensorflow_text as text\n",
        "import tensorflow_hub as hub"
      ],
      "metadata": {
        "colab": {
          "base_uri": "https://localhost:8080/"
        },
        "id": "WADVVlrQ-vaL",
        "outputId": "3c243b81-04d8-4011-f907-1d79ff271118"
      },
      "execution_count": 197,
      "outputs": [
        {
          "output_type": "stream",
          "name": "stdout",
          "text": [
            "Collecting tensorflow_text\n",
            "  Downloading tensorflow_text-2.7.3-cp37-cp37m-manylinux2010_x86_64.whl (4.9 MB)\n",
            "\u001b[K     |████████████████████████████████| 4.9 MB 5.1 MB/s \n",
            "\u001b[?25hRequirement already satisfied: tensorflow-hub>=0.8.0 in /usr/local/lib/python3.7/dist-packages (from tensorflow_text) (0.12.0)\n",
            "Requirement already satisfied: tensorflow<2.8,>=2.7.0 in /usr/local/lib/python3.7/dist-packages (from tensorflow_text) (2.7.0)\n",
            "Requirement already satisfied: grpcio<2.0,>=1.24.3 in /usr/local/lib/python3.7/dist-packages (from tensorflow<2.8,>=2.7.0->tensorflow_text) (1.43.0)\n",
            "Requirement already satisfied: gast<0.5.0,>=0.2.1 in /usr/local/lib/python3.7/dist-packages (from tensorflow<2.8,>=2.7.0->tensorflow_text) (0.4.0)\n",
            "Requirement already satisfied: tensorboard~=2.6 in /usr/local/lib/python3.7/dist-packages (from tensorflow<2.8,>=2.7.0->tensorflow_text) (2.7.0)\n",
            "Requirement already satisfied: h5py>=2.9.0 in /usr/local/lib/python3.7/dist-packages (from tensorflow<2.8,>=2.7.0->tensorflow_text) (3.1.0)\n",
            "Requirement already satisfied: typing-extensions>=3.6.6 in /usr/local/lib/python3.7/dist-packages (from tensorflow<2.8,>=2.7.0->tensorflow_text) (3.10.0.2)\n",
            "Requirement already satisfied: wheel<1.0,>=0.32.0 in /usr/local/lib/python3.7/dist-packages (from tensorflow<2.8,>=2.7.0->tensorflow_text) (0.37.1)\n",
            "Requirement already satisfied: termcolor>=1.1.0 in /usr/local/lib/python3.7/dist-packages (from tensorflow<2.8,>=2.7.0->tensorflow_text) (1.1.0)\n",
            "Requirement already satisfied: astunparse>=1.6.0 in /usr/local/lib/python3.7/dist-packages (from tensorflow<2.8,>=2.7.0->tensorflow_text) (1.6.3)\n",
            "Requirement already satisfied: protobuf>=3.9.2 in /usr/local/lib/python3.7/dist-packages (from tensorflow<2.8,>=2.7.0->tensorflow_text) (3.17.3)\n",
            "Requirement already satisfied: tensorflow-estimator<2.8,~=2.7.0rc0 in /usr/local/lib/python3.7/dist-packages (from tensorflow<2.8,>=2.7.0->tensorflow_text) (2.7.0)\n",
            "Requirement already satisfied: absl-py>=0.4.0 in /usr/local/lib/python3.7/dist-packages (from tensorflow<2.8,>=2.7.0->tensorflow_text) (0.12.0)\n",
            "Requirement already satisfied: google-pasta>=0.1.1 in /usr/local/lib/python3.7/dist-packages (from tensorflow<2.8,>=2.7.0->tensorflow_text) (0.2.0)\n",
            "Requirement already satisfied: keras<2.8,>=2.7.0rc0 in /usr/local/lib/python3.7/dist-packages (from tensorflow<2.8,>=2.7.0->tensorflow_text) (2.7.0)\n",
            "Requirement already satisfied: tensorflow-io-gcs-filesystem>=0.21.0 in /usr/local/lib/python3.7/dist-packages (from tensorflow<2.8,>=2.7.0->tensorflow_text) (0.23.1)\n",
            "Requirement already satisfied: numpy>=1.14.5 in /usr/local/lib/python3.7/dist-packages (from tensorflow<2.8,>=2.7.0->tensorflow_text) (1.19.5)\n",
            "Requirement already satisfied: flatbuffers<3.0,>=1.12 in /usr/local/lib/python3.7/dist-packages (from tensorflow<2.8,>=2.7.0->tensorflow_text) (2.0)\n",
            "Requirement already satisfied: libclang>=9.0.1 in /usr/local/lib/python3.7/dist-packages (from tensorflow<2.8,>=2.7.0->tensorflow_text) (12.0.0)\n",
            "Requirement already satisfied: six>=1.12.0 in /usr/local/lib/python3.7/dist-packages (from tensorflow<2.8,>=2.7.0->tensorflow_text) (1.15.0)\n",
            "Requirement already satisfied: opt-einsum>=2.3.2 in /usr/local/lib/python3.7/dist-packages (from tensorflow<2.8,>=2.7.0->tensorflow_text) (3.3.0)\n",
            "Requirement already satisfied: wrapt>=1.11.0 in /usr/local/lib/python3.7/dist-packages (from tensorflow<2.8,>=2.7.0->tensorflow_text) (1.13.3)\n",
            "Requirement already satisfied: keras-preprocessing>=1.1.1 in /usr/local/lib/python3.7/dist-packages (from tensorflow<2.8,>=2.7.0->tensorflow_text) (1.1.2)\n",
            "Requirement already satisfied: cached-property in /usr/local/lib/python3.7/dist-packages (from h5py>=2.9.0->tensorflow<2.8,>=2.7.0->tensorflow_text) (1.5.2)\n",
            "Requirement already satisfied: google-auth-oauthlib<0.5,>=0.4.1 in /usr/local/lib/python3.7/dist-packages (from tensorboard~=2.6->tensorflow<2.8,>=2.7.0->tensorflow_text) (0.4.6)\n",
            "Requirement already satisfied: setuptools>=41.0.0 in /usr/local/lib/python3.7/dist-packages (from tensorboard~=2.6->tensorflow<2.8,>=2.7.0->tensorflow_text) (57.4.0)\n",
            "Requirement already satisfied: google-auth<3,>=1.6.3 in /usr/local/lib/python3.7/dist-packages (from tensorboard~=2.6->tensorflow<2.8,>=2.7.0->tensorflow_text) (1.35.0)\n",
            "Requirement already satisfied: werkzeug>=0.11.15 in /usr/local/lib/python3.7/dist-packages (from tensorboard~=2.6->tensorflow<2.8,>=2.7.0->tensorflow_text) (1.0.1)\n",
            "Requirement already satisfied: markdown>=2.6.8 in /usr/local/lib/python3.7/dist-packages (from tensorboard~=2.6->tensorflow<2.8,>=2.7.0->tensorflow_text) (3.3.6)\n",
            "Requirement already satisfied: tensorboard-plugin-wit>=1.6.0 in /usr/local/lib/python3.7/dist-packages (from tensorboard~=2.6->tensorflow<2.8,>=2.7.0->tensorflow_text) (1.8.1)\n",
            "Requirement already satisfied: tensorboard-data-server<0.7.0,>=0.6.0 in /usr/local/lib/python3.7/dist-packages (from tensorboard~=2.6->tensorflow<2.8,>=2.7.0->tensorflow_text) (0.6.1)\n",
            "Requirement already satisfied: requests<3,>=2.21.0 in /usr/local/lib/python3.7/dist-packages (from tensorboard~=2.6->tensorflow<2.8,>=2.7.0->tensorflow_text) (2.23.0)\n",
            "Requirement already satisfied: cachetools<5.0,>=2.0.0 in /usr/local/lib/python3.7/dist-packages (from google-auth<3,>=1.6.3->tensorboard~=2.6->tensorflow<2.8,>=2.7.0->tensorflow_text) (4.2.4)\n",
            "Requirement already satisfied: pyasn1-modules>=0.2.1 in /usr/local/lib/python3.7/dist-packages (from google-auth<3,>=1.6.3->tensorboard~=2.6->tensorflow<2.8,>=2.7.0->tensorflow_text) (0.2.8)\n",
            "Requirement already satisfied: rsa<5,>=3.1.4 in /usr/local/lib/python3.7/dist-packages (from google-auth<3,>=1.6.3->tensorboard~=2.6->tensorflow<2.8,>=2.7.0->tensorflow_text) (4.8)\n",
            "Requirement already satisfied: requests-oauthlib>=0.7.0 in /usr/local/lib/python3.7/dist-packages (from google-auth-oauthlib<0.5,>=0.4.1->tensorboard~=2.6->tensorflow<2.8,>=2.7.0->tensorflow_text) (1.3.0)\n",
            "Requirement already satisfied: importlib-metadata>=4.4 in /usr/local/lib/python3.7/dist-packages (from markdown>=2.6.8->tensorboard~=2.6->tensorflow<2.8,>=2.7.0->tensorflow_text) (4.10.0)\n",
            "Requirement already satisfied: zipp>=0.5 in /usr/local/lib/python3.7/dist-packages (from importlib-metadata>=4.4->markdown>=2.6.8->tensorboard~=2.6->tensorflow<2.8,>=2.7.0->tensorflow_text) (3.7.0)\n",
            "Requirement already satisfied: pyasn1<0.5.0,>=0.4.6 in /usr/local/lib/python3.7/dist-packages (from pyasn1-modules>=0.2.1->google-auth<3,>=1.6.3->tensorboard~=2.6->tensorflow<2.8,>=2.7.0->tensorflow_text) (0.4.8)\n",
            "Requirement already satisfied: idna<3,>=2.5 in /usr/local/lib/python3.7/dist-packages (from requests<3,>=2.21.0->tensorboard~=2.6->tensorflow<2.8,>=2.7.0->tensorflow_text) (2.10)\n",
            "Requirement already satisfied: urllib3!=1.25.0,!=1.25.1,<1.26,>=1.21.1 in /usr/local/lib/python3.7/dist-packages (from requests<3,>=2.21.0->tensorboard~=2.6->tensorflow<2.8,>=2.7.0->tensorflow_text) (1.24.3)\n",
            "Requirement already satisfied: certifi>=2017.4.17 in /usr/local/lib/python3.7/dist-packages (from requests<3,>=2.21.0->tensorboard~=2.6->tensorflow<2.8,>=2.7.0->tensorflow_text) (2021.10.8)\n",
            "Requirement already satisfied: chardet<4,>=3.0.2 in /usr/local/lib/python3.7/dist-packages (from requests<3,>=2.21.0->tensorboard~=2.6->tensorflow<2.8,>=2.7.0->tensorflow_text) (3.0.4)\n",
            "Requirement already satisfied: oauthlib>=3.0.0 in /usr/local/lib/python3.7/dist-packages (from requests-oauthlib>=0.7.0->google-auth-oauthlib<0.5,>=0.4.1->tensorboard~=2.6->tensorflow<2.8,>=2.7.0->tensorflow_text) (3.1.1)\n",
            "Installing collected packages: tensorflow-text\n",
            "Successfully installed tensorflow-text-2.7.3\n"
          ]
        }
      ]
    },
    {
      "cell_type": "code",
      "source": [
        "X_train, X_test, y_train, y_test = train_test_split(X, y, test_size=0.33, random_state=42)"
      ],
      "metadata": {
        "id": "vAQzZEMCALVa"
      },
      "execution_count": 198,
      "outputs": []
    },
    {
      "cell_type": "code",
      "source": [
        "X_train_NN = X_train.text.values\n",
        "X_test_NN = X_test.text.values"
      ],
      "metadata": {
        "id": "l4xxW95VALZP"
      },
      "execution_count": 199,
      "outputs": []
    },
    {
      "cell_type": "code",
      "source": [
        "bert_encoder = hub.KerasLayer(\"https://tfhub.dev/tensorflow/bert_en_uncased_L-12_H-768_A-12/4\")\n",
        "bert_preprocess = hub.KerasLayer(\"https://tfhub.dev/tensorflow/bert_en_uncased_preprocess/3\")"
      ],
      "metadata": {
        "id": "fpsC8PO8-vh8"
      },
      "execution_count": 200,
      "outputs": []
    },
    {
      "cell_type": "code",
      "source": [
        "# Bert layers\n",
        "text_input = tf.keras.layers.Input(shape=(), dtype=tf.string, name='text')\n",
        "preprocessed_text = bert_preprocess(text_input)\n",
        "outputs = bert_encoder(preprocessed_text)\n",
        "\n",
        "# Neural network layers\n",
        "l_1 = tf.keras.layers.Dropout(0.1, name=\"dropout\")(outputs['pooled_output'])\n",
        "l_2 = tf.keras.layers.Dense(128, activation='relu', name=\"output1\")(l_1)\n",
        "l_3 = tf.keras.layers.Dense(64, activation='relu', name=\"output2\")(l_2)\n",
        "l_4 = tf.keras.layers.Dense(32, activation='relu', name=\"output3\")(l_3)\n",
        "l_5 = tf.keras.layers.Dense(1, activation='sigmoid', name=\"output4\")(l_4)\n",
        "\n",
        "# Use inputs and outputs to construct a final model\n",
        "model_3 = tf.keras.Model(inputs=[text_input], outputs = [l_5])\n",
        "\n",
        "model_3.summary()"
      ],
      "metadata": {
        "colab": {
          "base_uri": "https://localhost:8080/"
        },
        "id": "6GCDDKYo-vka",
        "outputId": "f7f83a8c-9d22-46c2-878a-fa8395b08350"
      },
      "execution_count": 201,
      "outputs": [
        {
          "output_type": "stream",
          "name": "stdout",
          "text": [
            "Model: \"model\"\n",
            "__________________________________________________________________________________________________\n",
            " Layer (type)                   Output Shape         Param #     Connected to                     \n",
            "==================================================================================================\n",
            " text (InputLayer)              [(None,)]            0           []                               \n",
            "                                                                                                  \n",
            " keras_layer_1 (KerasLayer)     {'input_word_ids':   0           ['text[0][0]']                   \n",
            "                                (None, 128),                                                      \n",
            "                                 'input_type_ids':                                                \n",
            "                                (None, 128),                                                      \n",
            "                                 'input_mask': (Non                                               \n",
            "                                e, 128)}                                                          \n",
            "                                                                                                  \n",
            " keras_layer (KerasLayer)       {'sequence_output':  109482241   ['keras_layer_1[0][0]',          \n",
            "                                 (None, 128, 768),                'keras_layer_1[0][1]',          \n",
            "                                 'encoder_outputs':               'keras_layer_1[0][2]']          \n",
            "                                 [(None, 128, 768),                                               \n",
            "                                 (None, 128, 768),                                                \n",
            "                                 (None, 128, 768),                                                \n",
            "                                 (None, 128, 768),                                                \n",
            "                                 (None, 128, 768),                                                \n",
            "                                 (None, 128, 768),                                                \n",
            "                                 (None, 128, 768),                                                \n",
            "                                 (None, 128, 768),                                                \n",
            "                                 (None, 128, 768),                                                \n",
            "                                 (None, 128, 768),                                                \n",
            "                                 (None, 128, 768),                                                \n",
            "                                 (None, 128, 768)],                                               \n",
            "                                 'default': (None,                                                \n",
            "                                768),                                                             \n",
            "                                 'pooled_output': (                                               \n",
            "                                None, 768)}                                                       \n",
            "                                                                                                  \n",
            " dropout (Dropout)              (None, 768)          0           ['keras_layer[0][13]']           \n",
            "                                                                                                  \n",
            " output1 (Dense)                (None, 128)          98432       ['dropout[0][0]']                \n",
            "                                                                                                  \n",
            " output2 (Dense)                (None, 64)           8256        ['output1[0][0]']                \n",
            "                                                                                                  \n",
            " output3 (Dense)                (None, 32)           2080        ['output2[0][0]']                \n",
            "                                                                                                  \n",
            " output4 (Dense)                (None, 1)            33          ['output3[0][0]']                \n",
            "                                                                                                  \n",
            "==================================================================================================\n",
            "Total params: 109,591,042\n",
            "Trainable params: 108,801\n",
            "Non-trainable params: 109,482,241\n",
            "__________________________________________________________________________________________________\n"
          ]
        }
      ]
    },
    {
      "cell_type": "code",
      "source": [
        "model_3.compile(optimizer='adam',\n",
        "              loss='binary_crossentropy',\n",
        "              metrics=METRICS)"
      ],
      "metadata": {
        "id": "fddJojRe-vmx"
      },
      "execution_count": 202,
      "outputs": []
    },
    {
      "cell_type": "code",
      "source": [
        "history_3 = model_3.fit(X_train_NN, y_train, epochs=5, validation_data=(X_test_NN, y_test), verbose = 1)"
      ],
      "metadata": {
        "colab": {
          "base_uri": "https://localhost:8080/"
        },
        "id": "irSpvUM5_u8Z",
        "outputId": "36ae78ff-6ced-4ee5-ab3b-4601f3a590e9"
      },
      "execution_count": 210,
      "outputs": [
        {
          "output_type": "stream",
          "name": "stdout",
          "text": [
            "Epoch 1/5\n",
            "362/362 [==============================] - 193s 535ms/step - loss: 0.5589 - accuracy: 0.7093 - precision: 0.6933 - recall: 0.8678 - val_loss: 0.5467 - val_accuracy: 0.7206 - val_precision: 0.6951 - val_recall: 0.9232\n",
            "Epoch 2/5\n",
            "362/362 [==============================] - 194s 535ms/step - loss: 0.5613 - accuracy: 0.7044 - precision: 0.6910 - recall: 0.8594 - val_loss: 0.5364 - val_accuracy: 0.7190 - val_precision: 0.7112 - val_recall: 0.8682\n",
            "Epoch 3/5\n",
            "362/362 [==============================] - 194s 535ms/step - loss: 0.5597 - accuracy: 0.7044 - precision: 0.6883 - recall: 0.8686 - val_loss: 0.5673 - val_accuracy: 0.7196 - val_precision: 0.7234 - val_recall: 0.8361\n",
            "Epoch 4/5\n",
            "362/362 [==============================] - 193s 534ms/step - loss: 0.5562 - accuracy: 0.7058 - precision: 0.6914 - recall: 0.8626 - val_loss: 0.5507 - val_accuracy: 0.7096 - val_precision: 0.7528 - val_recall: 0.7433\n",
            "Epoch 5/5\n",
            "362/362 [==============================] - 193s 534ms/step - loss: 0.5556 - accuracy: 0.7067 - precision: 0.6940 - recall: 0.8572 - val_loss: 0.5321 - val_accuracy: 0.7248 - val_precision: 0.7174 - val_recall: 0.8673\n"
          ]
        }
      ]
    },
    {
      "cell_type": "code",
      "source": [
        "plot_loss(history_3)"
      ],
      "metadata": {
        "colab": {
          "base_uri": "https://localhost:8080/",
          "height": 549
        },
        "id": "xTL5GN4BApqI",
        "outputId": "0fbbe047-f039-4d56-be73-e8eb5474c4cd"
      },
      "execution_count": 211,
      "outputs": [
        {
          "output_type": "display_data",
          "data": {
            "image/png": "[encoded data removed]",
            "text/plain": [
              "<Figure size 432x288 with 1 Axes>"
            ]
          },
          "metadata": {
            "needs_background": "light"
          }
        },
        {
          "output_type": "display_data",
          "data": {
            "image/png": "[encoded data removed]",
            "text/plain": [
              "<Figure size 432x288 with 1 Axes>"
            ]
          },
          "metadata": {
            "needs_background": "light"
          }
        }
      ]
    },
    {
      "cell_type": "code",
      "source": [
        "X_train_pred = model_3.predict(X_train_NN)\n",
        "X_test_pred = model_3.predict(X_test_NN)"
      ],
      "metadata": {
        "id": "W6tcmdH2Fd1h"
      },
      "execution_count": 212,
      "outputs": []
    },
    {
      "cell_type": "code",
      "source": [
        "X_train_p = np.array([x[0] for x in X_train_pred])\n",
        "X_test_p = np.array([x[0] for x in X_test_pred])"
      ],
      "metadata": {
        "id": "v06SrDalAVTD"
      },
      "execution_count": 213,
      "outputs": []
    },
    {
      "cell_type": "code",
      "source": [
        "from sklearn.metrics import confusion_matrix\n",
        "\n",
        "#first is category 0 then category 1. Check:\n",
        "#np.logical_and((y_test ==1),np.array([x[0] for x in (round(X_test_p) == 1).values])).sum()\n",
        "\n",
        "results = confusion_matrix(y_test, X_test_p.round())\n",
        "print(results)\n",
        "\n",
        "import seaborn as sns\n",
        "\n",
        "ax = sns.heatmap(results, annot=True, cmap='Blues')\n",
        "\n",
        "ax.set_title('Confusion Matrix');\n",
        "ax.set_xlabel('\\nPredicted Values')\n",
        "ax.set_ylabel('Actual Values ');\n",
        "\n",
        "ax.xaxis.set_ticklabels(['False - 0','True - 1'])\n",
        "ax.yaxis.set_ticklabels(['False - 0','True - 1'])\n",
        "\n",
        "## Display the visualization of the Confusion Matrix.\n",
        "plt.show()"
      ],
      "metadata": {
        "colab": {
          "base_uri": "https://localhost:8080/",
          "height": 342
        },
        "id": "01RzdJAZAVWX",
        "outputId": "077c1e75-a855-4c84-f21c-a8fbf1b263e2"
      },
      "execution_count": 214,
      "outputs": [
        {
          "output_type": "stream",
          "name": "stdout",
          "text": [
            "[[1265 1130]\n",
            " [ 439 2868]]\n"
          ]
        },
        {
          "output_type": "display_data",
          "data": {
            "image/png": "[encoded data removed]",
            "text/plain": [
              "<Figure size 432x288 with 2 Axes>"
            ]
          },
          "metadata": {
            "needs_background": "light"
          }
        }
      ]
    },
    {
      "cell_type": "code",
      "source": [
        "diag_graphs(model_3, X_test_NN, y_test)"
      ],
      "metadata": {
        "colab": {
          "base_uri": "https://localhost:8080/",
          "height": 337
        },
        "id": "qKbRfjGq_vHm",
        "outputId": "e41c2e26-525c-47f6-c284-3ea77a0b89c0"
      },
      "execution_count": 209,
      "outputs": [
        {
          "output_type": "stream",
          "name": "stderr",
          "text": [
            "/usr/local/lib/python3.7/dist-packages/ipykernel_launcher.py:57: RuntimeWarning: invalid value encountered in true_divide\n"
          ]
        },
        {
          "output_type": "display_data",
          "data": {
            "image/png": "[encoded data removed]",
            "text/plain": [
              "<Figure size 432x288 with 4 Axes>"
            ]
          },
          "metadata": {
            "needs_background": "light"
          }
        },
        {
          "output_type": "stream",
          "name": "stdout",
          "text": [
            "AUC score for (TPR, FPR) - graph:  0.7933\n",
            "AUC-PR for (precision - recall) graph: 0.7983\n"
          ]
        }
      ]
    },
    {
      "cell_type": "markdown",
      "source": [
        "# 4. **BERT** - transformer for text classification with removing stop words and lematization."
      ],
      "metadata": {
        "id": "ULl_-z1I-sh6"
      }
    },
    {
      "cell_type": "code",
      "source": [
        "X_train, X_test, y_train, y_test = train_test_split(X_ls, y, test_size=0.33, random_state=42)"
      ],
      "metadata": {
        "colab": {
          "base_uri": "https://localhost:8080/",
          "height": 310
        },
        "id": "h3BndTuaF3SK",
        "outputId": "b3117b70-8713-42f7-edee-094922834a6b"
      },
      "execution_count": 215,
      "outputs": [
        {
          "output_type": "error",
          "ename": "ValueError",
          "evalue": "ignored",
          "traceback": [
            "\u001b[0;31m---------------------------------------------------------------------------\u001b[0m",
            "\u001b[0;31mValueError\u001b[0m                                Traceback (most recent call last)",
            "\u001b[0;32m<ipython-input-215-b683d0170738>\u001b[0m in \u001b[0;36m<module>\u001b[0;34m()\u001b[0m\n\u001b[0;32m----> 1\u001b[0;31m \u001b[0mX_train\u001b[0m\u001b[0;34m,\u001b[0m \u001b[0mX_test\u001b[0m\u001b[0;34m,\u001b[0m \u001b[0my_train\u001b[0m\u001b[0;34m,\u001b[0m \u001b[0my_test\u001b[0m \u001b[0;34m=\u001b[0m \u001b[0mtrain_test_split\u001b[0m\u001b[0;34m(\u001b[0m\u001b[0mX_ls\u001b[0m\u001b[0;34m,\u001b[0m \u001b[0my\u001b[0m\u001b[0;34m,\u001b[0m \u001b[0mtest_size\u001b[0m\u001b[0;34m=\u001b[0m\u001b[0;36m0.33\u001b[0m\u001b[0;34m,\u001b[0m \u001b[0mrandom_state\u001b[0m\u001b[0;34m=\u001b[0m\u001b[0;36m42\u001b[0m\u001b[0;34m)\u001b[0m\u001b[0;34m\u001b[0m\u001b[0;34m\u001b[0m\u001b[0m\n\u001b[0m",
            "\u001b[0;32m/usr/local/lib/python3.7/dist-packages/sklearn/model_selection/_split.py\u001b[0m in \u001b[0;36mtrain_test_split\u001b[0;34m(test_size, train_size, random_state, shuffle, stratify, *arrays)\u001b[0m\n\u001b[1;32m   2415\u001b[0m         \u001b[0;32mraise\u001b[0m \u001b[0mValueError\u001b[0m\u001b[0;34m(\u001b[0m\u001b[0;34m\"At least one array required as input\"\u001b[0m\u001b[0;34m)\u001b[0m\u001b[0;34m\u001b[0m\u001b[0;34m\u001b[0m\u001b[0m\n\u001b[1;32m   2416\u001b[0m \u001b[0;34m\u001b[0m\u001b[0m\n\u001b[0;32m-> 2417\u001b[0;31m     \u001b[0marrays\u001b[0m \u001b[0;34m=\u001b[0m \u001b[0mindexable\u001b[0m\u001b[0;34m(\u001b[0m\u001b[0;34m*\u001b[0m\u001b[0marrays\u001b[0m\u001b[0;34m)\u001b[0m\u001b[0;34m\u001b[0m\u001b[0;34m\u001b[0m\u001b[0m\n\u001b[0m\u001b[1;32m   2418\u001b[0m \u001b[0;34m\u001b[0m\u001b[0m\n\u001b[1;32m   2419\u001b[0m     \u001b[0mn_samples\u001b[0m \u001b[0;34m=\u001b[0m \u001b[0m_num_samples\u001b[0m\u001b[0;34m(\u001b[0m\u001b[0marrays\u001b[0m\u001b[0;34m[\u001b[0m\u001b[0;36m0\u001b[0m\u001b[0;34m]\u001b[0m\u001b[0;34m)\u001b[0m\u001b[0;34m\u001b[0m\u001b[0;34m\u001b[0m\u001b[0m\n",
            "\u001b[0;32m/usr/local/lib/python3.7/dist-packages/sklearn/utils/validation.py\u001b[0m in \u001b[0;36mindexable\u001b[0;34m(*iterables)\u001b[0m\n\u001b[1;32m    376\u001b[0m \u001b[0;34m\u001b[0m\u001b[0m\n\u001b[1;32m    377\u001b[0m     \u001b[0mresult\u001b[0m \u001b[0;34m=\u001b[0m \u001b[0;34m[\u001b[0m\u001b[0m_make_indexable\u001b[0m\u001b[0;34m(\u001b[0m\u001b[0mX\u001b[0m\u001b[0;34m)\u001b[0m \u001b[0;32mfor\u001b[0m \u001b[0mX\u001b[0m \u001b[0;32min\u001b[0m \u001b[0miterables\u001b[0m\u001b[0;34m]\u001b[0m\u001b[0;34m\u001b[0m\u001b[0;34m\u001b[0m\u001b[0m\n\u001b[0;32m--> 378\u001b[0;31m     \u001b[0mcheck_consistent_length\u001b[0m\u001b[0;34m(\u001b[0m\u001b[0;34m*\u001b[0m\u001b[0mresult\u001b[0m\u001b[0;34m)\u001b[0m\u001b[0;34m\u001b[0m\u001b[0;34m\u001b[0m\u001b[0m\n\u001b[0m\u001b[1;32m    379\u001b[0m     \u001b[0;32mreturn\u001b[0m \u001b[0mresult\u001b[0m\u001b[0;34m\u001b[0m\u001b[0;34m\u001b[0m\u001b[0m\n\u001b[1;32m    380\u001b[0m \u001b[0;34m\u001b[0m\u001b[0m\n",
            "\u001b[0;32m/usr/local/lib/python3.7/dist-packages/sklearn/utils/validation.py\u001b[0m in \u001b[0;36mcheck_consistent_length\u001b[0;34m(*arrays)\u001b[0m\n\u001b[1;32m    332\u001b[0m         raise ValueError(\n\u001b[1;32m    333\u001b[0m             \u001b[0;34m\"Found input variables with inconsistent numbers of samples: %r\"\u001b[0m\u001b[0;34m\u001b[0m\u001b[0;34m\u001b[0m\u001b[0m\n\u001b[0;32m--> 334\u001b[0;31m             \u001b[0;34m%\u001b[0m \u001b[0;34m[\u001b[0m\u001b[0mint\u001b[0m\u001b[0;34m(\u001b[0m\u001b[0ml\u001b[0m\u001b[0;34m)\u001b[0m \u001b[0;32mfor\u001b[0m \u001b[0ml\u001b[0m \u001b[0;32min\u001b[0m \u001b[0mlengths\u001b[0m\u001b[0;34m]\u001b[0m\u001b[0;34m\u001b[0m\u001b[0;34m\u001b[0m\u001b[0m\n\u001b[0m\u001b[1;32m    335\u001b[0m         )\n\u001b[1;32m    336\u001b[0m \u001b[0;34m\u001b[0m\u001b[0m\n",
            "\u001b[0;31mValueError\u001b[0m: Found input variables with inconsistent numbers of samples: [17273, 17278]"
          ]
        }
      ]
    },
    {
      "cell_type": "code",
      "source": [
        "X_train_NN = X_train.text.values\n",
        "X_test_NN = X_test.text.values"
      ],
      "metadata": {
        "id": "1LS5gIZmF3Ug"
      },
      "execution_count": null,
      "outputs": []
    },
    {
      "cell_type": "code",
      "source": [
        "# Bert layers\n",
        "text_input = tf.keras.layers.Input(shape=(), dtype=tf.string, name='text')\n",
        "preprocessed_text = bert_preprocess(text_input)\n",
        "outputs = bert_encoder(preprocessed_text)\n",
        "\n",
        "# Neural network layers\n",
        "l_1 = tf.keras.layers.Dropout(0.1, name=\"dropout\")(outputs['pooled_output'])\n",
        "l_2 = tf.keras.layers.Dense(128, activation='relu', name=\"output1\")(l_1)\n",
        "l_3 = tf.keras.layers.Dense(64, activation='relu', name=\"output2\")(l_2)\n",
        "l_4 = tf.keras.layers.Dense(32, activation='relu', name=\"output3\")(l_3)\n",
        "l_5 = tf.keras.layers.Dense(1, activation='sigmoid', name=\"output4\")(l_4)\n",
        "\n",
        "# Use inputs and outputs to construct a final model\n",
        "model_4 = tf.keras.Model(inputs=[text_input], outputs = [l_5])\n",
        "\n",
        "model_4.summary()"
      ],
      "metadata": {
        "id": "GiTl_vdEF3XN"
      },
      "execution_count": null,
      "outputs": []
    },
    {
      "cell_type": "code",
      "source": [
        "model_4.compile(optimizer='adam',\n",
        "              loss='binary_crossentropy',\n",
        "              metrics=METRICS)"
      ],
      "metadata": {
        "id": "68EkxBdtF3Zf"
      },
      "execution_count": null,
      "outputs": []
    },
    {
      "cell_type": "code",
      "source": [
        "history_4 = model_4.fit(X_train_NN, y_train, epochs=5, validation_data=(X_test_NN, y_test), verbose = 1)"
      ],
      "metadata": {
        "id": "R-9jd0eNF3bs"
      },
      "execution_count": null,
      "outputs": []
    },
    {
      "cell_type": "code",
      "source": [
        "plot_loss(history_4)"
      ],
      "metadata": {
        "id": "3dji00-aF3eA"
      },
      "execution_count": null,
      "outputs": []
    },
    {
      "cell_type": "code",
      "source": [
        "X_train_pred = model_4.predict(X_train_NN)\n",
        "X_test_pred = model_4.predict(X_test_NN)"
      ],
      "metadata": {
        "id": "EoYIOwihF3hP"
      },
      "execution_count": null,
      "outputs": []
    },
    {
      "cell_type": "code",
      "source": [
        "X_train_p = np.array([x[0] for x in X_train_pred])\n",
        "X_test_p = np.array([x[0] for x in X_test_pred])"
      ],
      "metadata": {
        "id": "p1_FBZQBF3jK"
      },
      "execution_count": null,
      "outputs": []
    },
    {
      "cell_type": "code",
      "source": [
        "from sklearn.metrics import confusion_matrix\n",
        "\n",
        "#first is category 0 then category 1. Check:\n",
        "#np.logical_and((y_test ==1),np.array([x[0] for x in (round(X_test_p) == 1).values])).sum()\n",
        "\n",
        "results = confusion_matrix(y_test, X_test_p.round())\n",
        "print(results)\n",
        "\n",
        "import seaborn as sns\n",
        "\n",
        "ax = sns.heatmap(results, annot=True, cmap='Blues')\n",
        "\n",
        "ax.set_title('Confusion Matrix');\n",
        "ax.set_xlabel('\\nPredicted Values')\n",
        "ax.set_ylabel('Actual Values ');\n",
        "\n",
        "ax.xaxis.set_ticklabels(['False - 0','True - 1'])\n",
        "ax.yaxis.set_ticklabels(['False - 0','True - 1'])\n",
        "\n",
        "## Display the visualization of the Confusion Matrix.\n",
        "plt.show()"
      ],
      "metadata": {
        "id": "cdpTMWgVF3lA"
      },
      "execution_count": null,
      "outputs": []
    },
    {
      "cell_type": "code",
      "source": [
        "diag_graphs(model_4, X_test_padded_NN, y_test)"
      ],
      "metadata": {
        "id": "chX7-aCwF3nO"
      },
      "execution_count": null,
      "outputs": []
    }
  ]
}